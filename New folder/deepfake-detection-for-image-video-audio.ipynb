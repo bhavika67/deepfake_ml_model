{
 "cells": [
  {
   "cell_type": "code",
   "execution_count": null,
   "metadata": {
    "_cell_guid": "b1076dfc-b9ad-4769-8c92-a6c4dae69d19",
    "_uuid": "8f2839f25d086af736a60e9eeb907d3b93b6e0e5",
    "execution": {
     "iopub.execute_input": "2024-02-16T14:25:59.85634Z",
     "iopub.status.busy": "2024-02-16T14:25:59.855997Z",
     "iopub.status.idle": "2024-02-16T14:26:00.376358Z",
     "shell.execute_reply": "2024-02-16T14:26:00.375707Z",
     "shell.execute_reply.started": "2024-02-16T14:25:59.856281Z"
    },
    "trusted": true
   },
   "outputs": [],
   "source": [
    "import numpy as np \n",
    "import pandas as pd \n",
    "import os\n"
   ]
  },
  {
   "cell_type": "code",
   "execution_count": null,
   "metadata": {
    "execution": {
     "iopub.execute_input": "2024-02-16T14:26:00.378479Z",
     "iopub.status.busy": "2024-02-16T14:26:00.37826Z",
     "iopub.status.idle": "2024-02-16T14:26:08.322798Z",
     "shell.execute_reply": "2024-02-16T14:26:08.322049Z",
     "shell.execute_reply.started": "2024-02-16T14:26:00.378441Z"
    },
    "trusted": true
   },
   "outputs": [],
   "source": [
    "!pip install facenet-pytorch"
   ]
  },
  {
   "cell_type": "code",
   "execution_count": null,
   "metadata": {
    "execution": {
     "iopub.execute_input": "2024-02-16T14:26:08.324814Z",
     "iopub.status.busy": "2024-02-16T14:26:08.324524Z",
     "iopub.status.idle": "2024-02-16T14:26:11.662907Z",
     "shell.execute_reply": "2024-02-16T14:26:11.662255Z",
     "shell.execute_reply.started": "2024-02-16T14:26:08.324758Z"
    },
    "trusted": true
   },
   "outputs": [],
   "source": [
    "import os\n",
    "import zipfile\n",
    "import numpy as np\n",
    "import pandas as pd\n",
    "import matplotlib\n",
    "import seaborn as sns\n",
    "import torch\n",
    "import matplotlib.pyplot as plt\n",
    "# from tqdm import tqdm_notebook\n",
    "%matplotlib inline \n",
    "# from google.colab.patches import cv2_imshow\n",
    "from IPython.display import HTML #imports to play videos\n",
    "from base64 import b64encode \n",
    "import cv2 as cv\n",
    "from skimage.measure import compare_ssim\n",
    "import glob\n",
    "import time\n",
    "from PIL import Image\n",
    "from facenet_pytorch import MTCNN, InceptionResnetV1, extract_face\n",
    "from tqdm import tqdm\n",
    "\n",
    "import math\n",
    "import pickle\n",
    "from functools import partial\n",
    "from collections import defaultdict\n",
    "\n",
    "from PIL import Image\n",
    "from glob import glob\n",
    "\n",
    "import cv2\n",
    "import skimage.measure\n",
    "import albumentations as A\n",
    "from tqdm.notebook import tqdm \n",
    "from albumentations.pytorch import ToTensor \n",
    "\n",
    "import torch\n",
    "import torch.nn as nn\n",
    "import torch.nn.functional as F\n",
    "from torch.autograd import Variable\n",
    "from torchvision.models.video import mc3_18, r2plus1d_18\n",
    "\n",
    "from facenet_pytorch import MTCNN"
   ]
  },
  {
   "cell_type": "code",
   "execution_count": null,
   "metadata": {
    "execution": {
     "iopub.execute_input": "2024-02-16T14:26:11.664817Z",
     "iopub.status.busy": "2024-02-16T14:26:11.664489Z",
     "iopub.status.idle": "2024-02-16T14:26:11.669251Z",
     "shell.execute_reply": "2024-02-16T14:26:11.668298Z",
     "shell.execute_reply.started": "2024-02-16T14:26:11.664756Z"
    },
    "trusted": true
   },
   "outputs": [],
   "source": [
    "DATA_FOLDER = \"../input/deepfake-detection-challenge\" \n",
    "TRAIN_SAMPLE_FOLDER = \"train_sample_videos\"\n",
    "TEST_FOLDER = \"test_videos\""
   ]
  },
  {
   "cell_type": "code",
   "execution_count": null,
   "metadata": {
    "execution": {
     "iopub.execute_input": "2024-02-16T14:26:11.672555Z",
     "iopub.status.busy": "2024-02-16T14:26:11.672295Z",
     "iopub.status.idle": "2024-02-16T14:26:11.691523Z",
     "shell.execute_reply": "2024-02-16T14:26:11.690705Z",
     "shell.execute_reply.started": "2024-02-16T14:26:11.6725Z"
    },
    "trusted": true
   },
   "outputs": [],
   "source": [
    "FACE_DETECTION_FOLDER = '../input/haarcascades'\n",
    "print(f\"Face detection resources: {os.listdir(FACE_DETECTION_FOLDER)}\")    "
   ]
  },
  {
   "cell_type": "code",
   "execution_count": null,
   "metadata": {
    "execution": {
     "iopub.execute_input": "2024-02-16T14:26:11.694263Z",
     "iopub.status.busy": "2024-02-16T14:26:11.693996Z",
     "iopub.status.idle": "2024-02-16T14:26:11.80668Z",
     "shell.execute_reply": "2024-02-16T14:26:11.805865Z",
     "shell.execute_reply.started": "2024-02-16T14:26:11.694212Z"
    },
    "trusted": true
   },
   "outputs": [],
   "source": [
    "train_list = list(os.listdir(os.path.join(DATA_FOLDER, TRAIN_SAMPLE_FOLDER)))\n",
    "ext_dict = []\n",
    "for file in train_list:\n",
    "    file_ext = file.split('.')[1]\n",
    "    if (file_ext not in ext_dict):\n",
    "        ext_dict.append(file_ext)\n",
    "print(f\"Extensions: {ext_dict}\") "
   ]
  },
  {
   "cell_type": "code",
   "execution_count": null,
   "metadata": {
    "execution": {
     "iopub.execute_input": "2024-02-16T14:26:11.808431Z",
     "iopub.status.busy": "2024-02-16T14:26:11.808086Z",
     "iopub.status.idle": "2024-02-16T14:26:11.989002Z",
     "shell.execute_reply": "2024-02-16T14:26:11.988297Z",
     "shell.execute_reply.started": "2024-02-16T14:26:11.808373Z"
    },
    "trusted": true
   },
   "outputs": [],
   "source": [
    "test_list = list(os.listdir(os.path.join(DATA_FOLDER, TEST_FOLDER)))\n",
    "ext_dict = []\n",
    "for file in test_list:\n",
    "    file_ext = file.split('.')[1]\n",
    "    if (file_ext not in ext_dict):\n",
    "        ext_dict.append(file_ext)\n",
    "print(f\"Extensions: {ext_dict}\")"
   ]
  },
  {
   "cell_type": "code",
   "execution_count": null,
   "metadata": {
    "execution": {
     "iopub.execute_input": "2024-02-16T14:26:11.990824Z",
     "iopub.status.busy": "2024-02-16T14:26:11.990525Z",
     "iopub.status.idle": "2024-02-16T14:26:12.383703Z",
     "shell.execute_reply": "2024-02-16T14:26:12.382913Z",
     "shell.execute_reply.started": "2024-02-16T14:26:11.990769Z"
    },
    "trusted": true
   },
   "outputs": [],
   "source": [
    "json_file = [file for file in train_list if  file.endswith('json')][0]\n",
    "print(f\"JSON file: {json_file}\")\n",
    "#reading the json file\n",
    "def get_meta_from_json(path):\n",
    "    df = pd.read_json(os.path.join(DATA_FOLDER, path, json_file))\n",
    "    df = df.T\n",
    "    return df\n",
    "\n",
    "meta_train_df = get_meta_from_json(TRAIN_SAMPLE_FOLDER)\n",
    "meta_train_df.head()"
   ]
  },
  {
   "cell_type": "code",
   "execution_count": null,
   "metadata": {
    "execution": {
     "iopub.execute_input": "2024-02-16T14:26:12.385258Z",
     "iopub.status.busy": "2024-02-16T14:26:12.384982Z",
     "iopub.status.idle": "2024-02-16T14:26:12.392002Z",
     "shell.execute_reply": "2024-02-16T14:26:12.3913Z",
     "shell.execute_reply.started": "2024-02-16T14:26:12.385207Z"
    },
    "trusted": true
   },
   "outputs": [],
   "source": [
    "def missing_data(data):\n",
    "    total = data.isnull().sum()\n",
    "    percent = (data.isnull().sum()/data.isnull().count()*100)\n",
    "    tt = pd.concat([total, percent], axis=1, keys=['Total', 'Percent'])\n",
    "    types = []\n",
    "    for col in data.columns:\n",
    "        dtype = str(data[col].dtype)\n",
    "        types.append(dtype)\n",
    "    tt['Types'] = types\n",
    "    return(np.transpose(tt))"
   ]
  },
  {
   "cell_type": "code",
   "execution_count": null,
   "metadata": {
    "execution": {
     "iopub.execute_input": "2024-02-16T14:26:12.393562Z",
     "iopub.status.busy": "2024-02-16T14:26:12.393298Z",
     "iopub.status.idle": "2024-02-16T14:26:12.440025Z",
     "shell.execute_reply": "2024-02-16T14:26:12.439359Z",
     "shell.execute_reply.started": "2024-02-16T14:26:12.393506Z"
    },
    "trusted": true
   },
   "outputs": [],
   "source": [
    "missing_data(meta_train_df)"
   ]
  },
  {
   "cell_type": "code",
   "execution_count": null,
   "metadata": {
    "execution": {
     "iopub.execute_input": "2024-02-16T14:26:12.441574Z",
     "iopub.status.busy": "2024-02-16T14:26:12.441273Z",
     "iopub.status.idle": "2024-02-16T14:26:12.45735Z",
     "shell.execute_reply": "2024-02-16T14:26:12.456579Z",
     "shell.execute_reply.started": "2024-02-16T14:26:12.44152Z"
    },
    "trusted": true
   },
   "outputs": [],
   "source": [
    "missing_data(meta_train_df.loc[meta_train_df.label == 'REAL'])"
   ]
  },
  {
   "cell_type": "code",
   "execution_count": null,
   "metadata": {
    "execution": {
     "iopub.execute_input": "2024-02-16T14:26:12.459001Z",
     "iopub.status.busy": "2024-02-16T14:26:12.458623Z",
     "iopub.status.idle": "2024-02-16T14:26:12.4661Z",
     "shell.execute_reply": "2024-02-16T14:26:12.465512Z",
     "shell.execute_reply.started": "2024-02-16T14:26:12.458829Z"
    },
    "trusted": true
   },
   "outputs": [],
   "source": [
    "def unique_values(data):\n",
    "    total = data.count()\n",
    "    tt = pd.DataFrame(total)\n",
    "    tt.columns = ['Totals']\n",
    "    uniques = []\n",
    "    for col in data.columns:\n",
    "        unique = data[col].nunique() #collect all unique instances\n",
    "        uniques.append(unique)\n",
    "    tt['Uniques'] = uniques\n",
    "    return(np.transpose(tt))"
   ]
  },
  {
   "cell_type": "code",
   "execution_count": null,
   "metadata": {
    "execution": {
     "iopub.execute_input": "2024-02-16T14:26:12.467778Z",
     "iopub.status.busy": "2024-02-16T14:26:12.467534Z",
     "iopub.status.idle": "2024-02-16T14:26:12.484037Z",
     "shell.execute_reply": "2024-02-16T14:26:12.483253Z",
     "shell.execute_reply.started": "2024-02-16T14:26:12.46773Z"
    },
    "trusted": true
   },
   "outputs": [],
   "source": [
    "unique_values(meta_train_df)"
   ]
  },
  {
   "cell_type": "code",
   "execution_count": null,
   "metadata": {
    "execution": {
     "iopub.execute_input": "2024-02-16T14:26:12.486039Z",
     "iopub.status.busy": "2024-02-16T14:26:12.485821Z",
     "iopub.status.idle": "2024-02-16T14:26:12.493849Z",
     "shell.execute_reply": "2024-02-16T14:26:12.493176Z",
     "shell.execute_reply.started": "2024-02-16T14:26:12.486001Z"
    },
    "trusted": true
   },
   "outputs": [],
   "source": [
    "def most_frequent_values(data):\n",
    "    total = data.count()\n",
    "    tt = pd.DataFrame(total)\n",
    "    tt.columns = ['Total']\n",
    "    items = []\n",
    "    vals = []\n",
    "    for col in data.columns:\n",
    "        itm = data[col].value_counts().index[0]\n",
    "        val = data[col].value_counts().values[0]\n",
    "        items.append(itm)\n",
    "        vals.append(val)\n",
    "    tt['Most frequent item'] = items\n",
    "    tt['Frequence'] = vals\n",
    "    tt['Percent from total'] = np.round(vals / total * 100, 3)\n",
    "    return(np.transpose(tt))"
   ]
  },
  {
   "cell_type": "code",
   "execution_count": null,
   "metadata": {
    "execution": {
     "iopub.execute_input": "2024-02-16T14:26:12.495183Z",
     "iopub.status.busy": "2024-02-16T14:26:12.4949Z",
     "iopub.status.idle": "2024-02-16T14:26:12.525734Z",
     "shell.execute_reply": "2024-02-16T14:26:12.524903Z",
     "shell.execute_reply.started": "2024-02-16T14:26:12.495113Z"
    },
    "trusted": true
   },
   "outputs": [],
   "source": [
    "most_frequent_values(meta_train_df)"
   ]
  },
  {
   "cell_type": "code",
   "execution_count": null,
   "metadata": {
    "execution": {
     "iopub.execute_input": "2024-02-16T14:26:12.527033Z",
     "iopub.status.busy": "2024-02-16T14:26:12.526811Z",
     "iopub.status.idle": "2024-02-16T14:26:12.61191Z",
     "shell.execute_reply": "2024-02-16T14:26:12.610996Z",
     "shell.execute_reply.started": "2024-02-16T14:26:12.526995Z"
    },
    "trusted": true
   },
   "outputs": [],
   "source": [
    "most_frequent_values(meta_train_df.loc[meta_train_df.label == 'FAKE'])"
   ]
  },
  {
   "cell_type": "code",
   "execution_count": null,
   "metadata": {
    "execution": {
     "iopub.execute_input": "2024-02-16T14:26:12.613526Z",
     "iopub.status.busy": "2024-02-16T14:26:12.613267Z",
     "iopub.status.idle": "2024-02-16T14:26:12.623404Z",
     "shell.execute_reply": "2024-02-16T14:26:12.622772Z",
     "shell.execute_reply.started": "2024-02-16T14:26:12.613477Z"
    },
    "trusted": true
   },
   "outputs": [],
   "source": [
    "def plot_count(feature, title, df, size=1):\n",
    "  '''\n",
    "    Plot count of classes / feature\n",
    "    param: feature - the feature to analyze\n",
    "    param: title - title to add to the graph\n",
    "    param: df - dataframe from which we plot feature's classes distribution \n",
    "    param: size - default 1.\n",
    "  '''  \n",
    "  f, ax = plt.subplots(1,1, figsize=(4*size,4))\n",
    "  total = float(len(df))\n",
    "  g =  sns.countplot(df[feature], order = df[feature].value_counts().index[:20], palette='Set3')\n",
    "  g.set_title(\"Number and percentage of {}\".format(title)) \n",
    "  if(size > 2):\n",
    "    plt.xticks(rotation=90, size=8)\n",
    "  for p in ax.patches:\n",
    "     height = p.get_height()\n",
    "     ax.text(p.get_x()+ p.get_width()/2.,height + 3,'{:1.2f}%'.format(100*height/total),ha=\"center\")\n",
    "\n",
    "  plt.show()"
   ]
  },
  {
   "cell_type": "code",
   "execution_count": null,
   "metadata": {
    "execution": {
     "iopub.execute_input": "2024-02-16T14:26:12.625096Z",
     "iopub.status.busy": "2024-02-16T14:26:12.624788Z",
     "iopub.status.idle": "2024-02-16T14:26:12.850021Z",
     "shell.execute_reply": "2024-02-16T14:26:12.849032Z",
     "shell.execute_reply.started": "2024-02-16T14:26:12.625036Z"
    },
    "trusted": true
   },
   "outputs": [],
   "source": [
    "plot_count('split','split(train)',meta_train_df)"
   ]
  },
  {
   "cell_type": "code",
   "execution_count": null,
   "metadata": {
    "execution": {
     "iopub.execute_input": "2024-02-16T14:26:12.851806Z",
     "iopub.status.busy": "2024-02-16T14:26:12.851348Z",
     "iopub.status.idle": "2024-02-16T14:26:12.970383Z",
     "shell.execute_reply": "2024-02-16T14:26:12.969388Z",
     "shell.execute_reply.started": "2024-02-16T14:26:12.851752Z"
    },
    "trusted": true
   },
   "outputs": [],
   "source": [
    "plot_count('label','label(train)',meta_train_df)"
   ]
  },
  {
   "cell_type": "code",
   "execution_count": null,
   "metadata": {
    "execution": {
     "iopub.execute_input": "2024-02-16T14:26:12.972366Z",
     "iopub.status.busy": "2024-02-16T14:26:12.971795Z",
     "iopub.status.idle": "2024-02-16T14:26:12.982057Z",
     "shell.execute_reply": "2024-02-16T14:26:12.981303Z",
     "shell.execute_reply.started": "2024-02-16T14:26:12.972058Z"
    },
    "trusted": true
   },
   "outputs": [],
   "source": [
    "meta = np.array(list(meta_train_df.index))\n",
    "storage = np.array([file for file in train_list if  file.endswith('mp4')])\n",
    "print(f\"Metadata: {meta.shape[0]}, Folder: {storage.shape[0]}\")\n",
    "print(f\"Files in metadata and not in folder: {np.setdiff1d(meta,storage,assume_unique=False).shape[0]}\")\n",
    "print(f\"Files in folder and not in metadata: {np.setdiff1d(storage,meta,assume_unique=False).shape[0]}\")"
   ]
  },
  {
   "cell_type": "code",
   "execution_count": null,
   "metadata": {
    "execution": {
     "iopub.execute_input": "2024-02-16T14:26:12.983974Z",
     "iopub.status.busy": "2024-02-16T14:26:12.983453Z",
     "iopub.status.idle": "2024-02-16T14:26:12.992217Z",
     "shell.execute_reply": "2024-02-16T14:26:12.991551Z",
     "shell.execute_reply.started": "2024-02-16T14:26:12.983923Z"
    },
    "trusted": true
   },
   "outputs": [],
   "source": [
    "fake_train_sample_video = list(meta_train_df.loc[meta_train_df.label=='FAKE'].sample(3).index)\n",
    "fake_train_sample_video\n"
   ]
  },
  {
   "cell_type": "code",
   "execution_count": null,
   "metadata": {
    "execution": {
     "iopub.execute_input": "2024-02-16T14:26:12.994028Z",
     "iopub.status.busy": "2024-02-16T14:26:12.993518Z",
     "iopub.status.idle": "2024-02-16T14:26:13.000677Z",
     "shell.execute_reply": "2024-02-16T14:26:13.000122Z",
     "shell.execute_reply.started": "2024-02-16T14:26:12.993978Z"
    },
    "trusted": true
   },
   "outputs": [],
   "source": [
    "def display_image_from_video(video_path):\n",
    "    '''\n",
    "    input: video_path - path for video\n",
    "    process:\n",
    "    1. perform a video capture from the video\n",
    "    2. read the image\n",
    "    3. display the image\n",
    "    '''\n",
    "    capture_img = cv.VideoCapture(video_path)\n",
    "    ret, frame = capture_img.read()\n",
    "    fig = plt.figure(figsize=(10,10))\n",
    "    ax = fig.add_subplot(111)\n",
    "    frame = cv.cvtColor(frame, cv.COLOR_BGR2RGB)\n",
    "    ax.imshow(frame)"
   ]
  },
  {
   "cell_type": "code",
   "execution_count": null,
   "metadata": {
    "execution": {
     "iopub.execute_input": "2024-02-16T14:26:13.002427Z",
     "iopub.status.busy": "2024-02-16T14:26:13.001902Z",
     "iopub.status.idle": "2024-02-16T14:26:14.736232Z",
     "shell.execute_reply": "2024-02-16T14:26:14.735238Z",
     "shell.execute_reply.started": "2024-02-16T14:26:13.002377Z"
    },
    "trusted": true
   },
   "outputs": [],
   "source": [
    "for video_file in fake_train_sample_video:\n",
    "  display_image_from_video(os.path.join(DATA_FOLDER,TRAIN_SAMPLE_FOLDER,video_file))"
   ]
  },
  {
   "cell_type": "code",
   "execution_count": null,
   "metadata": {
    "execution": {
     "iopub.execute_input": "2024-02-16T14:26:14.738356Z",
     "iopub.status.busy": "2024-02-16T14:26:14.737717Z",
     "iopub.status.idle": "2024-02-16T14:26:14.747137Z",
     "shell.execute_reply": "2024-02-16T14:26:14.746338Z",
     "shell.execute_reply.started": "2024-02-16T14:26:14.738029Z"
    },
    "trusted": true
   },
   "outputs": [],
   "source": [
    "real_train_sample_video = list(meta_train_df.loc[meta_train_df.label=='REAL'].sample(3).index) #viewing the real videos\n",
    "real_train_sample_video"
   ]
  },
  {
   "cell_type": "code",
   "execution_count": null,
   "metadata": {
    "execution": {
     "iopub.execute_input": "2024-02-16T14:26:14.749234Z",
     "iopub.status.busy": "2024-02-16T14:26:14.748671Z",
     "iopub.status.idle": "2024-02-16T14:26:15.95552Z",
     "shell.execute_reply": "2024-02-16T14:26:15.954782Z",
     "shell.execute_reply.started": "2024-02-16T14:26:14.749171Z"
    },
    "trusted": true
   },
   "outputs": [],
   "source": [
    "for video in real_train_sample_video:\n",
    "  display_image_from_video(os.path.join(DATA_FOLDER,TRAIN_SAMPLE_FOLDER,video))"
   ]
  },
  {
   "cell_type": "code",
   "execution_count": null,
   "metadata": {
    "execution": {
     "iopub.execute_input": "2024-02-16T14:26:15.957639Z",
     "iopub.status.busy": "2024-02-16T14:26:15.957076Z",
     "iopub.status.idle": "2024-02-16T14:26:15.968675Z",
     "shell.execute_reply": "2024-02-16T14:26:15.967814Z",
     "shell.execute_reply.started": "2024-02-16T14:26:15.957589Z"
    },
    "trusted": true
   },
   "outputs": [],
   "source": [
    "def display_image_from_video_list(video_path_list, video_folder=TRAIN_SAMPLE_FOLDER):\n",
    "    '''\n",
    "    input: video_path_list - path for video\n",
    "    process:\n",
    "    0. for each video in the video path list\n",
    "        1. perform a video capture from the video\n",
    "        2. read the image\n",
    "        3. display the image\n",
    "    '''\n",
    "    plt.figure()\n",
    "    fig, ax = plt.subplots(2,3,figsize=(16,8))\n",
    "    #we only show images extracted from first 6 videos\n",
    "    for i, video_file in enumerate(video_path_list[0:6]):\n",
    "      video_path = os.path.join(DATA_FOLDER, video_folder, video_file)\n",
    "      capture_img = cv.VideoCapture(video_path)\n",
    "      ret, frame = capture_img.read()\n",
    "      frame = cv.cvtColor(frame, cv.COLOR_BGR2RGB)\n",
    "      ax[i//3, i%3].imshow(frame)\n",
    "      ax[i//3, i%3].set_title(f\"Video: {video_file}\")\n",
    "      ax[i//3, i%3].axis('on')"
   ]
  },
  {
   "cell_type": "code",
   "execution_count": null,
   "metadata": {
    "execution": {
     "iopub.execute_input": "2024-02-16T14:26:15.970813Z",
     "iopub.status.busy": "2024-02-16T14:26:15.970235Z",
     "iopub.status.idle": "2024-02-16T14:26:18.663549Z",
     "shell.execute_reply": "2024-02-16T14:26:18.662702Z",
     "shell.execute_reply.started": "2024-02-16T14:26:15.970761Z"
    },
    "trusted": true
   },
   "outputs": [],
   "source": [
    "same_original_fake_train_sample_video = list(meta_train_df.loc[meta_train_df.original=='meawmsgiti.mp4'].index)\n",
    "display_image_from_video_list(same_original_fake_train_sample_video)"
   ]
  },
  {
   "cell_type": "code",
   "execution_count": null,
   "metadata": {
    "execution": {
     "iopub.execute_input": "2024-02-16T14:26:18.665316Z",
     "iopub.status.busy": "2024-02-16T14:26:18.664928Z",
     "iopub.status.idle": "2024-02-16T14:26:23.116498Z",
     "shell.execute_reply": "2024-02-16T14:26:23.115616Z",
     "shell.execute_reply.started": "2024-02-16T14:26:18.665256Z"
    },
    "trusted": true
   },
   "outputs": [],
   "source": [
    "!tar xvf /kaggle/input/ffmpeg-static-build/ffmpeg-git-amd64-static.tar.xz"
   ]
  },
  {
   "cell_type": "code",
   "execution_count": null,
   "metadata": {
    "execution": {
     "iopub.execute_input": "2024-02-16T14:26:23.118452Z",
     "iopub.status.busy": "2024-02-16T14:26:23.118187Z",
     "iopub.status.idle": "2024-02-16T14:26:23.128478Z",
     "shell.execute_reply": "2024-02-16T14:26:23.127554Z",
     "shell.execute_reply.started": "2024-02-16T14:26:23.118406Z"
    },
    "trusted": true
   },
   "outputs": [],
   "source": [
    "import pandas as pd\n",
    "import numpy as np\n",
    "import glob, shutil\n",
    "import timeit, os, gc\n",
    "import subprocess as sp\n",
    "from tqdm import tqdm\n",
    "from collections import defaultdict\n",
    "from concurrent.futures import ProcessPoolExecutor, ThreadPoolExecutor\n",
    "import json\n",
    "from IPython.display import HTML\n",
    "from base64 import b64encode\n",
    "import cv2\n",
    "%matplotlib inline"
   ]
  },
  {
   "cell_type": "code",
   "execution_count": null,
   "metadata": {
    "execution": {
     "iopub.execute_input": "2024-02-16T14:26:23.130006Z",
     "iopub.status.busy": "2024-02-16T14:26:23.129755Z",
     "iopub.status.idle": "2024-02-16T14:26:23.143829Z",
     "shell.execute_reply": "2024-02-16T14:26:23.142958Z",
     "shell.execute_reply.started": "2024-02-16T14:26:23.129958Z"
    },
    "trusted": true
   },
   "outputs": [],
   "source": [
    "HOME = \"./\"\n",
    "FFMPEG = \"/kaggle/working/ffmpeg-git-20191209-amd64-static\"\n",
    "FFMPEG_PATH = FFMPEG\n",
    "DATA_FOLDER = \"/kaggle/input/deepfake-detection-challenge\"\n",
    "TMP_FOLDER = HOME\n",
    "DATA_FOLDER_TRAIN = DATA_FOLDER\n",
    "VIDEOS_FOLDER_TRAIN = DATA_FOLDER_TRAIN + \"/train_sample_videos\"\n",
    "IMAGES_FOLDER_TRAIN = TMP_FOLDER + \"/images\"\n",
    "AUDIOS_FOLDER_TRAIN = TMP_FOLDER + \"/audios\"\n",
    "EXTRACT_META = True # False\n",
    "EXTRACT_CONTENT = True # False\n",
    "EXTRACT_FACES = True # False\n",
    "FRAME_RATE = 0.5 # Frame per\n",
    "print(FFMPEG)"
   ]
  },
  {
   "cell_type": "code",
   "execution_count": null,
   "metadata": {
    "execution": {
     "iopub.execute_input": "2024-02-16T14:26:23.145568Z",
     "iopub.status.busy": "2024-02-16T14:26:23.145257Z",
     "iopub.status.idle": "2024-02-16T14:26:23.160062Z",
     "shell.execute_reply": "2024-02-16T14:26:23.159304Z",
     "shell.execute_reply.started": "2024-02-16T14:26:23.145511Z"
    },
    "trusted": true
   },
   "outputs": [],
   "source": [
    "def run_command(*popenargs, **kwargs):\n",
    "    closeNULL = 0\n",
    "    try:\n",
    "        from subprocess import DEVNULL\n",
    "        closeNULL = 0\n",
    "    except ImportError:\n",
    "        import os\n",
    "        DEVNULL = open(os.devnull, 'wb')\n",
    "        closeNULL = 1\n",
    "\n",
    "    process = sp.Popen(stdout=sp.PIPE, stderr=DEVNULL, *popenargs, **kwargs)\n",
    "    output, unused_err = process.communicate()\n",
    "    retcode = process.poll()\n",
    "\n",
    "    if closeNULL:\n",
    "        DEVNULL.close()\n",
    "\n",
    "    if retcode:\n",
    "        cmd = kwargs.get(\"args\")\n",
    "        if cmd is None:\n",
    "            cmd = popenargs[0]\n",
    "        error = sp.CalledProcessError(retcode, cmd)\n",
    "        error.output = output\n",
    "        raise error\n",
    "    return output\n",
    "\n",
    "def ffprobe(filename, options = [\"-show_error\", \"-show_format\", \"-show_streams\", \"-show_programs\", \"-show_chapters\", \"-show_private_data\"]):\n",
    "    ret = {}\n",
    "    command = [FFMPEG_PATH + \"/ffprobe\", \"-v\", \"error\", *options, \"-print_format\", \"json\", filename]\n",
    "    ret = run_command(command)\n",
    "    if ret:\n",
    "        ret = json.loads(ret)\n",
    "    return ret\n",
    "\n",
    "# ffmpeg -i input.mov -r 0.25 output_%04d.png\n",
    "def ffextract_frames(filename, output_folder, rate = 0.25):\n",
    "    command = [FFMPEG_PATH + \"/ffmpeg\", \"-i\", filename, \"-r\", str(rate), \"-y\", output_folder + \"/output_%04d.png\"]\n",
    "    ret = run_command(command)\n",
    "    return ret\n",
    "\n",
    "# ffmpeg -i input-video.mp4 output-audio.mp3\n",
    "def ffextract_audio(filename, output_path):\n",
    "    command = [FFMPEG_PATH + \"/ffmpeg\", \"-i\", filename, \"-vn\", \"-ac\", \"1\", \"-acodec\", \"copy\", \"-y\", output_path]\n",
    "    ret = run_command(command)\n",
    "    return ret"
   ]
  },
  {
   "cell_type": "code",
   "execution_count": null,
   "metadata": {
    "execution": {
     "iopub.execute_input": "2024-02-16T14:26:23.170662Z",
     "iopub.status.busy": "2024-02-16T14:26:23.170327Z",
     "iopub.status.idle": "2024-02-16T14:26:40.524338Z",
     "shell.execute_reply": "2024-02-16T14:26:40.523348Z",
     "shell.execute_reply.started": "2024-02-16T14:26:23.170612Z"
    },
    "trusted": true
   },
   "outputs": [],
   "source": [
    "if EXTRACT_META == True:\n",
    "    results = []\n",
    "    subfolder = VIDEOS_FOLDER_TRAIN\n",
    "    filepaths = glob.glob(subfolder + \"/*.mp4\")\n",
    "    for filepath in tqdm(filepaths):\n",
    "        js = ffprobe(filepath)\n",
    "#        print(js)\n",
    "        if js:\n",
    "            results.append(\n",
    "                (js.get(\"format\", {}).get(\"filename\")[len(subfolder) + 1:],\n",
    "                js.get(\"format\", {}).get(\"format_long_name\"),\n",
    "                # Video \n",
    "                js.get(\"streams\", [{}, {}])[0].get(\"codec_name\"),\n",
    "                js.get(\"streams\", [{}, {}])[0].get(\"height\"),\n",
    "                js.get(\"streams\", [{}, {}])[0].get(\"width\"),\n",
    "                js.get(\"streams\", [{}, {}])[0].get(\"nb_frames\"),\n",
    "                js.get(\"streams\", [{}, {}])[0].get(\"bit_rate\"),\n",
    "                js.get(\"streams\", [{}, {}])[0].get(\"duration\"),\n",
    "                js.get(\"streams\", [{}, {}])[0].get(\"start_time\"),\n",
    "                js.get(\"streams\", [{}, {}])[0].get(\"avg_frame_rate\"),\n",
    "                 # Audio\n",
    "                js.get(\"streams\", [{}, {}])[1].get(\"codec_name\"),\n",
    "                js.get(\"streams\", [{}, {}])[1].get(\"channels\"),\n",
    "                js.get(\"streams\", [{}, {}])[1].get(\"sample_rate\"),\n",
    "                js.get(\"streams\", [{}, {}])[1].get(\"nb_frames\"),\n",
    "                js.get(\"streams\", [{}, {}])[1].get(\"bit_rate\"),\n",
    "                js.get(\"streams\", [{}, {}])[1].get(\"duration\"),\n",
    "                js.get(\"streams\", [{}, {}])[1].get(\"start_time\")),\n",
    "            )\n",
    "\n",
    "    meta_pd = pd.DataFrame(results, columns=[\"filename\", \"format\", \"video_codec_name\", \"video_height\", \"video_width\",\n",
    "                                            \"video_nb_frames\", \"video_bit_rate\", \"video_duration\", \"video_start_time\",\"video_fps\",\n",
    "                                            \"audio_codec_name\", \"audio_channels\", \"audio_sample_rate\", \"audio_nb_frames\",\n",
    "                                            \"audio_bit_rate\", \"audio_duration\", \"audio_start_time\"])\n",
    "    meta_pd[\"video_fps\"] = meta_pd[\"video_fps\"].apply(lambda x: float(x.split(\"/\")[0])/float(x.split(\"/\")[1]) if len(x.split(\"/\")) == 2 else None)\n",
    "    meta_pd[\"video_duration\"] = meta_pd[\"video_duration\"].astype(np.float32)\n",
    "    meta_pd[\"video_bit_rate\"] = meta_pd[\"video_bit_rate\"].astype(np.float32)\n",
    "    meta_pd[\"video_start_time\"] = meta_pd[\"video_start_time\"].astype(np.float32)\n",
    "    meta_pd[\"video_nb_frames\"] = meta_pd[\"video_nb_frames\"].astype(np.float32)\n",
    "    meta_pd[\"video_bit_rate\"] = meta_pd[\"video_bit_rate\"].astype(np.float32)\n",
    "    meta_pd[\"audio_sample_rate\"] = meta_pd[\"audio_sample_rate\"].astype(np.float32)\n",
    "    meta_pd[\"audio_nb_frames\"] = meta_pd[\"audio_nb_frames\"].astype(np.float32)\n",
    "    meta_pd[\"audio_bit_rate\"] = meta_pd[\"audio_bit_rate\"].astype(np.float32)\n",
    "    meta_pd[\"audio_duration\"] = meta_pd[\"audio_duration\"].astype(np.float32)\n",
    "    meta_pd[\"audio_start_time\"] = meta_pd[\"audio_start_time\"].astype(np.float32)\n",
    "    meta_pd.to_pickle(HOME + \"videos_meta.pkl\")\n",
    "else:\n",
    "    meta_pd = pd.read_pickle(HOME + \"videos_meta.pkl\")\n",
    "meta_pd.head()"
   ]
  },
  {
   "cell_type": "code",
   "execution_count": null,
   "metadata": {
    "execution": {
     "iopub.execute_input": "2024-02-16T14:26:40.526973Z",
     "iopub.status.busy": "2024-02-16T14:26:40.526632Z",
     "iopub.status.idle": "2024-02-16T14:26:42.337763Z",
     "shell.execute_reply": "2024-02-16T14:26:42.336715Z",
     "shell.execute_reply.started": "2024-02-16T14:26:40.526909Z"
    },
    "trusted": true
   },
   "outputs": [],
   "source": [
    "fig, ax = plt.subplots(1,6, figsize=(22, 3))\n",
    "d = sns.distplot(meta_pd[\"video_fps\"], ax=ax[0])\n",
    "d = sns.distplot(meta_pd[\"video_duration\"], ax=ax[1])\n",
    "d = sns.distplot(meta_pd[\"video_width\"], ax=ax[2])\n",
    "d = sns.distplot(meta_pd[\"video_height\"], ax=ax[3])\n",
    "d = sns.distplot(meta_pd[\"video_nb_frames\"], ax=ax[4])\n",
    "d = sns.distplot(meta_pd[\"video_bit_rate\"], ax=ax[5])"
   ]
  },
  {
   "cell_type": "code",
   "execution_count": null,
   "metadata": {
    "execution": {
     "iopub.execute_input": "2024-02-16T14:26:42.340205Z",
     "iopub.status.busy": "2024-02-16T14:26:42.339599Z",
     "iopub.status.idle": "2024-02-16T14:26:44.015425Z",
     "shell.execute_reply": "2024-02-16T14:26:44.014357Z",
     "shell.execute_reply.started": "2024-02-16T14:26:42.340118Z"
    },
    "trusted": true
   },
   "outputs": [],
   "source": [
    "fig, ax = plt.subplots(1,6, figsize=(22, 3))\n",
    "d = sns.distplot(meta_pd[\"audio_channels\"], ax=ax[0])\n",
    "d = sns.distplot(meta_pd[\"audio_sample_rate\"], ax=ax[1])\n",
    "d = sns.distplot(meta_pd[\"audio_nb_frames\"], ax=ax[2])\n",
    "d = sns.distplot(meta_pd[\"audio_bit_rate\"], ax=ax[3])\n",
    "d = sns.distplot(meta_pd[\"audio_duration\"], ax=ax[4])\n",
    "d = sns.distplot(meta_pd[\"audio_start_time\"], ax=ax[5])"
   ]
  },
  {
   "cell_type": "code",
   "execution_count": null,
   "metadata": {
    "execution": {
     "iopub.execute_input": "2024-02-16T14:26:44.017802Z",
     "iopub.status.busy": "2024-02-16T14:26:44.017215Z",
     "iopub.status.idle": "2024-02-16T14:26:44.220766Z",
     "shell.execute_reply": "2024-02-16T14:26:44.219996Z",
     "shell.execute_reply.started": "2024-02-16T14:26:44.017736Z"
    },
    "trusted": true
   },
   "outputs": [],
   "source": [
    "train_pd = pd.read_json(VIDEOS_FOLDER_TRAIN + \"/metadata.json\").T.reset_index().rename(columns={\"index\": \"filename\"})\n",
    "train_pd.head()"
   ]
  },
  {
   "cell_type": "code",
   "execution_count": null,
   "metadata": {
    "execution": {
     "iopub.execute_input": "2024-02-16T14:26:44.222435Z",
     "iopub.status.busy": "2024-02-16T14:26:44.222102Z",
     "iopub.status.idle": "2024-02-16T14:26:44.392843Z",
     "shell.execute_reply": "2024-02-16T14:26:44.392113Z",
     "shell.execute_reply.started": "2024-02-16T14:26:44.222377Z"
    },
    "trusted": true
   },
   "outputs": [],
   "source": [
    "train_pd = pd.read_json(VIDEOS_FOLDER_TRAIN + \"/metadata.json\").T.reset_index().rename(columns={\"index\": \"filename\"})\n",
    "train_pd.head()"
   ]
  },
  {
   "cell_type": "code",
   "execution_count": null,
   "metadata": {
    "execution": {
     "iopub.execute_input": "2024-02-16T14:26:44.394518Z",
     "iopub.status.busy": "2024-02-16T14:26:44.394204Z",
     "iopub.status.idle": "2024-02-16T14:26:44.426026Z",
     "shell.execute_reply": "2024-02-16T14:26:44.425372Z",
     "shell.execute_reply.started": "2024-02-16T14:26:44.394459Z"
    },
    "trusted": true
   },
   "outputs": [],
   "source": [
    "train_pd = pd.merge(train_pd, meta_pd[[\"filename\", \"video_height\", \"video_width\", \"video_nb_frames\", \"video_bit_rate\", \"audio_nb_frames\"]], on=\"filename\", how=\"left\")\n",
    "train_pd[\"count\"] = train_pd.groupby([\"original\"])[\"original\"].transform('count')\n",
    "# train_pd.to_pickle(HOME + \"train_meta.pkl\")\n",
    "train_pd.head()"
   ]
  },
  {
   "cell_type": "code",
   "execution_count": null,
   "metadata": {
    "execution": {
     "iopub.execute_input": "2024-02-16T14:26:44.427305Z",
     "iopub.status.busy": "2024-02-16T14:26:44.427074Z",
     "iopub.status.idle": "2024-02-16T14:38:24.115515Z",
     "shell.execute_reply": "2024-02-16T14:38:24.114598Z",
     "shell.execute_reply.started": "2024-02-16T14:26:44.427266Z"
    },
    "trusted": true
   },
   "outputs": [],
   "source": [
    "AUDIO_FORMAT = \"aac\" # \"wav\"\n",
    "videos_folder = VIDEOS_FOLDER_TRAIN\n",
    "images_folder_path = IMAGES_FOLDER_TRAIN\n",
    "audios_folder_path = AUDIOS_FOLDER_TRAIN\n",
    "if EXTRACT_CONTENT == True:\n",
    "    # 1h20min for chunk#0 (11GB)\n",
    "    # Extract some images + audio track\n",
    "    for idx, row in tqdm(train_pd.iterrows(), total=meta_pd.shape[0]):\n",
    "        try:\n",
    "            video_path = videos_folder + \"/\" + row[\"filename\"]\n",
    "            images_path = images_folder_path + \"/\" + row[\"filename\"][:-4]\n",
    "            audio_path = audios_folder_path + \"/\" + row[\"filename\"][:-4]\n",
    "            # Extract images\n",
    "            if not os.path.exists(images_path): os.makedirs(images_path)\n",
    "            ret = ffextract_frames(video_path, images_path, rate = FRAME_RATE)\n",
    "            # Extract audio\n",
    "            if not os.path.exists(audio_path): os.makedirs(audio_path)\n",
    "            # ret = ffextract_audio(video_path, audio_path + \"/audio.\" + AUDIO_FORMAT)\n",
    "        except:\n",
    "            print(\"Cannot extract frames/audio for:\" + row[\"filename\"])"
   ]
  },
  {
   "cell_type": "code",
   "execution_count": null,
   "metadata": {
    "execution": {
     "iopub.execute_input": "2024-02-16T14:38:24.117766Z",
     "iopub.status.busy": "2024-02-16T14:38:24.117412Z",
     "iopub.status.idle": "2024-02-16T14:38:24.137174Z",
     "shell.execute_reply": "2024-02-16T14:38:24.136369Z",
     "shell.execute_reply.started": "2024-02-16T14:38:24.117703Z"
    },
    "trusted": true
   },
   "outputs": [],
   "source": [
    "train_pd.tail()"
   ]
  },
  {
   "cell_type": "code",
   "execution_count": null,
   "metadata": {
    "execution": {
     "iopub.execute_input": "2024-02-16T14:38:24.138556Z",
     "iopub.status.busy": "2024-02-16T14:38:24.138295Z",
     "iopub.status.idle": "2024-02-16T14:38:24.609182Z",
     "shell.execute_reply": "2024-02-16T14:38:24.608393Z",
     "shell.execute_reply.started": "2024-02-16T14:38:24.138507Z"
    },
    "trusted": true
   },
   "outputs": [],
   "source": [
    "idx = 21 # 27 # 21 # 19 # 12 # 6\n",
    "fake = train_pd[\"filename\"][idx]\n",
    "real = train_pd[\"original\"][idx]\n",
    "vid_width = train_pd[\"video_width\"][idx]\n",
    "vid_real = open(VIDEOS_FOLDER_TRAIN + \"/\" + real, 'rb').read()\n",
    "data_url_real = \"data:video/mp4;base64,\" + b64encode(vid_real).decode()\n",
    "vid_fake = open(VIDEOS_FOLDER_TRAIN + \"/\" + fake, 'rb').read()\n",
    "data_url_fake = \"data:video/mp4;base64,\" + b64encode(vid_fake).decode()\n",
    "HTML(\"\"\"\n",
    "<div style='width: 100%%; display: table;'>\n",
    "    <div style='display: table-row'>\n",
    "        <div style='width: %dpx; display: table-cell;'><b>Real</b>: %s<br/><video width=%d controls><source src=\"%s\" type=\"video/mp4\"></video></div>\n",
    "        <div style='display: table-cell;'><b>Fake</b>: %s<br/><video width=%d controls><source src=\"%s\" type=\"video/mp4\"></video></div>\n",
    "    </div>\n",
    "</div>\n",
    "\"\"\" % ( int(vid_width/3.2) + 10, \n",
    "       real, int(vid_width/3.2), data_url_real, \n",
    "       fake, int(vid_width/3.2), data_url_fake))"
   ]
  },
  {
   "cell_type": "code",
   "execution_count": null,
   "metadata": {
    "execution": {
     "iopub.execute_input": "2024-02-16T14:38:24.610777Z",
     "iopub.status.busy": "2024-02-16T14:38:24.61049Z",
     "iopub.status.idle": "2024-02-16T14:38:24.658308Z",
     "shell.execute_reply": "2024-02-16T14:38:24.657507Z",
     "shell.execute_reply.started": "2024-02-16T14:38:24.610725Z"
    },
    "trusted": true
   },
   "outputs": [],
   "source": [
    "face_cascade = cv2.CascadeClassifier(cv2.data.haarcascades + \"haarcascade_frontalface_default.xml\")\n",
    "\n",
    "def detect_face_cv2(img):\n",
    "    # Move to grayscale\n",
    "    gray_img = cv2.cvtColor(img.copy(), cv2.COLOR_RGB2GRAY)\n",
    "    face_locations = []\n",
    "    face_rects = face_cascade.detectMultiScale(gray_img, scaleFactor=1.3, minNeighbors=5)     \n",
    "    for (x,y,w,h) in face_rects: \n",
    "        face_location = (x,y,w,h)\n",
    "        face_locations.append((face_location, 1.0))\n",
    "    return face_locations"
   ]
  },
  {
   "cell_type": "code",
   "execution_count": null,
   "metadata": {
    "execution": {
     "iopub.execute_input": "2024-02-16T14:38:24.659999Z",
     "iopub.status.busy": "2024-02-16T14:38:24.659732Z",
     "iopub.status.idle": "2024-02-16T14:38:31.341991Z",
     "shell.execute_reply": "2024-02-16T14:38:31.341074Z",
     "shell.execute_reply.started": "2024-02-16T14:38:24.659949Z"
    },
    "trusted": true
   },
   "outputs": [],
   "source": [
    "pip install mtcnn"
   ]
  },
  {
   "cell_type": "code",
   "execution_count": null,
   "metadata": {
    "execution": {
     "iopub.execute_input": "2024-02-16T14:38:31.344475Z",
     "iopub.status.busy": "2024-02-16T14:38:31.344049Z",
     "iopub.status.idle": "2024-02-16T14:38:42.22872Z",
     "shell.execute_reply": "2024-02-16T14:38:42.227764Z",
     "shell.execute_reply.started": "2024-02-16T14:38:31.344388Z"
    },
    "trusted": true
   },
   "outputs": [],
   "source": [
    "from mtcnn import MTCNN\n",
    "detector = MTCNN()\n",
    "\n",
    "def detect_face_mtcnn(img):\n",
    "    face_locations = []\n",
    "    items = detector.detect_faces(img)\n",
    "    for face in items:\n",
    "        face_location = tuple(face.get('box'))\n",
    "        face_confidence = float(face.get('confidence'))\n",
    "        face_locations.append((face_location, face_confidence))\n",
    "    return face_locations"
   ]
  },
  {
   "cell_type": "code",
   "execution_count": null,
   "metadata": {
    "execution": {
     "iopub.execute_input": "2024-02-16T14:38:42.23042Z",
     "iopub.status.busy": "2024-02-16T14:38:42.230108Z",
     "iopub.status.idle": "2024-02-16T14:38:42.237242Z",
     "shell.execute_reply": "2024-02-16T14:38:42.236495Z",
     "shell.execute_reply.started": "2024-02-16T14:38:42.230367Z"
    },
    "trusted": true
   },
   "outputs": [],
   "source": [
    "def extract_faces(files, source, detector=detect_face_cv2):\n",
    "    results = []\n",
    "    # for idx, file in tqdm(enumerate(files), total=len(files)):\n",
    "    for idx, file in enumerate(files):\n",
    "        try:\n",
    "            img = cv2.cvtColor(cv2.imread(file, cv2.IMREAD_UNCHANGED), cv2.COLOR_BGR2RGB)\n",
    "            face_locations = detector(img)\n",
    "            results.append((source, file[file.find(\"output_\"):], face_locations, len(face_locations)))\n",
    "        except:\n",
    "            print(\"Cannot extract faces for image: %s\" % file)\n",
    "    return results"
   ]
  },
  {
   "cell_type": "code",
   "execution_count": null,
   "metadata": {
    "execution": {
     "iopub.execute_input": "2024-02-16T14:38:42.238835Z",
     "iopub.status.busy": "2024-02-16T14:38:42.238593Z",
     "iopub.status.idle": "2024-02-16T14:38:51.796614Z",
     "shell.execute_reply": "2024-02-16T14:38:51.795606Z",
     "shell.execute_reply.started": "2024-02-16T14:38:42.238787Z"
    },
    "trusted": true
   },
   "outputs": [],
   "source": [
    "file = fake\n",
    "dump_folder = images_folder_path + \"/\" + file[:-4]\n",
    "files = glob.glob(dump_folder + \"/*\")\n",
    "DETECTORS = {\n",
    "    \"cv2\": detect_face_cv2,\n",
    "    \"mtcnn\": detect_face_mtcnn\n",
    "}\n",
    "faces_pd = None\n",
    "for key, value in DETECTORS.items():\n",
    "    tmp_pd = pd.DataFrame(extract_faces(files, file, detector=value), columns=[\"filename\", \"image\", \"boxes_\" + key , \"faces_\" + key])\n",
    "    if faces_pd is None:\n",
    "        faces_pd = tmp_pd\n",
    "    else:\n",
    "        faces_pd = pd.merge(faces_pd, tmp_pd, on=[\"filename\", \"image\"], how=\"left\")\n",
    "faces_pd.head(12)"
   ]
  },
  {
   "cell_type": "code",
   "execution_count": null,
   "metadata": {
    "execution": {
     "iopub.execute_input": "2024-02-16T14:38:51.798738Z",
     "iopub.status.busy": "2024-02-16T14:38:51.798383Z",
     "iopub.status.idle": "2024-02-16T14:38:51.824108Z",
     "shell.execute_reply": "2024-02-16T14:38:51.823391Z",
     "shell.execute_reply.started": "2024-02-16T14:38:51.798674Z"
    },
    "trusted": true
   },
   "outputs": [],
   "source": [
    "def plot_faces_boxes(df, max_cols = 2, max_rows = 6, fsize=(24, 5), max_items=12):    \n",
    "    idx = 0    \n",
    "    for item_idx, item in df.iterrows():\n",
    "        img = cv2.cvtColor(cv2.imread(IMAGES_FOLDER_TRAIN + \"/\" + item[\"filename\"][:-4] +\"/\" + item[\"image\"], cv2.IMREAD_UNCHANGED), cv2.COLOR_BGR2RGB)    \n",
    "        face_img = img #.copy()\n",
    "        # grid subplots\n",
    "        row = idx // max_cols\n",
    "        col = idx % max_cols\n",
    "        if col == 0: fig = plt.figure(figsize=fsize)\n",
    "        ax = fig.add_subplot(1, max_cols, col + 1)\n",
    "        ax.axis(\"off\")\n",
    "        # display image with boxes\n",
    "        cols = [c for c in df.columns if \"boxes\" in c]\n",
    "        for i, c in enumerate(cols, 0):\n",
    "            face_locations = item[c]\n",
    "            face_confidence = item[c]            \n",
    "            if len(face_locations) > 0:\n",
    "                for face_location in face_locations:        \n",
    "                    ((x,y,w,h), confidence) = face_location\n",
    "                    # face_img = face_img[y:y+h, x:x+w]\n",
    "                    cv2.rectangle(face_img, (x, y), (x+w, y+h), (255,i*255,0), 8)\n",
    "                    cv2.putText(face_img, '%.1f' % (confidence*100.0), (x+w, y+h), cv2.FONT_HERSHEY_SIMPLEX, 2.0, (255,i*255,0), 9, cv2.LINE_AA)\n",
    "                ax.imshow(face_img)\n",
    "            else:\n",
    "                ax.imshow(img)\n",
    "            ax.set_title(\"%s %s / %s - Faces: %d %s %s\" % (item[\"label\"] if \"label\" in df.columns else \"\", \n",
    "                                                           item[\"filename\"], item[\"image\"],\n",
    "                                                           item[\"faces_mtcnn\"] if \"faces_mtcnn\" in df.columns else len(face_locations),\n",
    "                                                           item[\"faces_mtcnn_median\"] if \"faces_mtcnn_median\" in df.columns else \"\",\n",
    "                                                           item[\"faces\"] if \"faces\" in df.columns else \"\"))\n",
    "        if (col == max_cols -1): plt.show()\n",
    "        idx = idx + 1\n",
    "        if (max_items > 0 and idx >=max_items): break"
   ]
  },
  {
   "cell_type": "code",
   "execution_count": null,
   "metadata": {
    "execution": {
     "iopub.execute_input": "2024-02-16T14:38:51.825715Z",
     "iopub.status.busy": "2024-02-16T14:38:51.825463Z",
     "iopub.status.idle": "2024-02-16T14:38:54.69066Z",
     "shell.execute_reply": "2024-02-16T14:38:54.689828Z",
     "shell.execute_reply.started": "2024-02-16T14:38:51.825666Z"
    },
    "trusted": true
   },
   "outputs": [],
   "source": [
    "plot_faces_boxes(faces_pd)"
   ]
  },
  {
   "cell_type": "code",
   "execution_count": null,
   "metadata": {
    "execution": {
     "iopub.execute_input": "2024-02-16T14:38:54.692446Z",
     "iopub.status.busy": "2024-02-16T14:38:54.692149Z",
     "iopub.status.idle": "2024-02-16T14:38:54.702027Z",
     "shell.execute_reply": "2024-02-16T14:38:54.701107Z",
     "shell.execute_reply.started": "2024-02-16T14:38:54.692389Z"
    },
    "trusted": true
   },
   "outputs": [],
   "source": [
    "def run_detector_on_video(videos_filename, verbose=False):\n",
    "    if verbose == True: \n",
    "        print(\"Starting with batch of %d videos\" % len(videos_filename))\n",
    "    tmp_faces_pd = None\n",
    "    for file in videos_filename:\n",
    "        # Find out dump folder with images\n",
    "        dump_folder = images_folder_path + \"/\" + file[:-4]\n",
    "        # List files\n",
    "        files = glob.glob(dump_folder + \"/*\")\n",
    "        DETECTORS = {\n",
    "            \"mtcnn\": detect_face_mtcnn\n",
    "        }\n",
    "        for key, value in DETECTORS.items():\n",
    "            tmp_pd = pd.DataFrame(extract_faces(files, file, detector=value), columns=[\"filename\", \"image\", \"boxes_\" + key , \"faces_\" + key])\n",
    "            if tmp_faces_pd is None:\n",
    "                tmp_faces_pd = tmp_pd\n",
    "            else:\n",
    "                tmp_faces_pd = pd.concat([tmp_faces_pd, tmp_pd], axis=0)\n",
    "    return tmp_faces_pd"
   ]
  },
  {
   "cell_type": "code",
   "execution_count": null,
   "metadata": {
    "execution": {
     "iopub.execute_input": "2024-02-16T14:38:54.703909Z",
     "iopub.status.busy": "2024-02-16T14:38:54.703583Z",
     "iopub.status.idle": "2024-02-16T15:03:49.464091Z",
     "shell.execute_reply": "2024-02-16T15:03:49.463301Z",
     "shell.execute_reply.started": "2024-02-16T14:38:54.703845Z"
    },
    "trusted": true
   },
   "outputs": [],
   "source": [
    "import multiprocessing\n",
    "cpus = multiprocessing.cpu_count()\n",
    "if EXTRACT_FACES == True:\n",
    "    resultfutures = []\n",
    "    results = []\n",
    "    tasks = np.array_split(train_pd[\"filename\"].unique(), 20)\n",
    "    print(\"Tasks: %d\" % len(tasks))\n",
    "    with ThreadPoolExecutor(max_workers=cpus) as executor:\n",
    "        resultfutures = tqdm(executor.map(run_detector_on_video, tasks), total=len(tasks))\n",
    "    results = [x for x in resultfutures]\n",
    "    executor.shutdown()\n",
    "    # Gather results\n",
    "    all_faces_pd = None\n",
    "    for result in results:\n",
    "        if all_faces_pd is None:\n",
    "            all_faces_pd = result\n",
    "        else:\n",
    "            all_faces_pd = pd.concat([all_faces_pd, result], axis=0)\n",
    "    all_faces_pd = all_faces_pd.reset_index(drop=True)\n",
    "    all_faces_pd.to_pickle(HOME + \"faces.pkl\")\n",
    "else:\n",
    "    all_faces_pd = pd.read_pickle(HOME + \"faces.pkl\")\n",
    "print(all_faces_pd.shape)"
   ]
  },
  {
   "cell_type": "code",
   "execution_count": null,
   "metadata": {
    "execution": {
     "iopub.execute_input": "2024-02-16T15:03:49.465818Z",
     "iopub.status.busy": "2024-02-16T15:03:49.465513Z",
     "iopub.status.idle": "2024-02-16T15:03:49.502291Z",
     "shell.execute_reply": "2024-02-16T15:03:49.501449Z",
     "shell.execute_reply.started": "2024-02-16T15:03:49.46576Z"
    },
    "trusted": true
   },
   "outputs": [],
   "source": [
    "all_faces_pd[\"faces_mtcnn_avg\"] = all_faces_pd.groupby(\"filename\")[\"faces_mtcnn\"].transform(np.nanmean)\n",
    "all_faces_pd[\"faces_mtcnn_median\"] = all_faces_pd.groupby(\"filename\")[\"faces_mtcnn\"].transform(np.nanmedian)\n",
    "all_faces_pd.head()"
   ]
  },
  {
   "cell_type": "code",
   "execution_count": null,
   "metadata": {
    "execution": {
     "iopub.execute_input": "2024-02-16T15:03:49.504356Z",
     "iopub.status.busy": "2024-02-16T15:03:49.503987Z",
     "iopub.status.idle": "2024-02-16T15:03:50.366022Z",
     "shell.execute_reply": "2024-02-16T15:03:50.364901Z",
     "shell.execute_reply.started": "2024-02-16T15:03:49.504291Z"
    },
    "trusted": true
   },
   "outputs": [],
   "source": [
    "fig, ax = plt.subplots(1, 2, figsize=(22, 3))\n",
    "d = sns.distplot(all_faces_pd[\"faces_mtcnn_avg\"], kde=True, ax=ax[0])\n",
    "d = sns.distplot(all_faces_pd[\"faces_mtcnn_median\"], kde=False, ax=ax[1])"
   ]
  },
  {
   "cell_type": "code",
   "execution_count": null,
   "metadata": {
    "execution": {
     "iopub.execute_input": "2024-02-16T15:03:50.369227Z",
     "iopub.status.busy": "2024-02-16T15:03:50.368808Z",
     "iopub.status.idle": "2024-02-16T15:03:58.060029Z",
     "shell.execute_reply": "2024-02-16T15:03:58.059265Z",
     "shell.execute_reply.started": "2024-02-16T15:03:50.369148Z"
    },
    "trusted": true
   },
   "outputs": [],
   "source": [
    "plot_faces_boxes(all_faces_pd[all_faces_pd[\"faces_mtcnn\"] == 3], max_items=24)"
   ]
  },
  {
   "cell_type": "code",
   "execution_count": null,
   "metadata": {
    "execution": {
     "iopub.execute_input": "2024-02-16T15:03:58.061601Z",
     "iopub.status.busy": "2024-02-16T15:03:58.061332Z",
     "iopub.status.idle": "2024-02-16T15:03:58.097117Z",
     "shell.execute_reply": "2024-02-16T15:03:58.09638Z",
     "shell.execute_reply.started": "2024-02-16T15:03:58.06155Z"
    },
    "trusted": true
   },
   "outputs": [],
   "source": [
    "clean_faces_pd = pd.merge(all_faces_pd, train_pd, on=\"filename\", how=\"left\")\n",
    "clean_faces_pd.head()"
   ]
  },
  {
   "cell_type": "code",
   "execution_count": null,
   "metadata": {
    "execution": {
     "iopub.execute_input": "2024-02-16T15:03:58.099086Z",
     "iopub.status.busy": "2024-02-16T15:03:58.098655Z",
     "iopub.status.idle": "2024-02-16T15:03:58.138665Z",
     "shell.execute_reply": "2024-02-16T15:03:58.137879Z",
     "shell.execute_reply.started": "2024-02-16T15:03:58.099024Z"
    },
    "trusted": true
   },
   "outputs": [],
   "source": [
    "def faces_max_item(boxes, idx1, idx2):\n",
    "    ret = 0\n",
    "    if len(boxes) > 0:\n",
    "        ret = max(boxes, key=lambda item: item[idx1][idx2])[idx1][idx2]\n",
    "    return ret\n",
    "\n",
    "def faces_max_confidence(boxes):\n",
    "    ret = 0\n",
    "    if len(boxes) > 0:\n",
    "        ret = max(boxes, key=lambda item: item[1])[1]\n",
    "    return ret\n",
    "\n",
    "def faces_min_confidence(boxes):\n",
    "    ret = 0\n",
    "    if len(boxes) > 0:\n",
    "        ret = min(boxes, key=lambda item: item[1])[1]\n",
    "    return ret\n",
    "\n",
    "clean_faces_pd[\"faces_max_width\"] = clean_faces_pd[\"boxes_mtcnn\"].apply(lambda x: faces_max_item(x, 0, 2)) \n",
    "clean_faces_pd[\"faces_max_height\"] = clean_faces_pd[\"boxes_mtcnn\"].apply(lambda x: faces_max_item(x, 0, 3))\n",
    "clean_faces_pd[\"faces_max_conf\"] = clean_faces_pd[\"boxes_mtcnn\"].apply(lambda x: faces_max_confidence(x))\n",
    "clean_faces_pd[\"faces_min_conf\"] = clean_faces_pd[\"boxes_mtcnn\"].apply(lambda x: faces_min_confidence(x))"
   ]
  },
  {
   "cell_type": "code",
   "execution_count": null,
   "metadata": {
    "execution": {
     "iopub.execute_input": "2024-02-16T15:03:58.140202Z",
     "iopub.status.busy": "2024-02-16T15:03:58.139928Z",
     "iopub.status.idle": "2024-02-16T15:03:59.99813Z",
     "shell.execute_reply": "2024-02-16T15:03:59.997095Z",
     "shell.execute_reply.started": "2024-02-16T15:03:58.140132Z"
    },
    "trusted": true
   },
   "outputs": [],
   "source": [
    "print(\"Faces stats:\")\n",
    "print(clean_faces_pd[[\"faces_max_width\", \"faces_max_height\", \"faces_min_conf\", \"faces_max_conf\"]].describe(percentiles=[0.01,0.05, 0.1,0.25,0.5,0.75,0.9,0.95,0.99]))\n",
    "fig, ax = plt.subplots(1, 2, figsize=(22, 3))\n",
    "d = sns.distplot(clean_faces_pd[\"faces_max_width\"], kde=True, ax=ax[0])\n",
    "d = sns.distplot(clean_faces_pd[\"faces_max_height\"], kde=True, ax=ax[1])\n",
    "plt.show()\n",
    "fig, ax = plt.subplots(1, 2, figsize=(22, 3))\n",
    "d = sns.distplot(clean_faces_pd[\"faces_min_conf\"], kde=True, ax=ax[0])\n",
    "d = sns.distplot(clean_faces_pd[\"faces_max_conf\"], kde=True, ax=ax[1])\n",
    "fig, ax = plt.subplots(figsize=(22, 3))\n",
    "d = clean_faces_pd.plot(kind=\"scatter\", x=\"faces_max_width\", y=\"faces_max_conf\", c=\"red\", ax=ax, label=\"faces_max_width\", alpha=0.5)\n",
    "d = clean_faces_pd.plot(kind=\"scatter\", x=\"faces_max_height\", y=\"faces_max_conf\", c=\"blue\", ax=d,  label=\"faces_max_height\", alpha=0.5)\n",
    "d = plt.legend(loc=\"upper right\")"
   ]
  },
  {
   "cell_type": "code",
   "execution_count": null,
   "metadata": {
    "execution": {
     "iopub.execute_input": "2024-02-16T15:04:00.000633Z",
     "iopub.status.busy": "2024-02-16T15:03:59.999994Z",
     "iopub.status.idle": "2024-02-16T15:04:07.984075Z",
     "shell.execute_reply": "2024-02-16T15:04:07.983248Z",
     "shell.execute_reply.started": "2024-02-16T15:04:00.000282Z"
    },
    "trusted": true
   },
   "outputs": [],
   "source": [
    "!pip install imutils"
   ]
  },
  {
   "cell_type": "code",
   "execution_count": null,
   "metadata": {
    "execution": {
     "iopub.execute_input": "2024-02-16T15:04:07.98604Z",
     "iopub.status.busy": "2024-02-16T15:04:07.98579Z",
     "iopub.status.idle": "2024-02-16T15:04:08.35985Z",
     "shell.execute_reply": "2024-02-16T15:04:08.359011Z",
     "shell.execute_reply.started": "2024-02-16T15:04:07.985997Z"
    },
    "trusted": true
   },
   "outputs": [],
   "source": [
    "import os\n",
    "import numpy as np\n",
    "import shutil\n",
    "import cv2\n",
    "import pandas as pd\n",
    "import matplotlib\n",
    "matplotlib.use(\"Agg\")\n",
    "import matplotlib.pyplot as plt\n",
    "import numpy as np\n",
    "import pickle\n",
    "from imutils import paths\n",
    "from keras.preprocessing.image import ImageDataGenerator\n",
    "from keras.applications import VGG16\n",
    "from keras.layers.core import Dropout\n",
    "from keras.layers.core import Flatten\n",
    "from keras.layers.core import Dense\n",
    "from keras.layers import Input\n",
    "from keras.models import Model\n",
    "from keras.optimizers import SGD\n",
    "from sklearn.metrics import classification_report\n",
    "%matplotlib inline"
   ]
  },
  {
   "cell_type": "code",
   "execution_count": null,
   "metadata": {
    "execution": {
     "iopub.execute_input": "2024-02-16T15:04:08.362302Z",
     "iopub.status.busy": "2024-02-16T15:04:08.361734Z",
     "iopub.status.idle": "2024-02-16T15:04:08.374984Z",
     "shell.execute_reply": "2024-02-16T15:04:08.374238Z",
     "shell.execute_reply.started": "2024-02-16T15:04:08.362053Z"
    },
    "trusted": true
   },
   "outputs": [],
   "source": [
    "BASE_PATH = \"/kaggle/working/finetuningkeras/dataset\"\n",
    "\n",
    "# define the names of the training, testing, and validation\n",
    "# directories\n",
    "TRAIN = \"training\"\n",
    "TEST = \"evaluation\"\n",
    "VAL = \"validation\"\n",
    "\n",
    "REAL = 'REAL'\n",
    "FAKE = 'FAKE'\n",
    "\n",
    "# initialize the list of class label names\n",
    "CLASSES = [\"FAKE\", \"REAL\"]\n",
    "\n",
    "\n",
    "# set the batch size when fine-tuning\n",
    "BATCH_SIZE = 32\n",
    "\n",
    "trainEpochs = 10\n",
    "epochsFineTune = 10\n",
    "maxVids = 5\n",
    "\n",
    "# set the path to the serialized model after training\n",
    "MODEL_PATH = os.path.sep.join([\"/kaggle/working/finetuningkeras\",\"output\", \"Deepfake.model\"])\n",
    "\n",
    "# define the path to the output training history plots\n",
    "UNFROZEN_PLOT_PATH = os.path.sep.join([\"/kaggle/working/finetuningkeras\",\"output\", \"unfrozen.png\"])\n",
    "WARMUP_PLOT_PATH = os.path.sep.join([\"/kaggle/working/finetuningkeras\",\"output\", \"warmup.png\"])\n",
    "\n",
    "file = '/kaggle/input/deepfake-detection-challenge/train_sample_videos/metadata.json'\n",
    "img_path = '/kaggle/input/deepfake-detection-challenge/train_sample_videos'\n",
    "data_path = '/kaggle/working/finetuningkeras/real_fake'\n",
    "dir_fake_frames = '/kaggle/working/FAKE_frames'\n",
    "dir_real_frames = '/kaggle/working/REAL_frames'\n",
    "dir_output = '/kaggle/working/finetuningkeras/output'\n",
    "\n",
    "dir_data_path_real = os.path.join(data_path, REAL)\n",
    "dir_data_path_fake = os.path.join(data_path, FAKE)\n",
    "\n",
    "dir_train_real = os.path.join(BASE_PATH, TRAIN, REAL)\n",
    "dir_train_fake = os.path.join(BASE_PATH, TRAIN, FAKE)\n",
    "dir_valid_real = os.path.join(BASE_PATH, VAL, REAL)\n",
    "dir_valid_fake = os.path.join(BASE_PATH, VAL, FAKE)\n",
    "dir_test_real = os.path.join(BASE_PATH, TEST, REAL)\n",
    "dir_test_fake = os.path.join(BASE_PATH, TEST, FAKE)"
   ]
  },
  {
   "cell_type": "code",
   "execution_count": null,
   "metadata": {
    "execution": {
     "iopub.execute_input": "2024-02-16T15:04:08.376675Z",
     "iopub.status.busy": "2024-02-16T15:04:08.376399Z",
     "iopub.status.idle": "2024-02-16T15:04:08.40523Z",
     "shell.execute_reply": "2024-02-16T15:04:08.404469Z",
     "shell.execute_reply.started": "2024-02-16T15:04:08.376621Z"
    },
    "trusted": true
   },
   "outputs": [],
   "source": [
    "input_dir = '/kaggle/working/finetuningkeras/real_fake/FAKE'\n",
    "output_dir = '/kaggle/working/FAKE_frames/'\n",
    "def explode_frames(input_dir, output_dir, maxN):\n",
    "\n",
    "    mp4_filenames = [f for f in os.listdir(input_dir) if f.endswith('.mp4')]\n",
    "    n = 0\n",
    "    \n",
    "    for mp4fn in mp4_filenames:\n",
    "        \n",
    "        if(n < maxN):\n",
    "            n += 1 \n",
    "            mp4fp = os.path.join(input_dir, mp4fn)\n",
    "            cam = cv2.VideoCapture(mp4fp) \n",
    "            if(cam.isOpened()):\n",
    "                print('Processing file #'+ str(n) + ' (' + mp4fn + ')...')\n",
    "            else: \n",
    "                print('Problem opening file #'+ str(n) + ' (' + mp4fn + ')...')\n",
    "                continue \n",
    "            \n",
    "            nframe = 0\n",
    "            while(True): #continue until ret = False then break\n",
    "                nframe += 1\n",
    "                ret,frame = cam.read()\n",
    "                \n",
    "                if ret: \n",
    "                    # if video is still left continue creating images \n",
    "                    out_filename = os.path.splitext(mp4fn)[0]+  '_frame' + str(nframe) + '.jpg'\n",
    "                    out_filepath =  os.path.join(output_dir, out_filename)\n",
    "                    \n",
    "                    # writing the extracted images \n",
    "                    cv2.imwrite(out_filepath, frame) \n",
    "                else: \n",
    "                    break\n",
    "\n",
    "            # Release all space and windows once done\n",
    "            print(' - created ' + str(nframe-1) + ' images') # -1 bc count incremented before exit\n",
    "            cam.release() \n",
    "            cv2.destroyAllWindows()\n",
    "            \n",
    "        else: \n",
    "            break\n",
    "            \n",
    "\"\"\"\n",
    "Distribute files/images from a source directory into training, validation, and testing directories. \n",
    "src_dir = source/input directory\n",
    "train_dir, val_dir, test_dir = target training/validation/testing directory\n",
    "valperc = fraction of dataset to use for validation (0-1)\n",
    "testperc = fraction of dataset to use for testing (0-1)\n",
    "\"\"\"\n",
    "            \n",
    "def trainvaltest_split(src_dir, train_dir, val_dir, test_dir, valperc = 0.15, testperc = 0.15):\n",
    "    \n",
    "    filenames = os.listdir(src_dir) #get all filenames in random order\n",
    "    np.random.shuffle(filenames)\n",
    "    \n",
    "    n = len(filenames)\n",
    "    split1 = int(n*(1 - (valperc + testperc)))\n",
    "    split2 = int(n*(1 - (testperc)))\n",
    "    \n",
    "    fn_train, fn_val, fn_test = np.split(np.array(filenames), [split1, split2])\n",
    "    \n",
    "    fn_lists = [fn_train, fn_val, fn_test]\n",
    "    targetdirs = [train_dir, val_dir, test_dir]\n",
    "    \n",
    "    print('Total images: ', n)\n",
    "    print('Training: ', len(fn_train))\n",
    "    print('Validation: ', len(fn_val))\n",
    "    print('Testing: ', len(fn_test))\n",
    "    \n",
    "    all_fp = [os.path.join(src_dir, fn) for fn in filenames]\n",
    "    \n",
    "    #move files\n",
    "    for i, fn_list in enumerate(fn_lists):\n",
    "        for fn in fn_list: \n",
    "            target_dir = targetdirs[i]\n",
    "            fp_from = os.path.join(src_dir, fn)\n",
    "            fp_to = os.path.join(target_dir, fn)\n",
    "            \n",
    "            shutil.move(fp_from, fp_to)\n",
    "\n",
    "            \n",
    "\"\"\"\n",
    "Construct a plot that plots and saves the training history\n",
    "\"\"\"           \n",
    "def plot_training(H, N, plotPath):\n",
    "\tplt.style.use(\"ggplot\")\n",
    "\tplt.figure()\n",
    "\tplt.plot(np.arange(0, N), H.history[\"loss\"], label=\"train_loss\")\n",
    "\tplt.plot(np.arange(0, N), H.history[\"val_loss\"], label=\"val_loss\")\n",
    "\tplt.plot(np.arange(0, N), H.history[\"accuracy\"], label=\"train_acc\")\n",
    "\tplt.plot(np.arange(0, N), H.history[\"val_accuracy\"], label=\"val_acc\")\n",
    "\tplt.title(\"Training Loss and Accuracy\")\n",
    "\tplt.xlabel(\"Epoch #\")\n",
    "\tplt.ylabel(\"Loss/Accuracy\")\n",
    "\tplt.legend(loc=\"lower left\")\n",
    "\tplt.savefig(plotPath)"
   ]
  },
  {
   "cell_type": "code",
   "execution_count": null,
   "metadata": {
    "execution": {
     "iopub.execute_input": "2024-02-16T15:04:08.406848Z",
     "iopub.status.busy": "2024-02-16T15:04:08.406563Z",
     "iopub.status.idle": "2024-02-16T15:04:08.421168Z",
     "shell.execute_reply": "2024-02-16T15:04:08.420404Z",
     "shell.execute_reply.started": "2024-02-16T15:04:08.406796Z"
    },
    "trusted": true
   },
   "outputs": [],
   "source": [
    "\n",
    "os.makedirs(dir_train_real, exist_ok = True)\n",
    "os.makedirs(dir_train_fake, exist_ok = True)\n",
    "os.makedirs(dir_valid_real, exist_ok = True)\n",
    "os.makedirs(dir_valid_fake, exist_ok = True)\n",
    "os.makedirs(dir_test_real, exist_ok = True)\n",
    "os.makedirs(dir_test_fake, exist_ok = True)\n",
    "\n",
    "os.makedirs(dir_data_path_real, exist_ok = True)\n",
    "os.makedirs(dir_data_path_fake, exist_ok = True)\n",
    "os.makedirs(dir_fake_frames, exist_ok = True) \n",
    "os.makedirs(dir_real_frames, exist_ok = True) \n",
    "os.makedirs(dir_output, exist_ok = True)"
   ]
  },
  {
   "cell_type": "code",
   "execution_count": null,
   "metadata": {
    "execution": {
     "iopub.execute_input": "2024-02-16T15:04:08.424296Z",
     "iopub.status.busy": "2024-02-16T15:04:08.424011Z",
     "iopub.status.idle": "2024-02-16T15:04:08.62668Z",
     "shell.execute_reply": "2024-02-16T15:04:08.625545Z",
     "shell.execute_reply.started": "2024-02-16T15:04:08.424244Z"
    },
    "trusted": true
   },
   "outputs": [],
   "source": [
    "df = pd.read_json(file)\n",
    "df = df.T\n",
    "\n",
    "# %% [code]\n",
    "label = df[['label']]"
   ]
  },
  {
   "cell_type": "code",
   "execution_count": null,
   "metadata": {
    "execution": {
     "iopub.execute_input": "2024-02-16T15:04:08.630625Z",
     "iopub.status.busy": "2024-02-16T15:04:08.63008Z",
     "iopub.status.idle": "2024-02-16T15:04:11.71631Z",
     "shell.execute_reply": "2024-02-16T15:04:11.715639Z",
     "shell.execute_reply.started": "2024-02-16T15:04:08.630373Z"
    },
    "trusted": true
   },
   "outputs": [],
   "source": [
    "for fn, row in label.iterrows():\n",
    "    src = os.path.join(img_path, fn)\n",
    "    dest = os.path.join(data_path, row['label'], fn)\n",
    "    shutil.copy(src, dest)"
   ]
  },
  {
   "cell_type": "code",
   "execution_count": null,
   "metadata": {
    "execution": {
     "iopub.execute_input": "2024-02-16T15:04:11.718341Z",
     "iopub.status.busy": "2024-02-16T15:04:11.717949Z",
     "iopub.status.idle": "2024-02-16T15:05:01.926573Z",
     "shell.execute_reply": "2024-02-16T15:05:01.925757Z",
     "shell.execute_reply.started": "2024-02-16T15:04:11.718276Z"
    },
    "trusted": true
   },
   "outputs": [],
   "source": [
    "explode_frames(dir_data_path_fake, dir_fake_frames, maxN= maxVids)"
   ]
  },
  {
   "cell_type": "code",
   "execution_count": null,
   "metadata": {
    "execution": {
     "iopub.execute_input": "2024-02-16T15:05:01.928844Z",
     "iopub.status.busy": "2024-02-16T15:05:01.928469Z",
     "iopub.status.idle": "2024-02-16T15:05:54.711728Z",
     "shell.execute_reply": "2024-02-16T15:05:54.710953Z",
     "shell.execute_reply.started": "2024-02-16T15:05:01.928787Z"
    },
    "trusted": true
   },
   "outputs": [],
   "source": [
    "explode_frames(dir_data_path_real, dir_real_frames, maxN= maxVids)"
   ]
  },
  {
   "cell_type": "code",
   "execution_count": null,
   "metadata": {
    "execution": {
     "iopub.execute_input": "2024-02-16T15:05:54.713291Z",
     "iopub.status.busy": "2024-02-16T15:05:54.712998Z",
     "iopub.status.idle": "2024-02-16T15:05:54.772884Z",
     "shell.execute_reply": "2024-02-16T15:05:54.771977Z",
     "shell.execute_reply.started": "2024-02-16T15:05:54.713237Z"
    },
    "trusted": true
   },
   "outputs": [],
   "source": [
    "trainvaltest_split(src_dir = dir_fake_frames,\n",
    "                   train_dir = dir_train_fake, \n",
    "                   val_dir = dir_valid_fake, \n",
    "                   test_dir = dir_test_fake)"
   ]
  },
  {
   "cell_type": "code",
   "execution_count": null,
   "metadata": {
    "execution": {
     "iopub.execute_input": "2024-02-16T15:05:54.774486Z",
     "iopub.status.busy": "2024-02-16T15:05:54.774139Z",
     "iopub.status.idle": "2024-02-16T15:05:54.833342Z",
     "shell.execute_reply": "2024-02-16T15:05:54.832402Z",
     "shell.execute_reply.started": "2024-02-16T15:05:54.774436Z"
    },
    "trusted": true
   },
   "outputs": [],
   "source": [
    "trainvaltest_split(src_dir = dir_real_frames,\n",
    "                   train_dir = dir_train_real, \n",
    "                   val_dir = dir_valid_real, \n",
    "                   test_dir = dir_test_real)"
   ]
  },
  {
   "cell_type": "code",
   "execution_count": null,
   "metadata": {
    "execution": {
     "iopub.execute_input": "2024-02-16T15:05:54.83467Z",
     "iopub.status.busy": "2024-02-16T15:05:54.834445Z",
     "iopub.status.idle": "2024-02-16T15:05:54.838977Z",
     "shell.execute_reply": "2024-02-16T15:05:54.838307Z",
     "shell.execute_reply.started": "2024-02-16T15:05:54.834631Z"
    },
    "trusted": true
   },
   "outputs": [],
   "source": [
    "\n",
    "trainAug = ImageDataGenerator(\n",
    "\trotation_range=30,\n",
    "\tzoom_range=0.15,\n",
    "\twidth_shift_range=0.2,\n",
    "\theight_shift_range=0.2,\n",
    "\tshear_range=0.15,\n",
    "\thorizontal_flip=True,\n",
    "\tfill_mode=\"nearest\")"
   ]
  },
  {
   "cell_type": "code",
   "execution_count": null,
   "metadata": {
    "execution": {
     "iopub.execute_input": "2024-02-16T15:05:54.840728Z",
     "iopub.status.busy": "2024-02-16T15:05:54.840454Z",
     "iopub.status.idle": "2024-02-16T15:05:54.848989Z",
     "shell.execute_reply": "2024-02-16T15:05:54.848265Z",
     "shell.execute_reply.started": "2024-02-16T15:05:54.840671Z"
    },
    "trusted": true
   },
   "outputs": [],
   "source": [
    "valAug = ImageDataGenerator()"
   ]
  },
  {
   "cell_type": "code",
   "execution_count": null,
   "metadata": {
    "execution": {
     "iopub.execute_input": "2024-02-16T15:05:54.850546Z",
     "iopub.status.busy": "2024-02-16T15:05:54.850297Z",
     "iopub.status.idle": "2024-02-16T15:05:54.860308Z",
     "shell.execute_reply": "2024-02-16T15:05:54.859518Z",
     "shell.execute_reply.started": "2024-02-16T15:05:54.850497Z"
    },
    "trusted": true
   },
   "outputs": [],
   "source": [
    "mean = np.array([123.68, 116.779, 103.939], dtype=\"float32\")\n",
    "trainAug.mean = mean\n",
    "valAug.mean = mean"
   ]
  },
  {
   "cell_type": "code",
   "execution_count": null,
   "metadata": {
    "execution": {
     "iopub.execute_input": "2024-02-16T15:05:54.86178Z",
     "iopub.status.busy": "2024-02-16T15:05:54.861508Z",
     "iopub.status.idle": "2024-02-16T15:05:55.183545Z",
     "shell.execute_reply": "2024-02-16T15:05:55.182827Z",
     "shell.execute_reply.started": "2024-02-16T15:05:54.86173Z"
    },
    "trusted": true
   },
   "outputs": [],
   "source": [
    "trainPath = os.path.join(BASE_PATH, TRAIN)\n",
    "trainGen = trainAug.flow_from_directory(\n",
    "\ttrainPath,\n",
    "\tclass_mode=\"categorical\",\n",
    "\ttarget_size=(224, 224),\n",
    "\tcolor_mode=\"rgb\",\n",
    "\tshuffle=True,\n",
    "\tbatch_size=BATCH_SIZE)\n",
    "\n",
    "# initialize the validation generator\n",
    "valPath = os.path.join(BASE_PATH, VAL)\n",
    "valGen = valAug.flow_from_directory(\n",
    "\tvalPath,\n",
    "\tclass_mode=\"categorical\",\n",
    "\ttarget_size=(224, 224),\n",
    "\tcolor_mode=\"rgb\",\n",
    "\tshuffle=False,\n",
    "\tbatch_size=BATCH_SIZE)\n",
    "\n",
    "# initialize the testing generator\n",
    "testPath = os.path.join(BASE_PATH, TEST)\n",
    "testGen = valAug.flow_from_directory(\n",
    "\ttestPath,\n",
    "\tclass_mode=\"categorical\",\n",
    "\ttarget_size=(224, 224),\n",
    "\tcolor_mode=\"rgb\",\n",
    "\tshuffle=False,\n",
    "\tbatch_size=BATCH_SIZE)"
   ]
  },
  {
   "cell_type": "code",
   "execution_count": null,
   "metadata": {
    "execution": {
     "iopub.execute_input": "2024-02-16T15:05:55.18522Z",
     "iopub.status.busy": "2024-02-16T15:05:55.184879Z",
     "iopub.status.idle": "2024-02-16T15:05:56.166468Z",
     "shell.execute_reply": "2024-02-16T15:05:56.165808Z",
     "shell.execute_reply.started": "2024-02-16T15:05:55.185142Z"
    },
    "trusted": true
   },
   "outputs": [],
   "source": [
    "baseModel = VGG16(weights=\"imagenet\", include_top=False,\n",
    "\tinput_tensor=Input(shape=(224, 224, 3)))"
   ]
  },
  {
   "cell_type": "code",
   "execution_count": null,
   "metadata": {
    "execution": {
     "iopub.execute_input": "2024-02-16T15:05:56.168136Z",
     "iopub.status.busy": "2024-02-16T15:05:56.167822Z",
     "iopub.status.idle": "2024-02-16T15:05:56.21106Z",
     "shell.execute_reply": "2024-02-16T15:05:56.210476Z",
     "shell.execute_reply.started": "2024-02-16T15:05:56.168071Z"
    },
    "trusted": true
   },
   "outputs": [],
   "source": [
    "headModel = baseModel.output\n",
    "headModel = Flatten(name=\"flatten\")(headModel)\n",
    "headModel = Dense(512, activation=\"relu\")(headModel)\n",
    "headModel = Dropout(0.5)(headModel)\n",
    "headModel = Dense(len(CLASSES), activation=\"softmax\")(headModel)"
   ]
  },
  {
   "cell_type": "code",
   "execution_count": null,
   "metadata": {
    "execution": {
     "iopub.execute_input": "2024-02-16T15:05:56.212881Z",
     "iopub.status.busy": "2024-02-16T15:05:56.21256Z",
     "iopub.status.idle": "2024-02-16T15:05:56.218571Z",
     "shell.execute_reply": "2024-02-16T15:05:56.217628Z",
     "shell.execute_reply.started": "2024-02-16T15:05:56.212824Z"
    },
    "trusted": true
   },
   "outputs": [],
   "source": [
    "model = Model(inputs=baseModel.input, outputs=headModel)"
   ]
  },
  {
   "cell_type": "code",
   "execution_count": null,
   "metadata": {
    "execution": {
     "iopub.execute_input": "2024-02-16T15:05:56.220195Z",
     "iopub.status.busy": "2024-02-16T15:05:56.219899Z",
     "iopub.status.idle": "2024-02-16T15:05:56.233585Z",
     "shell.execute_reply": "2024-02-16T15:05:56.232702Z",
     "shell.execute_reply.started": "2024-02-16T15:05:56.22014Z"
    },
    "trusted": true
   },
   "outputs": [],
   "source": [
    "for layer in baseModel.layers:\n",
    "\tlayer.trainable = False"
   ]
  },
  {
   "cell_type": "code",
   "execution_count": null,
   "metadata": {
    "execution": {
     "iopub.execute_input": "2024-02-16T15:05:56.234921Z",
     "iopub.status.busy": "2024-02-16T15:05:56.23469Z",
     "iopub.status.idle": "2024-02-16T15:05:56.283429Z",
     "shell.execute_reply": "2024-02-16T15:05:56.282735Z",
     "shell.execute_reply.started": "2024-02-16T15:05:56.234864Z"
    },
    "trusted": true
   },
   "outputs": [],
   "source": [
    "print(\"[INFO] compiling model...\")\n",
    "opt = SGD(lr=1e-4, momentum=0.9)\n",
    "model.compile(loss=\"categorical_crossentropy\", optimizer=opt,\n",
    "\tmetrics=[\"accuracy\"])"
   ]
  },
  {
   "cell_type": "code",
   "execution_count": null,
   "metadata": {
    "execution": {
     "iopub.execute_input": "2024-02-16T15:05:56.284885Z",
     "iopub.status.busy": "2024-02-16T15:05:56.28466Z",
     "iopub.status.idle": "2024-02-16T15:18:28.733147Z",
     "shell.execute_reply": "2024-02-16T15:18:28.732108Z",
     "shell.execute_reply.started": "2024-02-16T15:05:56.28484Z"
    },
    "trusted": true
   },
   "outputs": [],
   "source": [
    "totalTrain = len(list(paths.list_images(trainPath)))\n",
    "totalVal = len(list(paths.list_images(valPath)))\n",
    "totalTest = len(list(paths.list_images(testPath)))\n",
    "\n",
    "print(\"[INFO] training head...\")\n",
    "H = model.fit(\n",
    "    trainGen,\n",
    "    steps_per_epoch=totalTrain // BATCH_SIZE,\n",
    "    validation_data=valGen,\n",
    "    validation_steps=totalVal // BATCH_SIZE,\n",
    "    epochs=trainEpochs)"
   ]
  },
  {
   "cell_type": "code",
   "execution_count": null,
   "metadata": {
    "execution": {
     "iopub.execute_input": "2024-02-16T15:18:28.734923Z",
     "iopub.status.busy": "2024-02-16T15:18:28.73464Z",
     "iopub.status.idle": "2024-02-16T15:18:41.201668Z",
     "shell.execute_reply": "2024-02-16T15:18:41.200602Z",
     "shell.execute_reply.started": "2024-02-16T15:18:28.734878Z"
    },
    "trusted": true
   },
   "outputs": [],
   "source": [
    "print(\"[INFO] evaluating after fine-tuning network head...\")\n",
    "testGen.reset()\n",
    "predIdxs = model.predict_generator(testGen,\n",
    "\tsteps=(totalTest // BATCH_SIZE) + 1)\n",
    "predIdxs = np.argmax(predIdxs, axis=1)\n",
    "print(classification_report(testGen.classes, predIdxs,\n",
    "\ttarget_names=testGen.class_indices.keys()))\n",
    "\n",
    "\n",
    "plot_training(H, trainEpochs, WARMUP_PLOT_PATH)\n",
    "plt.show()  "
   ]
  },
  {
   "cell_type": "code",
   "execution_count": null,
   "metadata": {
    "execution": {
     "iopub.execute_input": "2024-02-16T15:18:41.204358Z",
     "iopub.status.busy": "2024-02-16T15:18:41.203597Z",
     "iopub.status.idle": "2024-02-16T15:18:42.872834Z",
     "shell.execute_reply": "2024-02-16T15:18:42.871904Z",
     "shell.execute_reply.started": "2024-02-16T15:18:41.204284Z"
    },
    "trusted": true
   },
   "outputs": [],
   "source": [
    "from keras.utils import plot_model\n",
    "plot_model(model, to_file='model.png')"
   ]
  },
  {
   "cell_type": "code",
   "execution_count": null,
   "metadata": {
    "execution": {
     "iopub.execute_input": "2024-02-16T15:18:42.874728Z",
     "iopub.status.busy": "2024-02-16T15:18:42.874479Z",
     "iopub.status.idle": "2024-02-16T15:18:42.88024Z",
     "shell.execute_reply": "2024-02-16T15:18:42.879102Z",
     "shell.execute_reply.started": "2024-02-16T15:18:42.874683Z"
    },
    "trusted": true
   },
   "outputs": [],
   "source": [
    "from sklearn.metrics import roc_curve, auc, confusion_matrix, classification_report\n",
    "import matplotlib.pyplot as plt\n",
    "import numpy as np\n",
    "import seaborn as sns "
   ]
  },
  {
   "cell_type": "code",
   "execution_count": null,
   "metadata": {
    "execution": {
     "iopub.execute_input": "2024-02-16T15:18:42.882242Z",
     "iopub.status.busy": "2024-02-16T15:18:42.881746Z",
     "iopub.status.idle": "2024-02-16T15:18:54.652461Z",
     "shell.execute_reply": "2024-02-16T15:18:54.651257Z",
     "shell.execute_reply.started": "2024-02-16T15:18:42.882049Z"
    },
    "trusted": true
   },
   "outputs": [],
   "source": [
    "# Assuming testGen and model are defined\n",
    "testGen.reset()\n",
    "y_pred_probs = model.predict(testGen, steps=(totalTest // BATCH_SIZE) + 1)\n",
    "y_true = testGen.classes\n",
    "\n",
    "# Compute ROC curve for the positive class\n",
    "fpr, tpr, _ = roc_curve(y_true, y_pred_probs[:, 1])\n",
    "roc_auc = auc(fpr, tpr)\n",
    "\n",
    "plt.figure()\n",
    "plt.plot(fpr, tpr, color='darkorange', lw=1, label='ROC curve (area = %0.2f)' % roc_auc)\n",
    "plt.xlim([0.0, 1.0])\n",
    "plt.ylim([0.0, 1.05])\n",
    "plt.xlabel('False Positive Rate')\n",
    "plt.ylabel('True Positive Rate')\n",
    "plt.title('Receiver Operating Characteristic')\n",
    "plt.legend(loc=\"lower right\")\n",
    "plt.show()"
   ]
  },
  {
   "cell_type": "code",
   "execution_count": null,
   "metadata": {
    "execution": {
     "iopub.execute_input": "2024-02-16T15:18:54.654977Z",
     "iopub.status.busy": "2024-02-16T15:18:54.654342Z",
     "iopub.status.idle": "2024-02-16T15:19:06.092494Z",
     "shell.execute_reply": "2024-02-16T15:19:06.091741Z",
     "shell.execute_reply.started": "2024-02-16T15:18:54.654908Z"
    },
    "trusted": true
   },
   "outputs": [],
   "source": [
    "testGen.reset()\n",
    "y_pred_probs = model.predict(testGen, steps=(totalTest // BATCH_SIZE) + 1)\n"
   ]
  },
  {
   "cell_type": "code",
   "execution_count": null,
   "metadata": {
    "execution": {
     "iopub.execute_input": "2024-02-16T15:19:06.093928Z",
     "iopub.status.busy": "2024-02-16T15:19:06.093706Z",
     "iopub.status.idle": "2024-02-16T15:19:06.385689Z",
     "shell.execute_reply": "2024-02-16T15:19:06.384594Z",
     "shell.execute_reply.started": "2024-02-16T15:19:06.09389Z"
    },
    "trusted": true
   },
   "outputs": [],
   "source": [
    "# Compute predicted class labels\n",
    "y_pred_labels = np.argmax(y_pred_probs, axis=1)\n",
    "\n",
    "# Compute confusion matrix\n",
    "cm = confusion_matrix(y_true, y_pred_labels)\n",
    "\n",
    "# Plot confusion matrix\n",
    "plt.figure(figsize=(5,5))\n",
    "sns.heatmap(cm, annot=True, fmt=\"d\")\n",
    "plt.title('Confusion Matrix')\n",
    "plt.xlabel('Predicted')\n",
    "plt.ylabel('True')\n",
    "plt.show()\n"
   ]
  },
  {
   "cell_type": "code",
   "execution_count": null,
   "metadata": {
    "execution": {
     "iopub.execute_input": "2024-02-16T15:19:06.388451Z",
     "iopub.status.busy": "2024-02-16T15:19:06.387737Z",
     "iopub.status.idle": "2024-02-16T15:19:06.749744Z",
     "shell.execute_reply": "2024-02-16T15:19:06.748603Z",
     "shell.execute_reply.started": "2024-02-16T15:19:06.388376Z"
    },
    "trusted": true
   },
   "outputs": [],
   "source": [
    "def plot_epoch_vs_accuracy(H, save_path=None):\n",
    "    print(\"Starting to plot...\")  # Debugging print statement\n",
    "    epochs = len(H.history['accuracy'])  # Automatically determine the number of epochs\n",
    "    plt.figure(figsize=(10, 6))\n",
    "    plt.plot(range(1, epochs + 1), H.history['accuracy'], label='Train Accuracy')\n",
    "    plt.plot(range(1, epochs + 1), H.history['val_accuracy'], label='Validation Accuracy')\n",
    "    plt.title('Epoch vs Accuracy')\n",
    "    plt.ylabel('Accuracy')\n",
    "    plt.xlabel('Epoch')\n",
    "    plt.legend()\n",
    "    \n",
    "    if save_path:\n",
    "        plt.savefig(save_path)\n",
    "        \n",
    "    plt.show()\n",
    "    print(\"Plot should be displayed above.\")  # Debugging print statement\n",
    "\n",
    "# Assuming H is defined in your existing code\n",
    "plot_epoch_vs_accuracy(H)\n"
   ]
  },
  {
   "cell_type": "code",
   "execution_count": null,
   "metadata": {
    "execution": {
     "iopub.execute_input": "2024-02-16T15:19:06.756235Z",
     "iopub.status.busy": "2024-02-16T15:19:06.755788Z",
     "iopub.status.idle": "2024-02-16T15:19:06.763668Z",
     "shell.execute_reply": "2024-02-16T15:19:06.762144Z",
     "shell.execute_reply.started": "2024-02-16T15:19:06.756144Z"
    },
    "trusted": true
   },
   "outputs": [],
   "source": [
    "trainGen.reset()\n",
    "valGen.reset()"
   ]
  },
  {
   "cell_type": "code",
   "execution_count": null,
   "metadata": {
    "execution": {
     "iopub.execute_input": "2024-02-16T15:19:06.766891Z",
     "iopub.status.busy": "2024-02-16T15:19:06.766388Z",
     "iopub.status.idle": "2024-02-16T15:19:06.831452Z",
     "shell.execute_reply": "2024-02-16T15:19:06.830762Z",
     "shell.execute_reply.started": "2024-02-16T15:19:06.766819Z"
    },
    "trusted": true
   },
   "outputs": [],
   "source": [
    "for layer in baseModel.layers[15:]:\n",
    "\tlayer.trainable = True\n",
    "\n",
    "# loop over the layers in the model and show which ones are trainable\n",
    "# or not\n",
    "for layer in baseModel.layers:\n",
    "\tprint(\"{}: {}\".format(layer, layer.trainable))\n",
    "\n",
    "# for the changes to the model to take affect we need to recompile\n",
    "# the model, this time using SGD with a *very* small learning rate\n",
    "print(\"[INFO] re-compiling model...\")\n",
    "opt = SGD(lr=1e-4, momentum=0.9)\n",
    "model.compile(loss=\"categorical_crossentropy\", optimizer=opt,\n",
    "\tmetrics=[\"accuracy\"])"
   ]
  },
  {
   "cell_type": "code",
   "execution_count": null,
   "metadata": {
    "execution": {
     "iopub.execute_input": "2024-02-16T15:19:06.833956Z",
     "iopub.status.busy": "2024-02-16T15:19:06.833646Z",
     "iopub.status.idle": "2024-02-16T15:31:39.03955Z",
     "shell.execute_reply": "2024-02-16T15:31:39.038534Z",
     "shell.execute_reply.started": "2024-02-16T15:19:06.833897Z"
    },
    "trusted": true
   },
   "outputs": [],
   "source": [
    "H = model.fit_generator(\n",
    "\ttrainGen,\n",
    "\tsteps_per_epoch=totalTrain // BATCH_SIZE,\n",
    "\tvalidation_data=valGen,\n",
    "\tvalidation_steps=totalVal // BATCH_SIZE,\n",
    "\tepochs= epochsFineTune)"
   ]
  },
  {
   "cell_type": "code",
   "execution_count": null,
   "metadata": {
    "execution": {
     "iopub.execute_input": "2024-02-16T15:31:39.041353Z",
     "iopub.status.busy": "2024-02-16T15:31:39.041071Z",
     "iopub.status.idle": "2024-02-16T15:31:51.526065Z",
     "shell.execute_reply": "2024-02-16T15:31:51.525185Z",
     "shell.execute_reply.started": "2024-02-16T15:31:39.041297Z"
    },
    "trusted": true
   },
   "outputs": [],
   "source": [
    "print(\"[INFO] evaluating after fine-tuning network...\")\n",
    "testGen.reset()\n",
    "predIdxs = model.predict_generator(testGen,\n",
    "\tsteps=(totalTest // BATCH_SIZE) + 1)\n",
    "predIdxs = np.argmax(predIdxs, axis=1)\n",
    "print(classification_report(testGen.classes, predIdxs,\n",
    "\ttarget_names=testGen.class_indices.keys()))\n",
    "plot_training(H, epochsFineTune, UNFROZEN_PLOT_PATH)\n",
    "\n",
    "# serialize the model to disk\n",
    "print(\"[INFO] serializing network...\")\n",
    "model.save(MODEL_PATH)"
   ]
  },
  {
   "cell_type": "code",
   "execution_count": null,
   "metadata": {
    "execution": {
     "iopub.execute_input": "2024-02-16T15:31:51.529632Z",
     "iopub.status.busy": "2024-02-16T15:31:51.52936Z",
     "iopub.status.idle": "2024-02-16T15:31:51.729101Z",
     "shell.execute_reply": "2024-02-16T15:31:51.728296Z",
     "shell.execute_reply.started": "2024-02-16T15:31:51.529579Z"
    },
    "trusted": true
   },
   "outputs": [],
   "source": [
    "def plot_epoch_vs_accuracy(H, save_path=None):\n",
    "    print(\"Starting to plot...\")  # Debugging print statement\n",
    "    epochs = len(H.history['accuracy'])  # Automatically determine the number of epochs\n",
    "    plt.figure(figsize=(10, 6))\n",
    "    plt.plot(range(1, epochs + 1), H.history['accuracy'], label='Train Accuracy')\n",
    "    plt.plot(range(1, epochs + 1), H.history['val_accuracy'], label='Validation Accuracy')\n",
    "    plt.title('Epoch vs Accuracy')\n",
    "    plt.ylabel('Accuracy')\n",
    "    plt.xlabel('Epoch')\n",
    "    plt.legend()\n",
    "    \n",
    "    if save_path:\n",
    "        plt.savefig(save_path)\n",
    "        \n",
    "    plt.show()\n",
    "    print(\"Plot should be displayed above.\")  # Debugging print statement\n",
    "\n",
    "# Assuming H is defined in your existing code\n",
    "plot_epoch_vs_accuracy(H)\n"
   ]
  },
  {
   "cell_type": "code",
   "execution_count": null,
   "metadata": {
    "execution": {
     "iopub.execute_input": "2024-02-16T15:31:51.73101Z",
     "iopub.status.busy": "2024-02-16T15:31:51.73053Z",
     "iopub.status.idle": "2024-02-16T15:31:51.892653Z",
     "shell.execute_reply": "2024-02-16T15:31:51.891978Z",
     "shell.execute_reply.started": "2024-02-16T15:31:51.730956Z"
    },
    "trusted": true
   },
   "outputs": [],
   "source": [
    "# Compute predicted class labels\n",
    "y_pred_labels = np.argmax(y_pred_probs, axis=1)\n",
    "\n",
    "# Compute confusion matrix\n",
    "cm = confusion_matrix(y_true, y_pred_labels)\n",
    "\n",
    "# Plot confusion matrix\n",
    "plt.figure(figsize=(5,5))\n",
    "sns.heatmap(cm, annot=True, fmt=\"d\")\n",
    "plt.title('Confusion Matrix')\n",
    "plt.xlabel('Predicted')\n",
    "plt.ylabel('True')\n",
    "plt.show()\n"
   ]
  },
  {
   "cell_type": "code",
   "execution_count": null,
   "metadata": {
    "execution": {
     "iopub.execute_input": "2024-02-16T15:31:51.89445Z",
     "iopub.status.busy": "2024-02-16T15:31:51.893942Z",
     "iopub.status.idle": "2024-02-16T15:31:52.420651Z",
     "shell.execute_reply": "2024-02-16T15:31:52.419694Z",
     "shell.execute_reply.started": "2024-02-16T15:31:51.894395Z"
    },
    "trusted": true
   },
   "outputs": [],
   "source": [
    "from keras.utils import plot_model\n",
    "plot_model(model, to_file='model.png')"
   ]
  },
  {
   "cell_type": "code",
   "execution_count": null,
   "metadata": {
    "execution": {
     "iopub.execute_input": "2024-02-16T15:31:52.422642Z",
     "iopub.status.busy": "2024-02-16T15:31:52.422353Z",
     "iopub.status.idle": "2024-02-16T15:31:52.426968Z",
     "shell.execute_reply": "2024-02-16T15:31:52.426194Z",
     "shell.execute_reply.started": "2024-02-16T15:31:52.422588Z"
    },
    "trusted": true
   },
   "outputs": [],
   "source": [
    "import IPython\n",
    "\n",
    "real_audio = \"/kaggle/input/deep-voice-deepfake-voice-recognition/DEMONSTRATION/DEMONSTRATION/linus-original-DEMO.mp3\"\n",
    "fake_audio = \"/kaggle/input/deep-voice-deepfake-voice-recognition/DEMONSTRATION/DEMONSTRATION/linus-to-musk-DEMO.mp3\""
   ]
  },
  {
   "cell_type": "code",
   "execution_count": null,
   "metadata": {
    "execution": {
     "iopub.execute_input": "2024-02-16T15:31:52.428691Z",
     "iopub.status.busy": "2024-02-16T15:31:52.428403Z",
     "iopub.status.idle": "2024-02-16T15:31:52.506022Z",
     "shell.execute_reply": "2024-02-16T15:31:52.505058Z",
     "shell.execute_reply.started": "2024-02-16T15:31:52.428626Z"
    },
    "trusted": true
   },
   "outputs": [],
   "source": [
    "print(\"Real audio (Linus Sebastian):\")\n",
    "IPython.display.Audio(real_audio)"
   ]
  },
  {
   "cell_type": "code",
   "execution_count": null,
   "metadata": {
    "execution": {
     "iopub.execute_input": "2024-02-16T15:31:52.507461Z",
     "iopub.status.busy": "2024-02-16T15:31:52.507237Z",
     "iopub.status.idle": "2024-02-16T15:31:52.553635Z",
     "shell.execute_reply": "2024-02-16T15:31:52.552905Z",
     "shell.execute_reply.started": "2024-02-16T15:31:52.507423Z"
    },
    "trusted": true
   },
   "outputs": [],
   "source": [
    "print(\"DeepFake audio (Linus to Elon Musk):\")\n",
    "IPython.display.Audio(fake_audio)"
   ]
  },
  {
   "cell_type": "code",
   "execution_count": null,
   "metadata": {
    "execution": {
     "iopub.execute_input": "2024-02-16T15:31:52.555262Z",
     "iopub.status.busy": "2024-02-16T15:31:52.554981Z",
     "iopub.status.idle": "2024-02-16T15:31:52.57264Z",
     "shell.execute_reply": "2024-02-16T15:31:52.571887Z",
     "shell.execute_reply.started": "2024-02-16T15:31:52.555212Z"
    },
    "trusted": true
   },
   "outputs": [],
   "source": [
    "import wave\n",
    "import numpy as np\n",
    "import matplotlib.pyplot as plt"
   ]
  },
  {
   "cell_type": "code",
   "execution_count": null,
   "metadata": {
    "execution": {
     "iopub.execute_input": "2024-02-16T15:31:52.574452Z",
     "iopub.status.busy": "2024-02-16T15:31:52.574145Z",
     "iopub.status.idle": "2024-02-16T15:31:52.838861Z",
     "shell.execute_reply": "2024-02-16T15:31:52.837973Z",
     "shell.execute_reply.started": "2024-02-16T15:31:52.574402Z"
    },
    "trusted": true
   },
   "outputs": [],
   "source": [
    "margot_robbie_speech = wave.open('/kaggle/input/deep-voice-deepfake-voice-recognition/KAGGLE/AUDIO/REAL/margot-original.wav', 'rb')\n",
    "print(margot_robbie_speech)\n",
    "\n",
    "sample_freq = margot_robbie_speech.getframerate()\n",
    "n_samples = margot_robbie_speech.getnframes()\n",
    "t_audio = n_samples/sample_freq\n",
    "n_channels = margot_robbie_speech.getnchannels()\n",
    "\n",
    "print(\"The samping rate of the audio file is \" + str(sample_freq) + \"Hz, or \" + str(sample_freq/1000) + \"kHz\")\n",
    "print(\"The audio contains a total of \" + str(n_samples) + \" frames or samples\")\n",
    "print(\"The length of the audio file is \" + str(t_audio) + \" seconds\")\n",
    "print(\"The audio file has \" + str(n_channels) + \" channels.\\n\")\n",
    "\n",
    "\n",
    "\n",
    "signal_wave = margot_robbie_speech.readframes(n_samples)\n",
    "signal_array = np.frombuffer(signal_wave, dtype=np.int16)\n",
    "print(\"The signal contains a total of \" + str(signal_array.shape[0]) + \" samples.\")\n",
    "print(\"If this value is greater than \" + str(n_samples) + \" it is due to there being multiple channels\")\n",
    "print(\"E.g. - Samples * Channels = \" + str(n_samples*n_channels))\n",
    "\n",
    "# Split the channels\n",
    "l_channel = signal_array[0::2]\n",
    "r_channel = signal_array[1::2]"
   ]
  },
  {
   "cell_type": "code",
   "execution_count": null,
   "metadata": {
    "execution": {
     "iopub.execute_input": "2024-02-16T15:31:52.840734Z",
     "iopub.status.busy": "2024-02-16T15:31:52.840397Z",
     "iopub.status.idle": "2024-02-16T15:31:54.883002Z",
     "shell.execute_reply": "2024-02-16T15:31:54.882273Z",
     "shell.execute_reply.started": "2024-02-16T15:31:52.840674Z"
    },
    "trusted": true
   },
   "outputs": [],
   "source": [
    "timestamps = np.linspace(0, n_samples/sample_freq, num=n_samples)\n",
    "\n",
    "\n",
    "plt.figure(figsize=(10, 5))\n",
    "plt.plot(timestamps, l_channel)\n",
    "plt.title('Left Channel')\n",
    "plt.ylabel('Signal Value')\n",
    "plt.xlabel('Time (s)')\n",
    "plt.xlim(0, t_audio)\n",
    "plt.show()\n",
    "\n",
    "plt.figure(figsize=(10, 5))\n",
    "plt.plot(timestamps, r_channel)\n",
    "plt.title('Right Channel')\n",
    "plt.ylabel('Signal Value')\n",
    "plt.xlabel('Time (s)')\n",
    "plt.xlim(0, t_audio)\n",
    "plt.show()"
   ]
  },
  {
   "cell_type": "code",
   "execution_count": null,
   "metadata": {
    "execution": {
     "iopub.execute_input": "2024-02-16T15:31:54.884596Z",
     "iopub.status.busy": "2024-02-16T15:31:54.884358Z",
     "iopub.status.idle": "2024-02-16T15:31:56.615621Z",
     "shell.execute_reply": "2024-02-16T15:31:56.614379Z",
     "shell.execute_reply.started": "2024-02-16T15:31:54.884556Z"
    },
    "trusted": true
   },
   "outputs": [],
   "source": [
    "plt.figure(figsize=(10, 5))\n",
    "plt.specgram(l_channel, Fs=sample_freq, vmin=-20, vmax=50)\n",
    "plt.title('Left Channel')\n",
    "plt.ylabel('Frequency (Hz)')\n",
    "plt.xlabel('Time (s)')\n",
    "plt.xlim(0, t_audio)\n",
    "plt.colorbar()\n",
    "plt.show()\n",
    "\n",
    "plt.figure(figsize=(10, 5))\n",
    "plt.specgram(r_channel, Fs=sample_freq, vmin=-20, vmax=50)\n",
    "plt.title('Right Channel')\n",
    "plt.ylabel('Frequency (Hz)')\n",
    "plt.xlabel('Time (s)')\n",
    "plt.xlim(0, t_audio)\n",
    "plt.colorbar()\n",
    "plt.show()"
   ]
  },
  {
   "cell_type": "code",
   "execution_count": null,
   "metadata": {
    "execution": {
     "iopub.execute_input": "2024-02-16T15:31:56.618356Z",
     "iopub.status.busy": "2024-02-16T15:31:56.617742Z",
     "iopub.status.idle": "2024-02-16T15:31:58.651054Z",
     "shell.execute_reply": "2024-02-16T15:31:58.649964Z",
     "shell.execute_reply.started": "2024-02-16T15:31:56.618286Z"
    },
    "trusted": true
   },
   "outputs": [],
   "source": [
    "margot_robbie_fake_speech = wave.open('/kaggle/input/deep-voice-deepfake-voice-recognition/KAGGLE/AUDIO/FAKE/margot-to-ryan.wav', 'rb')\n",
    "print(margot_robbie_fake_speech)\n",
    "\n",
    "sample_freq_fake = margot_robbie_fake_speech.getframerate()\n",
    "n_samples_fake = margot_robbie_fake_speech.getnframes()\n",
    "t_audio_fake = n_samples/sample_freq\n",
    "n_channels_fake = margot_robbie_fake_speech.getnchannels()\n",
    "\n",
    "signal_wave_fake = margot_robbie_fake_speech.readframes(n_samples_fake)\n",
    "signal_array_fake = np.frombuffer(signal_wave_fake, dtype=np.int16)\n",
    "\n",
    "\n",
    "l_channel_fake = signal_array_fake[0::2]\n",
    "\n",
    "plt.figure(figsize=(10, 5))\n",
    "plt.specgram(l_channel, Fs=sample_freq, vmin=-20, vmax=50)\n",
    "plt.title('Left Channel - REAL MARGOT ROBBIE')\n",
    "plt.ylabel('Frequency (Hz)')\n",
    "plt.xlabel('Time (s)')\n",
    "plt.xlim(0, t_audio)\n",
    "plt.colorbar()\n",
    "plt.show()\n",
    "\n",
    "plt.figure(figsize=(10, 5))\n",
    "plt.specgram(l_channel_fake, Fs=sample_freq_fake, vmin=-20, vmax=50)\n",
    "plt.title('Left Channel - FAKE MARGOT ROBBIE (Ryan Gosling)')\n",
    "plt.ylabel('Frequency (Hz)')\n",
    "plt.xlabel('Time (s)')\n",
    "plt.xlim(0, t_audio_fake)\n",
    "plt.colorbar()\n",
    "plt.show()"
   ]
  },
  {
   "cell_type": "code",
   "execution_count": null,
   "metadata": {
    "execution": {
     "iopub.execute_input": "2024-02-16T15:31:58.653525Z",
     "iopub.status.busy": "2024-02-16T15:31:58.652872Z",
     "iopub.status.idle": "2024-02-16T15:31:58.79675Z",
     "shell.execute_reply": "2024-02-16T15:31:58.795914Z",
     "shell.execute_reply.started": "2024-02-16T15:31:58.653454Z"
    },
    "trusted": true
   },
   "outputs": [],
   "source": [
    "import pandas as pd\n",
    "\n",
    "df = pd.read_csv(\"/kaggle/input/deep-voice-deepfake-voice-recognition/KAGGLE/DATASET-balanced.csv\")\n",
    "\n",
    "X = df.iloc[:,:-1]\n",
    "y = df.iloc[:,-1]\n",
    "\n",
    "print(X.head(10))\n",
    "print(y.head(10))"
   ]
  },
  {
   "cell_type": "code",
   "execution_count": null,
   "metadata": {
    "execution": {
     "iopub.execute_input": "2024-02-16T15:31:58.798524Z",
     "iopub.status.busy": "2024-02-16T15:31:58.798198Z",
     "iopub.status.idle": "2024-02-16T15:31:58.856798Z",
     "shell.execute_reply": "2024-02-16T15:31:58.856035Z",
     "shell.execute_reply.started": "2024-02-16T15:31:58.798461Z"
    },
    "trusted": true
   },
   "outputs": [],
   "source": [
    "from sklearn import preprocessing\n",
    "lb = preprocessing.LabelBinarizer()\n",
    "lb.fit(y)\n",
    "y = lb.transform(y)\n",
    "y = y.ravel()\n",
    "print(y)"
   ]
  },
  {
   "cell_type": "code",
   "execution_count": null,
   "metadata": {
    "execution": {
     "iopub.execute_input": "2024-02-16T15:31:58.858787Z",
     "iopub.status.busy": "2024-02-16T15:31:58.858427Z",
     "iopub.status.idle": "2024-02-16T15:31:59.009991Z",
     "shell.execute_reply": "2024-02-16T15:31:59.009212Z",
     "shell.execute_reply.started": "2024-02-16T15:31:58.858726Z"
    },
    "trusted": true
   },
   "outputs": [],
   "source": [
    "from sklearn.ensemble import RandomForestClassifier\n",
    "model = RandomForestClassifier(n_estimators=80, random_state=1)\n",
    "\n",
    "from sklearn.model_selection import KFold\n",
    "kf = KFold(n_splits=10,  shuffle=True, random_state=1)\n",
    "\n",
    "print(model)\n",
    "print(\"KFold splits: \" + str(kf.get_n_splits(X)))"
   ]
  },
  {
   "cell_type": "code",
   "execution_count": null,
   "metadata": {
    "execution": {
     "iopub.execute_input": "2024-02-16T15:31:59.01168Z",
     "iopub.status.busy": "2024-02-16T15:31:59.011444Z",
     "iopub.status.idle": "2024-02-16T15:32:35.54382Z",
     "shell.execute_reply": "2024-02-16T15:32:35.542668Z",
     "shell.execute_reply.started": "2024-02-16T15:31:59.011639Z"
    },
    "trusted": true
   },
   "outputs": [],
   "source": [
    "import time\n",
    "\n",
    "import numpy as np\n",
    "\n",
    "from sklearn.metrics import accuracy_score, precision_score, recall_score, f1_score, matthews_corrcoef, roc_auc_score\n",
    "\n",
    "acc_score = []\n",
    "prec_score = []\n",
    "rec_score = []\n",
    "f1s = []\n",
    "MCCs = []\n",
    "ROCareas = []\n",
    "\n",
    "start = time.time()\n",
    "for train_index , test_index in kf.split(X):\n",
    "    X_train , X_test = X.iloc[train_index,:],X.iloc[test_index,:]\n",
    "    y_train , y_test = y[train_index] , y[test_index]\n",
    "     \n",
    "    model.fit(X_train,y_train)\n",
    "    pred_values = model.predict(X_test)\n",
    "    acc = accuracy_score(pred_values , y_test)\n",
    "    acc_score.append(acc)\n",
    "    \n",
    "    prec = precision_score(y_test , pred_values, average=\"binary\", pos_label=1)\n",
    "    prec_score.append(prec)\n",
    "    \n",
    "    rec = recall_score(y_test , pred_values, average=\"binary\", pos_label=1)\n",
    "    rec_score.append(rec)\n",
    "    \n",
    "    f1 = f1_score(y_test , pred_values, average=\"binary\", pos_label=1)\n",
    "    f1s.append(f1)\n",
    "    \n",
    "    mcc = matthews_corrcoef(y_test , pred_values)\n",
    "    MCCs.append(mcc)   \n",
    "    \n",
    "    roc = roc_auc_score(y_test , pred_values)\n",
    "    ROCareas.append(roc)\n",
    "end = time.time()\n",
    "timeTaken = (end - start)\n",
    "print(\"Model trained in: \" + str( round(timeTaken, 2) ) + \" seconds.\")"
   ]
  },
  {
   "cell_type": "code",
   "execution_count": null,
   "metadata": {
    "execution": {
     "iopub.execute_input": "2024-02-16T15:32:35.545633Z",
     "iopub.status.busy": "2024-02-16T15:32:35.545298Z",
     "iopub.status.idle": "2024-02-16T15:32:35.558443Z",
     "shell.execute_reply": "2024-02-16T15:32:35.557608Z",
     "shell.execute_reply.started": "2024-02-16T15:32:35.545574Z"
    },
    "trusted": true
   },
   "outputs": [],
   "source": [
    "print(\"Mean results and (std.):\\n\")\n",
    "print(\"Accuracy: \" + str( round(np.mean(acc_score)*100, 3) ) + \"% (\" + str( round(np.std(acc_score)*100, 3) ) + \")\\n\")\n",
    "print(\"Precision: \" + str( round(np.mean(prec_score), 3) ) + \" (\" + str( round(np.std(prec_score), 3) ) + \")\")\n",
    "print(\"Recall: \" + str( round(np.mean(rec_score), 3) ) + \" (\" + str( round(np.std(rec_score), 3) ) + \")\")\n",
    "print(\"F1-Score: \" + str( round(np.mean(f1s), 3) ) + \" (\" + str( round(np.std(f1s), 3) ) + \")\")\n",
    "print(\"MCC: \" + str( round(np.mean(MCCs), 3) ) + \" (\" + str( round(np.std(MCCs), 3) ) + \")\")\n",
    "print(\"ROC AUC: \" + str( round(np.mean(ROCareas), 3) ) + \" (\" + str( round(np.std(ROCareas), 3) ) + \")\")"
   ]
  },
  {
   "cell_type": "code",
   "execution_count": null,
   "metadata": {
    "execution": {
     "iopub.execute_input": "2024-02-16T15:32:35.560027Z",
     "iopub.status.busy": "2024-02-16T15:32:35.559774Z",
     "iopub.status.idle": "2024-02-16T15:33:12.740822Z",
     "shell.execute_reply": "2024-02-16T15:33:12.739673Z",
     "shell.execute_reply.started": "2024-02-16T15:32:35.559977Z"
    },
    "trusted": true
   },
   "outputs": [],
   "source": [
    "import pandas as pd\n",
    "import numpy as np\n",
    "import time\n",
    "import matplotlib.pyplot as plt\n",
    "\n",
    "from sklearn import preprocessing\n",
    "from sklearn.model_selection import KFold, GridSearchCV\n",
    "from sklearn.ensemble import RandomForestClassifier\n",
    "from sklearn.metrics import accuracy_score, precision_score, recall_score, f1_score, matthews_corrcoef, roc_auc_score\n",
    "\n",
    "# Load dataset\n",
    "df = pd.read_csv(\"/kaggle/input/deep-voice-deepfake-voice-recognition/KAGGLE/DATASET-balanced.csv\")\n",
    "\n",
    "# Data Exploration\n",
    "print(df.head())\n",
    "print(df.describe())\n",
    "print(df.info())\n",
    "\n",
    "# Splitting the dataset into features and target\n",
    "X = df.iloc[:,:-1]\n",
    "y = df.iloc[:,-1]\n",
    "\n",
    "# Label Binarization\n",
    "lb = preprocessing.LabelBinarizer()\n",
    "lb.fit(y)\n",
    "y = lb.transform(y)\n",
    "y = y.ravel()\n",
    "\n",
    "# Feature scaling (Optional)\n",
    "# from sklearn.preprocessing import StandardScaler\n",
    "# scaler = StandardScaler()\n",
    "# X = scaler.fit_transform(X)\n",
    "\n",
    "# Initialize model and KFold\n",
    "model = RandomForestClassifier(n_estimators=80, random_state=1)\n",
    "kf = KFold(n_splits=10,  shuffle=True, random_state=1)\n",
    "\n",
    "# Metrics to keep track\n",
    "acc_score = []\n",
    "prec_score = []\n",
    "rec_score = []\n",
    "f1s = []\n",
    "MCCs = []\n",
    "ROCareas = []\n",
    "\n",
    "# Model training and evaluation\n",
    "start = time.time()\n",
    "for train_index, test_index in kf.split(X):\n",
    "    X_train, X_test = X.iloc[train_index,:], X.iloc[test_index,:]\n",
    "    y_train, y_test = y[train_index], y[test_index]\n",
    "    \n",
    "    model.fit(X_train, y_train)\n",
    "    pred_values = model.predict(X_test)\n",
    "    \n",
    "    acc_score.append(accuracy_score(y_test, pred_values))\n",
    "    prec_score.append(precision_score(y_test, pred_values))\n",
    "    rec_score.append(recall_score(y_test, pred_values))\n",
    "    f1s.append(f1_score(y_test, pred_values))\n",
    "    MCCs.append(matthews_corrcoef(y_test, pred_values))\n",
    "    ROCareas.append(roc_auc_score(y_test, pred_values))\n",
    "\n",
    "end = time.time()\n",
    "\n",
    "# Display Results\n",
    "print(f\"Model trained in {round(end - start, 2)} seconds.\")\n",
    "print(\"Mean results and (std.):\\n\")\n",
    "print(f\"Accuracy: {round(np.mean(acc_score)*100, 3)}% ({round(np.std(acc_score)*100, 3)})\")\n",
    "print(f\"Precision: {round(np.mean(prec_score), 3)} ({round(np.std(prec_score), 3)})\")\n",
    "print(f\"Recall: {round(np.mean(rec_score), 3)} ({round(np.std(rec_score), 3)})\")\n",
    "print(f\"F1-Score: {round(np.mean(f1s), 3)} ({round(np.std(f1s), 3)})\")\n",
    "print(f\"MCC: {round(np.mean(MCCs), 3)} ({round(np.std(MCCs), 3)})\")\n",
    "print(f\"ROC AUC: {round(np.mean(ROCareas), 3)} ({round(np.std(ROCareas), 3)})\")\n",
    "\n",
    "# Performance Visualization\n",
    "plt.figure(figsize=(12, 6))\n",
    "plt.plot(acc_score, label='Accuracy')\n",
    "plt.plot(prec_score, label='Precision')\n",
    "plt.plot(rec_score, label='Recall')\n",
    "plt.plot(f1s, label='F1 Score')\n",
    "plt.plot(MCCs, label='MCC')\n",
    "plt.plot(ROCareas, label='ROC AUC')\n",
    "plt.title('Performance metrics across folds')\n",
    "plt.xlabel('Fold')\n",
    "plt.ylabel('Metric Value')\n",
    "plt.legend()\n",
    "plt.show()\n"
   ]
  }
 ],
 "metadata": {
  "kaggle": {
   "accelerator": "gpu",
   "dataSources": [
    {
     "databundleVersionId": 858837,
     "sourceId": 16880,
     "sourceType": "competition"
    },
    {
     "datasetId": 13405,
     "sourceId": 18147,
     "sourceType": "datasetVersion"
    },
    {
     "datasetId": 444558,
     "sourceId": 842050,
     "sourceType": "datasetVersion"
    },
    {
     "datasetId": 451078,
     "sourceId": 893807,
     "sourceType": "datasetVersion"
    },
    {
     "datasetId": 3579787,
     "sourceId": 6358196,
     "sourceType": "datasetVersion"
    }
   ],
   "dockerImageVersionId": 29845,
   "isGpuEnabled": true,
   "isInternetEnabled": true,
   "language": "python",
   "sourceType": "notebook"
  },
  "kernelspec": {
   "display_name": "Python 3",
   "language": "python",
   "name": "python3"
  },
  "language_info": {
   "codemirror_mode": {
    "name": "ipython",
    "version": 3
   },
   "file_extension": ".py",
   "mimetype": "text/x-python",
   "name": "python",
   "nbconvert_exporter": "python",
   "pygments_lexer": "ipython3",
   "version": "3.6.6"
  }
 },
 "nbformat": 4,
 "nbformat_minor": 4
}
