{
 "cells": [
  {
   "cell_type": "code",
   "execution_count": null,
   "metadata": {
    "execution": {
     "iopub.execute_input": "2024-06-16T05:29:33.256927Z",
     "iopub.status.busy": "2024-06-16T05:29:33.256585Z",
     "iopub.status.idle": "2024-06-16T05:29:45.148578Z",
     "shell.execute_reply": "2024-06-16T05:29:45.147594Z",
     "shell.execute_reply.started": "2024-06-16T05:29:33.256899Z"
    },
    "trusted": true
   },
   "outputs": [],
   "source": [
    "import tensorflow as tf\n",
    "import numpy as np\n",
    "import pandas as pd \n",
    "import os\n",
    "from sklearn.metrics import roc_curve, roc_auc_score\n",
    "import cv2\n",
    "import matplotlib.pyplot as plt\n",
    "from sklearn.metrics import classification_report\n",
    "from tensorflow import keras\n",
    "from tensorflow.keras.layers import Input, Lambda, Dense, Flatten,Dropout,BatchNormalization,Dropout\n",
    "from tensorflow.keras.models import Model\n",
    "from tensorflow.keras.preprocessing import image\n",
    "from tensorflow.keras.preprocessing.image import ImageDataGenerator\n",
    "from tensorflow.keras.layers import Layer, MultiHeadAttention\n",
    "from tensorflow.keras.layers import LayerNormalization\n",
    "from tensorflow.keras.models import Sequential\n",
    "from tensorflow.keras.optimizers import Adam\n",
    "from tensorflow.keras.layers import LeakyReLU,LSTM, TimeDistributed\n",
    "from sklearn.metrics import precision_recall_curve\n",
    "from sklearn.metrics import auc,accuracy_score\n",
    "from tensorflow.keras.applications import InceptionResNetV2\n",
    "from tensorflow.keras.callbacks import EarlyStopping, ModelCheckpoint\n",
    "from tensorflow.keras.models import load_model\n",
    "import requests\n",
    "from tensorflow.keras.preprocessing import image\n",
    "from tensorflow.keras.models import Model\n",
    "import seaborn as sns\n",
    "from sklearn.metrics import f1_score, accuracy_score, confusion_matrix\n"
   ]
  },
  {
   "cell_type": "code",
   "execution_count": null,
   "metadata": {
    "execution": {
     "iopub.execute_input": "2024-06-16T05:30:10.672619Z",
     "iopub.status.busy": "2024-06-16T05:30:10.671523Z",
     "iopub.status.idle": "2024-06-16T05:30:10.676612Z",
     "shell.execute_reply": "2024-06-16T05:30:10.675691Z",
     "shell.execute_reply.started": "2024-06-16T05:30:10.672583Z"
    },
    "trusted": true
   },
   "outputs": [],
   "source": [
    "train_dir='/kaggle/input/dataset-splitted/splitted_dataset/Train'\n",
    "validation_dir='/kaggle/input/dataset-splitted/splitted_dataset/Validation'\n",
    "test_dir='/kaggle/input/dataset-splitted/splitted_dataset/Test'"
   ]
  },
  {
   "cell_type": "code",
   "execution_count": null,
   "metadata": {
    "execution": {
     "iopub.execute_input": "2024-06-16T05:30:14.556253Z",
     "iopub.status.busy": "2024-06-16T05:30:14.555409Z",
     "iopub.status.idle": "2024-06-16T05:30:14.779857Z",
     "shell.execute_reply": "2024-06-16T05:30:14.778989Z",
     "shell.execute_reply.started": "2024-06-16T05:30:14.556222Z"
    },
    "trusted": true
   },
   "outputs": [],
   "source": [
    "train_generator = ImageDataGenerator(\n",
    "    rescale=1./255,                  \n",
    "    rotation_range=20,\n",
    "    width_shift_range=0.2,\n",
    "    height_shift_range=0.2,\n",
    "    shear_range=0.2,\n",
    "    zoom_range=0.2,\n",
    "    horizontal_flip=True,\n",
    "    fill_mode='nearest')\n",
    "validation_generator = ImageDataGenerator(rescale=1./255)\n",
    "test_generator = ImageDataGenerator(rescale=1./255)\n",
    "\n",
    "train_flow = train_generator.flow_from_directory(train_dir, target_size=(224,224), batch_size=16, class_mode='binary')\n",
    "validation_flow = validation_generator.flow_from_directory(validation_dir, target_size=(224,224), batch_size=16, class_mode='binary')\n",
    "test_flow = test_generator.flow_from_directory(test_dir, shuffle= False , target_size=(224,224), batch_size=16, class_mode='binary')\n"
   ]
  },
  {
   "cell_type": "code",
   "execution_count": null,
   "metadata": {
    "execution": {
     "iopub.execute_input": "2024-06-16T05:30:20.841375Z",
     "iopub.status.busy": "2024-06-16T05:30:20.840898Z",
     "iopub.status.idle": "2024-06-16T05:30:28.337677Z",
     "shell.execute_reply": "2024-06-16T05:30:28.336752Z",
     "shell.execute_reply.started": "2024-06-16T05:30:20.841345Z"
    },
    "trusted": true
   },
   "outputs": [],
   "source": [
    "# Preparing the Inception ResNet V2 model\n",
    "base_model = InceptionResNetV2(weights='imagenet', include_top=False)\n",
    "for layer in base_model.layers:\n",
    "    layer.trainable = True\n",
    "# Add custom layers\n",
    "inputs = tf.keras.Input(shape=(224, 224, 3))\n",
    "x = base_model(inputs, training=False)\n",
    "x = Dense(256, activation='relu')(x)\n",
    "x = Dropout(0.5)(x)\n",
    "x = Dense(128, activation='relu')(x)\n",
    "x = Dropout(0.5)(x)\n",
    "x = TimeDistributed(Flatten())(x)\n",
    "x = LSTM(128)(x)\n",
    "x = Dropout(0.5)(x)\n",
    "outputs = Dense(1, activation='sigmoid')(x)\n",
    "model = tf.keras.Model(inputs, outputs)\n",
    "model.compile(\n",
    "    optimizer=Adam(learning_rate=0.0001),\n",
    "    loss='binary_crossentropy',\n",
    "    metrics=['accuracy']\n",
    ")\n",
    "model.summary()"
   ]
  },
  {
   "cell_type": "code",
   "execution_count": null,
   "metadata": {
    "execution": {
     "iopub.execute_input": "2024-06-16T05:30:30.076063Z",
     "iopub.status.busy": "2024-06-16T05:30:30.075722Z",
     "iopub.status.idle": "2024-06-16T05:30:30.082319Z",
     "shell.execute_reply": "2024-06-16T05:30:30.081404Z",
     "shell.execute_reply.started": "2024-06-16T05:30:30.076031Z"
    },
    "trusted": true
   },
   "outputs": [],
   "source": [
    "checkpoint_path = '.\\\\tmp_checkpoint'\n",
    "print('creating Directory: ' + checkpoint_path)\n",
    "os.makedirs(checkpoint_path, exist_ok=True)\n",
    "\n",
    "cus_callbacks = [\n",
    "    EarlyStopping(\n",
    "        monitor='loss',  # Monitor the loss value\n",
    "        patience=5,  # Stop training when loss has not improved for 5 epochs\n",
    "        # min_delta=0.001,  # Minimum change in loss to qualify as an improvement\n",
    "        mode='min',  # Minimize the loss\n",
    "       verbose=1\n",
    "    ),\n",
    "    ModelCheckpoint(\n",
    "        filepath=os.path.join(checkpoint_path, 'best_model_ResnetV2.keras'),\n",
    "        monitor='val_loss',  # Note the lowercase 'val_loss'\n",
    "        mode='min',\n",
    "        verbose= 1,\n",
    "        save_best_only=True,\n",
    "         \n",
    "    )\n",
    "]"
   ]
  },
  {
   "cell_type": "code",
   "execution_count": null,
   "metadata": {
    "execution": {
     "iopub.execute_input": "2024-06-16T05:30:34.886189Z",
     "iopub.status.busy": "2024-06-16T05:30:34.885497Z",
     "iopub.status.idle": "2024-06-16T05:50:02.626727Z",
     "shell.execute_reply": "2024-06-16T05:50:02.62598Z",
     "shell.execute_reply.started": "2024-06-16T05:30:34.886153Z"
    },
    "trusted": true
   },
   "outputs": [],
   "source": [
    "history=model.fit(train_flow, epochs=50, validation_data= validation_flow,callbacks=cus_callbacks)"
   ]
  },
  {
   "cell_type": "code",
   "execution_count": null,
   "metadata": {
    "execution": {
     "iopub.execute_input": "2024-06-16T05:54:47.350649Z",
     "iopub.status.busy": "2024-06-16T05:54:47.349676Z",
     "iopub.status.idle": "2024-06-16T05:56:08.846806Z",
     "shell.execute_reply": "2024-06-16T05:56:08.845919Z",
     "shell.execute_reply.started": "2024-06-16T05:54:47.350613Z"
    },
    "trusted": true
   },
   "outputs": [],
   "source": [
    "from tensorflow.keras.models import load_model\n",
    "best_model=load_model(os.path.join(checkpoint_path,'best_model_ResnetV2.keras'))\n",
    "\n",
    "loss, accuracy = best_model.evaluate(test_flow)\n",
    "# Convert accuracy to percentage\n",
    "accuracy_percentage = accuracy * 100\n",
    "\n",
    "print(f'test accuracy: {accuracy_percentage:.2f}%')"
   ]
  },
  {
   "cell_type": "code",
   "execution_count": null,
   "metadata": {
    "execution": {
     "iopub.execute_input": "2024-06-16T05:54:34.484594Z",
     "iopub.status.busy": "2024-06-16T05:54:34.483998Z",
     "iopub.status.idle": "2024-06-16T05:54:36.032967Z",
     "shell.execute_reply": "2024-06-16T05:54:36.032078Z",
     "shell.execute_reply.started": "2024-06-16T05:54:34.484561Z"
    },
    "trusted": true
   },
   "outputs": [],
   "source": [
    "loss, accuracy = best_model.evaluate(validation_flow)\n",
    "# Convert accuracy to percentage\n",
    "accuracy_percentage = accuracy * 100\n",
    "\n",
    "print(f'Validation accuracy: {accuracy_percentage:.2f}%')"
   ]
  },
  {
   "cell_type": "code",
   "execution_count": null,
   "metadata": {
    "execution": {
     "iopub.execute_input": "2024-06-16T05:57:48.986837Z",
     "iopub.status.busy": "2024-06-16T05:57:48.98587Z",
     "iopub.status.idle": "2024-06-16T05:57:49.235407Z",
     "shell.execute_reply": "2024-06-16T05:57:49.234457Z",
     "shell.execute_reply.started": "2024-06-16T05:57:48.986805Z"
    },
    "trusted": true
   },
   "outputs": [],
   "source": [
    "# Plot training & validation accuracy values\n",
    "plt.plot(history.history['accuracy'])\n",
    "plt.plot(history.history['val_accuracy'])\n",
    "plt.title('Model Accuracy')\n",
    "plt.xlabel('Epoch')\n",
    "plt.ylabel('Accuracy')\n",
    "plt.ylim(0.5, 1.1)\n",
    "plt.xlim(1,23) \n",
    "plt.legend(['Train', 'Validation'], loc='lower right')\n",
    "plt.show()"
   ]
  },
  {
   "cell_type": "code",
   "execution_count": null,
   "metadata": {
    "execution": {
     "iopub.execute_input": "2024-06-16T05:58:41.446653Z",
     "iopub.status.busy": "2024-06-16T05:58:41.445705Z",
     "iopub.status.idle": "2024-06-16T05:58:41.68766Z",
     "shell.execute_reply": "2024-06-16T05:58:41.686735Z",
     "shell.execute_reply.started": "2024-06-16T05:58:41.446618Z"
    },
    "trusted": true
   },
   "outputs": [],
   "source": [
    "# Plot training & validation loss values\n",
    "plt.plot(history.history['loss'])\n",
    "plt.plot(history.history['val_loss'])\n",
    "plt.title('Model Loss')\n",
    "plt.xlabel('Epoch')\n",
    "plt.ylabel('Loss')\n",
    "plt.ylim(0,0.7)\n",
    "plt.legend(['Train', 'Validation'], loc='upper right')\n",
    "plt.show()"
   ]
  },
  {
   "cell_type": "code",
   "execution_count": null,
   "metadata": {
    "execution": {
     "iopub.execute_input": "2024-06-16T05:58:50.67652Z",
     "iopub.status.busy": "2024-06-16T05:58:50.675671Z",
     "iopub.status.idle": "2024-06-16T05:58:56.861325Z",
     "shell.execute_reply": "2024-06-16T05:58:56.860478Z",
     "shell.execute_reply.started": "2024-06-16T05:58:50.676487Z"
    },
    "trusted": true
   },
   "outputs": [],
   "source": [
    "# Get an image and its label from the test flow\n",
    "img, label = next(test_flow)\n",
    "label_ = label.argmax(axis=-1)\n",
    "\n",
    "#make prediction using the model\n",
    "res = model.predict(img)\n",
    "\n",
    "# Determine the predicted class\n",
    "class_ = res.argmax(axis=1)"
   ]
  },
  {
   "cell_type": "code",
   "execution_count": null,
   "metadata": {
    "execution": {
     "iopub.execute_input": "2024-06-16T05:59:28.586193Z",
     "iopub.status.busy": "2024-06-16T05:59:28.585525Z",
     "iopub.status.idle": "2024-06-16T05:59:28.909666Z",
     "shell.execute_reply": "2024-06-16T05:59:28.908781Z",
     "shell.execute_reply.started": "2024-06-16T05:59:28.58616Z"
    },
    "trusted": true
   },
   "outputs": [],
   "source": [
    "# Display the image\n",
    "plt.imshow(img[1])\n",
    "plt.show()"
   ]
  },
  {
   "cell_type": "code",
   "execution_count": null,
   "metadata": {
    "execution": {
     "iopub.execute_input": "2024-06-16T05:59:49.377566Z",
     "iopub.status.busy": "2024-06-16T05:59:49.376766Z",
     "iopub.status.idle": "2024-06-16T05:59:49.383234Z",
     "shell.execute_reply": "2024-06-16T05:59:49.382203Z",
     "shell.execute_reply.started": "2024-06-16T05:59:49.377533Z"
    },
    "trusted": true
   },
   "outputs": [],
   "source": [
    "if (class_ == 0).all():\n",
    "    if (label_ == 0).all():\n",
    "        print(\"Actual class is fake, predicted class is fake\")\n",
    "    else:\n",
    "        print(\"Actual class is real, predicted class is fake\")\n",
    "else:\n",
    "    if (label_ == 0).all():\n",
    "        print(\"Actual class is fake, predicted class is real\")\n",
    "    else:\n",
    "        print(\"Actual class is real, predicted class is real\")"
   ]
  },
  {
   "cell_type": "code",
   "execution_count": null,
   "metadata": {
    "execution": {
     "iopub.execute_input": "2024-06-16T05:59:55.453174Z",
     "iopub.status.busy": "2024-06-16T05:59:55.452486Z",
     "iopub.status.idle": "2024-06-16T06:00:08.345098Z",
     "shell.execute_reply": "2024-06-16T06:00:08.34432Z",
     "shell.execute_reply.started": "2024-06-16T05:59:55.453138Z"
    },
    "trusted": true
   },
   "outputs": [],
   "source": [
    "test_pred = best_model.predict(test_flow)\n",
    "test_pred_classes = np.round(test_pred)\n",
    "\n",
    "\n",
    "# Get the true classes of the test set\n",
    "test_true_classes = test_flow.classes"
   ]
  },
  {
   "cell_type": "code",
   "execution_count": null,
   "metadata": {
    "execution": {
     "iopub.execute_input": "2024-06-16T06:00:09.105656Z",
     "iopub.status.busy": "2024-06-16T06:00:09.104964Z",
     "iopub.status.idle": "2024-06-16T06:00:09.11323Z",
     "shell.execute_reply": "2024-06-16T06:00:09.111915Z",
     "shell.execute_reply.started": "2024-06-16T06:00:09.105621Z"
    },
    "trusted": true
   },
   "outputs": [],
   "source": [
    "names=['fake','real']\n",
    "print(\"Confusion Matrix\")\n",
    "cm=confusion_matrix(test_flow.classes,test_pred_classes)\n",
    "print(cm)"
   ]
  },
  {
   "cell_type": "code",
   "execution_count": null,
   "metadata": {
    "execution": {
     "iopub.execute_input": "2024-06-16T06:10:02.253327Z",
     "iopub.status.busy": "2024-06-16T06:10:02.252958Z",
     "iopub.status.idle": "2024-06-16T06:10:02.451446Z",
     "shell.execute_reply": "2024-06-16T06:10:02.450481Z",
     "shell.execute_reply.started": "2024-06-16T06:10:02.253296Z"
    },
    "trusted": true
   },
   "outputs": [],
   "source": [
    "#Plot confusion matrix as a heatmap\n",
    "# Generate confusion matrix\n",
    "import seaborn as sns\n",
    "cm = confusion_matrix(test_true_classes, test_pred_classes)\n",
    "plt.figure(figsize=(4,2))\n",
    "sns.heatmap(cm, annot=True, fmt='d', cmap='Blues',\n",
    "            xticklabels=test_flow.class_indices.keys(),\n",
    "            yticklabels=test_flow.class_indices.keys())\n",
    "plt.xlabel('Predicted')\n",
    "plt.ylabel('True')\n",
    "plt.title('Confusion Matrix')\n",
    "plt.show()"
   ]
  },
  {
   "cell_type": "code",
   "execution_count": null,
   "metadata": {
    "execution": {
     "iopub.execute_input": "2024-06-16T06:00:28.466748Z",
     "iopub.status.busy": "2024-06-16T06:00:28.466009Z",
     "iopub.status.idle": "2024-06-16T06:00:28.483776Z",
     "shell.execute_reply": "2024-06-16T06:00:28.482854Z",
     "shell.execute_reply.started": "2024-06-16T06:00:28.466717Z"
    },
    "trusted": true
   },
   "outputs": [],
   "source": [
    "#Classification report\n",
    "report = classification_report(\n",
    "    test_true_classes,\n",
    "    test_pred_classes, \n",
    "    target_names=[\"fake\", \"real\"],\n",
    "    labels=[0, 1], digits=4)\n",
    "print(\"Classification Report:\\n\", report)"
   ]
  },
  {
   "cell_type": "code",
   "execution_count": null,
   "metadata": {
    "execution": {
     "iopub.execute_input": "2024-06-16T06:00:53.056076Z",
     "iopub.status.busy": "2024-06-16T06:00:53.055407Z",
     "iopub.status.idle": "2024-06-16T06:00:53.30367Z",
     "shell.execute_reply": "2024-06-16T06:00:53.302728Z",
     "shell.execute_reply.started": "2024-06-16T06:00:53.056044Z"
    },
    "trusted": true
   },
   "outputs": [],
   "source": [
    "# Calculate ROC curve\n",
    "fpr, tpr, thresholds = roc_curve(test_true_classes, test_pred)\n",
    "\n",
    "# Calculate AUC\n",
    "auc = roc_auc_score(test_true_classes, test_pred)\n",
    "\n",
    "# Plot ROC curve\n",
    "plt.figure(figsize=(6, 4))\n",
    "plt.plot(fpr, tpr, label='ROC curve (AUC = {:.4f})'.format(auc))\n",
    "plt.plot([0, 1], [0, 1], 'k--', label='Random')\n",
    "plt.xlabel('False Positive Rate')\n",
    "plt.ylabel('True Positive Rate')\n",
    "plt.title('Receiver Operating Characteristic (ROC) Curve')\n",
    "plt.legend(loc='lower right')\n",
    "plt.grid(True)\n",
    "plt.show()"
   ]
  },
  {
   "cell_type": "code",
   "execution_count": null,
   "metadata": {
    "execution": {
     "iopub.execute_input": "2024-06-16T06:00:59.405524Z",
     "iopub.status.busy": "2024-06-16T06:00:59.404897Z",
     "iopub.status.idle": "2024-06-16T06:00:59.413862Z",
     "shell.execute_reply": "2024-06-16T06:00:59.412733Z",
     "shell.execute_reply.started": "2024-06-16T06:00:59.405492Z"
    },
    "trusted": true
   },
   "outputs": [],
   "source": [
    "tn, fp, fn, tp = confusion_matrix(test_true_classes, test_pred_classes).ravel()\n",
    "\n",
    "# Calculate sensitivity and specificity\n",
    "sensitivity = tp / (tp + fn)\n",
    "specificity = tn / (tn + fp)\n",
    "\n",
    "print(f'Sensitivity (True Positive Rate): {sensitivity:.4f}')\n",
    "print(f'Specificity (True Negative Rate): {specificity:.4f}')"
   ]
  },
  {
   "cell_type": "code",
   "execution_count": null,
   "metadata": {
    "execution": {
     "iopub.execute_input": "2024-06-16T06:01:05.456562Z",
     "iopub.status.busy": "2024-06-16T06:01:05.456183Z",
     "iopub.status.idle": "2024-06-16T06:01:05.471135Z",
     "shell.execute_reply": "2024-06-16T06:01:05.470059Z",
     "shell.execute_reply.started": "2024-06-16T06:01:05.456532Z"
    },
    "trusted": true
   },
   "outputs": [],
   "source": [
    "from sklearn.metrics import f1_score, accuracy_score, confusion_matrix\n",
    "\n",
    "# Assuming you have obtained test_pred_classes and test_true_classes as described earlier\n",
    "\n",
    "# Calculate F1 score for the test classes\n",
    "f1 = f1_score(test_true_classes, test_pred_classes)\n",
    "# Calculate accuracy to get error rate\n",
    "accuracy = accuracy_score(test_true_classes, test_pred_classes)\n",
    "error_rate = 1 - accuracy\n",
    "# Calculate G-mean\n",
    "g_mean = (sensitivity * specificity) ** 0.5\n",
    "\n",
    "# Calculate F-measure\n",
    "f_measure = 2 * ((sensitivity * specificity) / (sensitivity + specificity))\n",
    "\n",
    "print(f'F1 Score: {f1:.4f}')\n",
    "print(f'Error Rate: {error_rate:.4f}')\n",
    "print(f'G-mean: {g_mean:.4f}')\n",
    "print(f'F-measure: {f_measure:.4f}')"
   ]
  },
  {
   "cell_type": "code",
   "execution_count": null,
   "metadata": {
    "execution": {
     "iopub.execute_input": "2024-06-16T06:03:02.121011Z",
     "iopub.status.busy": "2024-06-16T06:03:02.12039Z",
     "iopub.status.idle": "2024-06-16T06:03:04.792412Z",
     "shell.execute_reply": "2024-06-16T06:03:04.791491Z",
     "shell.execute_reply.started": "2024-06-16T06:03:02.120981Z"
    },
    "trusted": true
   },
   "outputs": [],
   "source": [
    "# Save the model\n",
    "model_save_path = \"ResnetV2_with_LSTM_deepfake_detection_model.h5\"\n",
    "model.save(model_save_path)\n",
    "print(\"Model saved at:\", model_save_path)"
   ]
  }
 ],
 "metadata": {
  "kaggle": {
   "accelerator": "nvidiaTeslaT4",
   "dataSources": [
    {
     "datasetId": 5191669,
     "sourceId": 8664286,
     "sourceType": "datasetVersion"
    }
   ],
   "dockerImageVersionId": 30733,
   "isGpuEnabled": true,
   "isInternetEnabled": true,
   "language": "python",
   "sourceType": "notebook"
  },
  "kernelspec": {
   "display_name": "Python 3",
   "language": "python",
   "name": "python3"
  },
  "language_info": {
   "codemirror_mode": {
    "name": "ipython",
    "version": 3
   },
   "file_extension": ".py",
   "mimetype": "text/x-python",
   "name": "python",
   "nbconvert_exporter": "python",
   "pygments_lexer": "ipython3",
   "version": "3.10.13"
  }
 },
 "nbformat": 4,
 "nbformat_minor": 4
}
