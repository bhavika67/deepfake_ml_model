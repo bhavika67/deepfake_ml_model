{
 "cells": [
  {
   "cell_type": "code",
   "execution_count": null,
   "metadata": {
    "execution": {
     "iopub.execute_input": "2024-04-27T06:43:09.390079Z",
     "iopub.status.busy": "2024-04-27T06:43:09.38937Z",
     "iopub.status.idle": "2024-04-27T06:43:21.588665Z",
     "shell.execute_reply": "2024-04-27T06:43:21.587872Z",
     "shell.execute_reply.started": "2024-04-27T06:43:09.390041Z"
    },
    "trusted": true
   },
   "outputs": [],
   "source": [
    "import numpy as np\n",
    "import pandas as pd\n",
    "import os\n",
    "import librosa\n",
    "import matplotlib.pyplot as plt\n",
    "import IPython\n",
    "from sklearn.model_selection import train_test_split\n",
    "from sklearn.preprocessing import LabelEncoder\n",
    "from tensorflow.keras.models import Sequential\n",
    "from tensorflow.keras.layers import Dense, Activation,Reshape,MaxPooling2D, Dropout, Conv2D, MaxPool2D, Flatten\n",
    "from tensorflow.keras.utils import to_categorical"
   ]
  },
  {
   "cell_type": "code",
   "execution_count": null,
   "metadata": {
    "execution": {
     "iopub.execute_input": "2024-04-27T06:43:21.590516Z",
     "iopub.status.busy": "2024-04-27T06:43:21.589848Z",
     "iopub.status.idle": "2024-04-27T06:43:23.952606Z",
     "shell.execute_reply": "2024-04-27T06:43:23.951619Z",
     "shell.execute_reply.started": "2024-04-27T06:43:21.590488Z"
    },
    "trusted": true
   },
   "outputs": [],
   "source": [
    "import os\n",
    "\n",
    "paths = []\n",
    "labels = []\n",
    "\n",
    "# Define the root directory\n",
    "real_root_dir = '/kaggle/input/the-lj-speech-dataset/LJSpeech-1.1/wavs'\n",
    "fake_root_dir = '/kaggle/input/wavefake-test/generated_audio/ljspeech_melgan'\n",
    "# Iterate through the subdirectories\n",
    "for filename in os.listdir(real_root_dir):\n",
    "    file_path = os.path.join(real_root_dir, filename)\n",
    "    paths.append(file_path)\n",
    "    # Add label based on the subdirectory name\n",
    "    labels.append('real')\n",
    "\n",
    "for filename in os.listdir(fake_root_dir):\n",
    "    file_path = os.path.join(fake_root_dir, filename)\n",
    "    paths.append(file_path)\n",
    "    # Add label based on the subdirectory name\n",
    "    labels.append('fake')\n",
    "\n",
    "print('Dataset is loaded')"
   ]
  },
  {
   "cell_type": "code",
   "execution_count": null,
   "metadata": {
    "execution": {
     "iopub.execute_input": "2024-04-27T06:43:23.95482Z",
     "iopub.status.busy": "2024-04-27T06:43:23.954515Z",
     "iopub.status.idle": "2024-04-27T06:43:23.959987Z",
     "shell.execute_reply": "2024-04-27T06:43:23.95905Z",
     "shell.execute_reply.started": "2024-04-27T06:43:23.954794Z"
    },
    "trusted": true
   },
   "outputs": [],
   "source": [
    "print(len(paths))"
   ]
  },
  {
   "cell_type": "code",
   "execution_count": null,
   "metadata": {
    "execution": {
     "iopub.execute_input": "2024-04-27T06:43:23.961597Z",
     "iopub.status.busy": "2024-04-27T06:43:23.961295Z",
     "iopub.status.idle": "2024-04-27T06:43:23.975606Z",
     "shell.execute_reply": "2024-04-27T06:43:23.974606Z",
     "shell.execute_reply.started": "2024-04-27T06:43:23.961558Z"
    },
    "trusted": true
   },
   "outputs": [],
   "source": [
    "paths[:10]"
   ]
  },
  {
   "cell_type": "code",
   "execution_count": null,
   "metadata": {
    "execution": {
     "iopub.execute_input": "2024-04-27T06:43:23.977462Z",
     "iopub.status.busy": "2024-04-27T06:43:23.977135Z",
     "iopub.status.idle": "2024-04-27T06:43:23.997804Z",
     "shell.execute_reply": "2024-04-27T06:43:23.997067Z",
     "shell.execute_reply.started": "2024-04-27T06:43:23.977438Z"
    },
    "trusted": true
   },
   "outputs": [],
   "source": [
    "df = pd.DataFrame()\n",
    "df['speech'] = paths\n",
    "df['label'] = labels"
   ]
  },
  {
   "cell_type": "code",
   "execution_count": null,
   "metadata": {
    "execution": {
     "iopub.execute_input": "2024-04-27T06:43:23.999079Z",
     "iopub.status.busy": "2024-04-27T06:43:23.998785Z",
     "iopub.status.idle": "2024-04-27T06:43:24.005108Z",
     "shell.execute_reply": "2024-04-27T06:43:24.004035Z",
     "shell.execute_reply.started": "2024-04-27T06:43:23.999049Z"
    },
    "trusted": true
   },
   "outputs": [],
   "source": [
    "len(labels)"
   ]
  },
  {
   "cell_type": "code",
   "execution_count": null,
   "metadata": {
    "execution": {
     "iopub.execute_input": "2024-04-27T06:43:24.006996Z",
     "iopub.status.busy": "2024-04-27T06:43:24.006601Z",
     "iopub.status.idle": "2024-04-27T06:43:24.02481Z",
     "shell.execute_reply": "2024-04-27T06:43:24.024055Z",
     "shell.execute_reply.started": "2024-04-27T06:43:24.00696Z"
    },
    "trusted": true
   },
   "outputs": [],
   "source": [
    "df['label'].value_counts()"
   ]
  },
  {
   "cell_type": "code",
   "execution_count": null,
   "metadata": {
    "execution": {
     "iopub.execute_input": "2024-04-27T06:43:24.02617Z",
     "iopub.status.busy": "2024-04-27T06:43:24.02586Z",
     "iopub.status.idle": "2024-04-27T06:43:24.030664Z",
     "shell.execute_reply": "2024-04-27T06:43:24.029543Z",
     "shell.execute_reply.started": "2024-04-27T06:43:24.026144Z"
    },
    "trusted": true
   },
   "outputs": [],
   "source": [
    "real_audio = '/kaggle/input/the-lj-speech-dataset/LJSpeech-1.1/wavs/LJ001-0001.wav'\n",
    "fake_audio = '/kaggle/input/wavefake-test/generated_audio/ljspeech_melgan/LJ001-0001_gen.wav'"
   ]
  },
  {
   "cell_type": "code",
   "execution_count": null,
   "metadata": {
    "execution": {
     "iopub.execute_input": "2024-04-27T06:43:24.037244Z",
     "iopub.status.busy": "2024-04-27T06:43:24.03659Z",
     "iopub.status.idle": "2024-04-27T06:43:24.074675Z",
     "shell.execute_reply": "2024-04-27T06:43:24.073843Z",
     "shell.execute_reply.started": "2024-04-27T06:43:24.037217Z"
    },
    "trusted": true
   },
   "outputs": [],
   "source": [
    "print('Real Audio:')\n",
    "IPython.display.Audio(real_audio)"
   ]
  },
  {
   "cell_type": "code",
   "execution_count": null,
   "metadata": {
    "execution": {
     "iopub.execute_input": "2024-04-27T06:43:24.076006Z",
     "iopub.status.busy": "2024-04-27T06:43:24.075718Z",
     "iopub.status.idle": "2024-04-27T06:43:24.099155Z",
     "shell.execute_reply": "2024-04-27T06:43:24.098333Z",
     "shell.execute_reply.started": "2024-04-27T06:43:24.075982Z"
    },
    "trusted": true
   },
   "outputs": [],
   "source": [
    "print('Fake Audio:')\n",
    "IPython.display.Audio(fake_audio)"
   ]
  },
  {
   "cell_type": "code",
   "execution_count": null,
   "metadata": {
    "execution": {
     "iopub.execute_input": "2024-04-27T06:43:24.100544Z",
     "iopub.status.busy": "2024-04-27T06:43:24.100243Z",
     "iopub.status.idle": "2024-04-27T06:43:33.154342Z",
     "shell.execute_reply": "2024-04-27T06:43:33.153423Z",
     "shell.execute_reply.started": "2024-04-27T06:43:24.100519Z"
    },
    "trusted": true
   },
   "outputs": [],
   "source": [
    "real_ad, real_sr = librosa.load(real_audio)\n",
    "plt.figure(figsize= (12,4))\n",
    "plt.plot(real_ad)\n",
    "plt.title('Real Audio Data')\n",
    "plt.show()"
   ]
  },
  {
   "cell_type": "code",
   "execution_count": null,
   "metadata": {
    "execution": {
     "iopub.execute_input": "2024-04-27T06:43:33.156351Z",
     "iopub.status.busy": "2024-04-27T06:43:33.155607Z",
     "iopub.status.idle": "2024-04-27T06:43:33.916847Z",
     "shell.execute_reply": "2024-04-27T06:43:33.915868Z",
     "shell.execute_reply.started": "2024-04-27T06:43:33.15631Z"
    },
    "trusted": true
   },
   "outputs": [],
   "source": [
    "real_spec = np.abs(librosa.stft(real_ad))\n",
    "real_spec = librosa.amplitude_to_db(real_spec, ref = np.max)\n",
    "plt.figure(figsize=(14,5))\n",
    "librosa.display.specshow(real_spec, sr = real_sr, x_axis = 'time', y_axis = 'log')\n",
    "plt.colorbar(format = '%+2.0f dB')\n",
    "plt.title(\"Real Audio Spectogram\")\n",
    "plt.show()"
   ]
  },
  {
   "cell_type": "code",
   "execution_count": null,
   "metadata": {
    "execution": {
     "iopub.execute_input": "2024-04-27T06:43:33.918622Z",
     "iopub.status.busy": "2024-04-27T06:43:33.918268Z",
     "iopub.status.idle": "2024-04-27T06:43:35.734119Z",
     "shell.execute_reply": "2024-04-27T06:43:35.733172Z",
     "shell.execute_reply.started": "2024-04-27T06:43:33.918589Z"
    },
    "trusted": true
   },
   "outputs": [],
   "source": [
    "real_mel_spect = librosa.feature.melspectrogram(y = real_ad, sr = real_sr)\n",
    "real_mel_spect = librosa.power_to_db(real_mel_spect, ref = np.max)\n",
    "plt.figure(figsize = (14,5))\n",
    "librosa.display.specshow(real_mel_spect, y_axis ='mel', x_axis = 'time')\n",
    "plt.title('Real Audio Mel Spectogram')\n",
    "plt.colorbar(format = '%+2.0f dB')\n",
    "plt.show()"
   ]
  },
  {
   "cell_type": "code",
   "execution_count": null,
   "metadata": {
    "execution": {
     "iopub.execute_input": "2024-04-27T06:43:35.735718Z",
     "iopub.status.busy": "2024-04-27T06:43:35.735377Z",
     "iopub.status.idle": "2024-04-27T06:43:36.744324Z",
     "shell.execute_reply": "2024-04-27T06:43:36.743436Z",
     "shell.execute_reply.started": "2024-04-27T06:43:35.735682Z"
    },
    "trusted": true
   },
   "outputs": [],
   "source": [
    "real_chroma = librosa.feature.chroma_cqt(y = real_ad, sr = real_sr, bins_per_octave=36)\n",
    "plt.figure(figsize = (14, 5))\n",
    "librosa.display.specshow(real_chroma, sr = real_sr, x_axis = 'time', y_axis = 'chroma', vmin = 0, vmax = 1)\n",
    "plt.colorbar()\n",
    "plt.title('Real Audio Chormagram')\n",
    "plt.show()"
   ]
  },
  {
   "cell_type": "code",
   "execution_count": null,
   "metadata": {
    "execution": {
     "iopub.execute_input": "2024-04-27T06:43:36.745988Z",
     "iopub.status.busy": "2024-04-27T06:43:36.745582Z",
     "iopub.status.idle": "2024-04-27T06:43:37.150301Z",
     "shell.execute_reply": "2024-04-27T06:43:37.149375Z",
     "shell.execute_reply.started": "2024-04-27T06:43:36.745951Z"
    },
    "trusted": true
   },
   "outputs": [],
   "source": [
    "real_mfcc = librosa.feature.mfcc(y = real_ad, sr = real_sr)\n",
    "plt.figure(figsize = (14,5))\n",
    "librosa.display.specshow(real_mfcc, sr = real_sr, x_axis ='time')\n",
    "plt.colorbar()\n",
    "plt.title('Real Audio Mel-Frequency Cepstral Ceofficients (MFCCS)')\n",
    "plt.show()"
   ]
  },
  {
   "cell_type": "code",
   "execution_count": null,
   "metadata": {
    "execution": {
     "iopub.execute_input": "2024-04-27T06:43:37.151798Z",
     "iopub.status.busy": "2024-04-27T06:43:37.151511Z",
     "iopub.status.idle": "2024-04-27T06:43:37.532892Z",
     "shell.execute_reply": "2024-04-27T06:43:37.531983Z",
     "shell.execute_reply.started": "2024-04-27T06:43:37.151774Z"
    },
    "trusted": true
   },
   "outputs": [],
   "source": [
    "fake_ad, fake_sr = librosa.load(fake_audio)\n",
    "plt.figure(figsize =(12,4))\n",
    "plt.plot(fake_ad)\n",
    "plt.title(\"Fake Audio Data\")\n",
    "plt.show()"
   ]
  },
  {
   "cell_type": "code",
   "execution_count": null,
   "metadata": {
    "execution": {
     "iopub.execute_input": "2024-04-27T06:43:37.534788Z",
     "iopub.status.busy": "2024-04-27T06:43:37.534485Z",
     "iopub.status.idle": "2024-04-27T06:43:38.266694Z",
     "shell.execute_reply": "2024-04-27T06:43:38.265754Z",
     "shell.execute_reply.started": "2024-04-27T06:43:37.534757Z"
    },
    "trusted": true
   },
   "outputs": [],
   "source": [
    "fake_spec = np.abs(librosa.stft(fake_ad))\n",
    "fake_spec = librosa.amplitude_to_db(fake_spec, ref = np.max)\n",
    "plt.figure(figsize=(14,5))\n",
    "librosa.display.specshow(fake_spec, sr = fake_sr, x_axis = 'time', y_axis = 'log')\n",
    "plt.colorbar(format = '%+2.0f dB')\n",
    "plt.title(\"Real Fake Spectogram\")\n",
    "plt.show()"
   ]
  },
  {
   "cell_type": "code",
   "execution_count": null,
   "metadata": {
    "execution": {
     "iopub.execute_input": "2024-04-27T06:43:38.268585Z",
     "iopub.status.busy": "2024-04-27T06:43:38.268169Z",
     "iopub.status.idle": "2024-04-27T06:43:38.754943Z",
     "shell.execute_reply": "2024-04-27T06:43:38.753832Z",
     "shell.execute_reply.started": "2024-04-27T06:43:38.268555Z"
    },
    "trusted": true
   },
   "outputs": [],
   "source": [
    "fake_mel_spect = librosa.feature.melspectrogram(y = fake_ad, sr = fake_sr)\n",
    "fake_mel_spect = librosa.power_to_db(fake_mel_spect, ref = np.max)\n",
    "plt.figure(figsize = (14,5))\n",
    "librosa.display.specshow(fake_mel_spect, y_axis ='mel', x_axis = 'time')\n",
    "plt.title('Fake Audio Mel Spectogram')\n",
    "plt.colorbar(format = '%+2.0f dB')\n",
    "plt.show()"
   ]
  },
  {
   "cell_type": "code",
   "execution_count": null,
   "metadata": {
    "execution": {
     "iopub.execute_input": "2024-04-27T06:43:38.756804Z",
     "iopub.status.busy": "2024-04-27T06:43:38.756426Z",
     "iopub.status.idle": "2024-04-27T06:43:39.674975Z",
     "shell.execute_reply": "2024-04-27T06:43:39.674007Z",
     "shell.execute_reply.started": "2024-04-27T06:43:38.756773Z"
    },
    "trusted": true
   },
   "outputs": [],
   "source": [
    "fake_chroma = librosa.feature.chroma_cqt(y = fake_ad, sr = fake_sr, bins_per_octave=36)\n",
    "plt.figure(figsize=(14,5))\n",
    "librosa.display.specshow(fake_chroma, sr = fake_sr, x_axis= 'time', y_axis = 'chroma', vmin = 0, vmax = 1)\n",
    "plt.colorbar()\n",
    "plt.title('Fake Audio Chromagram')\n",
    "plt.show()"
   ]
  },
  {
   "cell_type": "code",
   "execution_count": null,
   "metadata": {
    "execution": {
     "iopub.execute_input": "2024-04-27T06:43:39.677177Z",
     "iopub.status.busy": "2024-04-27T06:43:39.676336Z",
     "iopub.status.idle": "2024-04-27T06:43:40.014913Z",
     "shell.execute_reply": "2024-04-27T06:43:40.013977Z",
     "shell.execute_reply.started": "2024-04-27T06:43:39.677135Z"
    },
    "trusted": true
   },
   "outputs": [],
   "source": [
    "fake_mfcc = librosa.feature.mfcc(y = fake_ad, sr = fake_sr)\n",
    "plt.figure(figsize = (14,5))\n",
    "librosa.display.specshow(fake_mfcc, sr = fake_sr, x_axis ='time')\n",
    "plt.colorbar()\n",
    "plt.title('Fake Audio Mel-Frequency Cepstral Ceofficients (MFCCS)')\n",
    "plt.show()"
   ]
  },
  {
   "cell_type": "code",
   "execution_count": null,
   "metadata": {
    "execution": {
     "iopub.execute_input": "2024-04-27T06:43:40.016392Z",
     "iopub.status.busy": "2024-04-27T06:43:40.016107Z",
     "iopub.status.idle": "2024-04-27T07:01:31.649131Z",
     "shell.execute_reply": "2024-04-27T07:01:31.64807Z",
     "shell.execute_reply.started": "2024-04-27T06:43:40.016368Z"
    },
    "trusted": true
   },
   "outputs": [],
   "source": [
    "def extract_features(fake_root_dir, real_root_dir, max_length=500):\n",
    "    features = []\n",
    "    labels = []\n",
    "    \n",
    "    for file in os.listdir(fake_root_dir):\n",
    "        file_path = os.path.join(fake_root_dir, file)\n",
    "        try:\n",
    "            # Load audio file\n",
    "            audio, _ = librosa.load(file_path, sr=16000)\n",
    "            # Extract features (example: using Mel-Frequency Cepstral Coefficients)\n",
    "            mfccs = librosa.feature.mfcc(y=audio, sr=16000, n_mfcc=40)\n",
    "            # Pad or trim the feature array to a fixed length\n",
    "            if mfccs.shape[1] < max_length:\n",
    "                mfccs = np.pad(mfccs, ((0, 0), (0, max_length - mfccs.shape[1])), mode='constant')\n",
    "            else:\n",
    "                mfccs = mfccs[:, :max_length]\n",
    "            features.append(mfccs)\n",
    "            # Assign label\n",
    "            labels.append(1)  # 1 for fake\n",
    "        except Exception as e:\n",
    "            print(f\"Error encountered while parsing file: {file_path}\")\n",
    "            continue\n",
    "            \n",
    "    for file in os.listdir(real_root_dir):\n",
    "        file_path = os.path.join(real_root_dir, file)\n",
    "        try:\n",
    "            # Load audio file\n",
    "            audio, _ = librosa.load(file_path, sr=16000)\n",
    "            # Extract features (example: using Mel-Frequency Cepstral Coefficients)\n",
    "            mfccs = librosa.feature.mfcc(y=audio, sr=16000, n_mfcc=40)\n",
    "            # Pad or trim the feature array to a fixed length\n",
    "            if mfccs.shape[1] < max_length:\n",
    "                mfccs = np.pad(mfccs, ((0, 0), (0, max_length - mfccs.shape[1])), mode='constant')\n",
    "            else:\n",
    "                mfccs = mfccs[:, :max_length]\n",
    "            features.append(mfccs)\n",
    "            # Assign label\n",
    "            labels.append(0)  # 0 for real\n",
    "        except Exception as e:\n",
    "            print(f\"Error encountered while parsing file: {file_path}\")\n",
    "            continue\n",
    "    return np.array(features), np.array(labels)\n",
    "\n",
    "# Example usage\n",
    "\n",
    "x, y = extract_features(fake_root_dir, real_root_dir)\n",
    "\n",
    "print(\"Features shape:\", x.shape)\n",
    "print(\"Labels shape:\", y.shape)"
   ]
  },
  {
   "cell_type": "code",
   "execution_count": null,
   "metadata": {
    "execution": {
     "iopub.execute_input": "2024-04-27T07:01:31.650739Z",
     "iopub.status.busy": "2024-04-27T07:01:31.650435Z",
     "iopub.status.idle": "2024-04-27T07:01:32.271535Z",
     "shell.execute_reply": "2024-04-27T07:01:32.270258Z",
     "shell.execute_reply.started": "2024-04-27T07:01:31.650713Z"
    },
    "trusted": true
   },
   "outputs": [],
   "source": [
    "xtrain,xtest,ytrain,ytest = train_test_split(x,y,test_size = .2)"
   ]
  },
  {
   "cell_type": "code",
   "execution_count": null,
   "metadata": {
    "execution": {
     "iopub.execute_input": "2024-04-27T07:01:32.273627Z",
     "iopub.status.busy": "2024-04-27T07:01:32.273194Z",
     "iopub.status.idle": "2024-04-27T07:01:33.057448Z",
     "shell.execute_reply": "2024-04-27T07:01:33.056657Z",
     "shell.execute_reply.started": "2024-04-27T07:01:32.273589Z"
    },
    "trusted": true
   },
   "outputs": [],
   "source": [
    "model = Sequential([\n",
    "    Reshape((40, 500, 1), input_shape=xtrain.shape[1:]),  # Reshape input to add channel dimension\n",
    "    Conv2D(32, kernel_size=(3, 3), activation='relu'),\n",
    "    MaxPooling2D(pool_size=(2, 2)),\n",
    "    Conv2D(64, kernel_size=(3, 3), activation='relu'),\n",
    "    MaxPooling2D(pool_size=(2, 2)),\n",
    "    Flatten(),\n",
    "    Dense(128, activation='relu'),\n",
    "    Dropout(0.5),\n",
    "    Dense(1, activation='sigmoid')\n",
    "])"
   ]
  },
  {
   "cell_type": "code",
   "execution_count": null,
   "metadata": {
    "execution": {
     "iopub.execute_input": "2024-04-27T07:01:33.059154Z",
     "iopub.status.busy": "2024-04-27T07:01:33.058852Z",
     "iopub.status.idle": "2024-04-27T07:01:33.072932Z",
     "shell.execute_reply": "2024-04-27T07:01:33.072188Z",
     "shell.execute_reply.started": "2024-04-27T07:01:33.05913Z"
    },
    "trusted": true
   },
   "outputs": [],
   "source": [
    "model.compile(optimizer='adam', loss = 'binary_crossentropy', metrics  = ['accuracy'])"
   ]
  },
  {
   "cell_type": "code",
   "execution_count": null,
   "metadata": {
    "execution": {
     "iopub.execute_input": "2024-04-27T07:01:33.074135Z",
     "iopub.status.busy": "2024-04-27T07:01:33.073851Z",
     "iopub.status.idle": "2024-04-27T07:18:05.73339Z",
     "shell.execute_reply": "2024-04-27T07:18:05.732439Z",
     "shell.execute_reply.started": "2024-04-27T07:01:33.074112Z"
    },
    "trusted": true
   },
   "outputs": [],
   "source": [
    "history = model.fit(xtrain, ytrain, epochs = 100, batch_size = 32, validation_data = [xtest,ytest])"
   ]
  },
  {
   "cell_type": "code",
   "execution_count": null,
   "metadata": {
    "execution": {
     "iopub.execute_input": "2024-04-27T07:18:05.737644Z",
     "iopub.status.busy": "2024-04-27T07:18:05.737346Z",
     "iopub.status.idle": "2024-04-27T07:18:06.029795Z",
     "shell.execute_reply": "2024-04-27T07:18:06.028917Z",
     "shell.execute_reply.started": "2024-04-27T07:18:05.73762Z"
    },
    "trusted": true
   },
   "outputs": [],
   "source": [
    "plt.plot(history.history['accuracy'], label='Training Accuracy')\n",
    "plt.plot(history.history['val_accuracy'], label='Validation Accuracy')\n",
    "plt.xlabel('Epoch')\n",
    "plt.ylabel('Accuracy')\n",
    "plt.legend()\n",
    "plt.title('Training and Validation Accuracy')\n",
    "plt.show()"
   ]
  },
  {
   "cell_type": "code",
   "execution_count": null,
   "metadata": {
    "execution": {
     "iopub.execute_input": "2024-04-27T07:18:06.034467Z",
     "iopub.status.busy": "2024-04-27T07:18:06.034161Z",
     "iopub.status.idle": "2024-04-27T07:18:06.270778Z",
     "shell.execute_reply": "2024-04-27T07:18:06.269889Z",
     "shell.execute_reply.started": "2024-04-27T07:18:06.034441Z"
    },
    "trusted": true
   },
   "outputs": [],
   "source": [
    "plt.plot(history.history['loss'], label='Training Loss')\n",
    "plt.plot(history.history['val_loss'], label='Validation Loss')\n",
    "plt.xlabel('Epoch')\n",
    "plt.ylabel('Loss')\n",
    "plt.legend()\n",
    "plt.title('Training and Validation Loss')\n",
    "plt.show()"
   ]
  },
  {
   "cell_type": "code",
   "execution_count": null,
   "metadata": {
    "execution": {
     "iopub.execute_input": "2024-04-27T07:18:06.272335Z",
     "iopub.status.busy": "2024-04-27T07:18:06.271961Z",
     "iopub.status.idle": "2024-04-27T07:18:07.9378Z",
     "shell.execute_reply": "2024-04-27T07:18:07.93706Z",
     "shell.execute_reply.started": "2024-04-27T07:18:06.272302Z"
    },
    "trusted": true
   },
   "outputs": [],
   "source": [
    "loss,accuracy = model.evaluate(xtest,ytest)"
   ]
  },
  {
   "cell_type": "code",
   "execution_count": null,
   "metadata": {
    "execution": {
     "iopub.execute_input": "2024-04-27T07:21:57.632671Z",
     "iopub.status.busy": "2024-04-27T07:21:57.631937Z",
     "iopub.status.idle": "2024-04-27T07:21:57.851987Z",
     "shell.execute_reply": "2024-04-27T07:21:57.850917Z",
     "shell.execute_reply.started": "2024-04-27T07:21:57.632638Z"
    },
    "trusted": true
   },
   "outputs": [],
   "source": [
    "from keras.models import model_from_json\n",
    "\n",
    "# Save model architecture to JSON file\n",
    "model_json = model.to_json()\n",
    "with open(\"model.json\", \"w\") as json_file:\n",
    "    json_file.write(model_json)\n",
    "\n",
    "# Save trained weights to HDF5 file\n",
    "model.save_weights(\"model_weights.weights.h5\")"
   ]
  },
  {
   "cell_type": "code",
   "execution_count": null,
   "metadata": {
    "execution": {
     "iopub.execute_input": "2024-04-27T07:28:26.430602Z",
     "iopub.status.busy": "2024-04-27T07:28:26.429865Z",
     "iopub.status.idle": "2024-04-27T07:28:26.569447Z",
     "shell.execute_reply": "2024-04-27T07:28:26.568562Z",
     "shell.execute_reply.started": "2024-04-27T07:28:26.430569Z"
    },
    "trusted": true
   },
   "outputs": [],
   "source": [
    "model.save(\"FakeAudioDetectionModel.h5\")"
   ]
  }
 ],
 "metadata": {
  "kaggle": {
   "accelerator": "nvidiaTeslaT4",
   "dataSources": [
    {
     "datasetId": 1159053,
     "sourceId": 1942970,
     "sourceType": "datasetVersion"
    },
    {
     "datasetId": 3084682,
     "sourceId": 5306083,
     "sourceType": "datasetVersion"
    }
   ],
   "dockerImageVersionId": 30699,
   "isGpuEnabled": true,
   "isInternetEnabled": true,
   "language": "python",
   "sourceType": "notebook"
  },
  "kernelspec": {
   "display_name": "Python 3",
   "language": "python",
   "name": "python3"
  },
  "language_info": {
   "codemirror_mode": {
    "name": "ipython",
    "version": 3
   },
   "file_extension": ".py",
   "mimetype": "text/x-python",
   "name": "python",
   "nbconvert_exporter": "python",
   "pygments_lexer": "ipython3",
   "version": "3.10.13"
  }
 },
 "nbformat": 4,
 "nbformat_minor": 4
}
