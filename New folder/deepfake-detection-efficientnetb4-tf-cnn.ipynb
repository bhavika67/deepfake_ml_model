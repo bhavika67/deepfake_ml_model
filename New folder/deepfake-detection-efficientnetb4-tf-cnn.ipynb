{
 "cells": [
  {
   "cell_type": "code",
   "execution_count": null,
   "metadata": {
    "_cell_guid": "b1076dfc-b9ad-4769-8c92-a6c4dae69d19",
    "_uuid": "8f2839f25d086af736a60e9eeb907d3b93b6e0e5",
    "execution": {
     "iopub.execute_input": "2024-04-04T18:52:12.466113Z",
     "iopub.status.busy": "2024-04-04T18:52:12.465799Z",
     "iopub.status.idle": "2024-04-04T18:52:31.769179Z",
     "shell.execute_reply": "2024-04-04T18:52:31.768288Z",
     "shell.execute_reply.started": "2024-04-04T18:52:12.466086Z"
    },
    "trusted": true
   },
   "outputs": [],
   "source": [
    "# System & General libraries\n",
    "import numpy as np # linear algebra\n",
    "import pandas as pd # data processing, CSV file I/O (e.g. pd.read_csv)\n",
    "import os\n",
    "import sys\n",
    "import time\n",
    "from collections import defaultdict\n",
    "\n",
    "# Image Processing & Computer Vision\n",
    "import cv2\n",
    "\n",
    "# Machine Learning & Deep Learning\n",
    "import tensorflow as tf\n",
    "from tensorflow.keras.applications import EfficientNetB4\n",
    "from tensorflow.keras import layers, models\n",
    "from sklearn.model_selection import train_test_split\n",
    "\n",
    "\n",
    "# Data Visualization\n",
    "import plotly.graph_objs as go\n",
    "from plotly.offline import iplot\n",
    "import matplotlib.pyplot as plt\n",
    "plt.rc('font', size=14)\n",
    "plt.rc('axes', labelsize=14, titlesize=14)\n",
    "plt.rc('legend', fontsize=14)\n",
    "plt.rc('xtick', labelsize=10)\n",
    "plt.rc('ytick', labelsize=10)\n",
    "%matplotlib inline\n",
    "%config InlineBackend.figure_format = 'retina'\n",
    "\n",
    "import seaborn as sns\n",
    "sns.set_theme(style='whitegrid', palette='viridis', font_scale=1.2)\n",
    "\n",
    "# Suppress Warnings\n",
    "import warnings\n",
    "warnings.filterwarnings('ignore')"
   ]
  },
  {
   "cell_type": "code",
   "execution_count": null,
   "metadata": {
    "execution": {
     "iopub.execute_input": "2024-04-04T18:52:31.771181Z",
     "iopub.status.busy": "2024-04-04T18:52:31.770684Z",
     "iopub.status.idle": "2024-04-04T18:52:32.876953Z",
     "shell.execute_reply": "2024-04-04T18:52:32.87571Z",
     "shell.execute_reply.started": "2024-04-04T18:52:31.771153Z"
    },
    "trusted": true
   },
   "outputs": [],
   "source": [
    "mp = defaultdict(lambda: \"Not Present\") \n",
    "mp['/device:GPU:0'] = 'GPU T4 x2'\n",
    "if tf.test.is_gpu_available():\n",
    "    device = tf.test.gpu_device_name()\n",
    "    print(f'✅ GPU is available: {mp[device]}')\n",
    "else:\n",
    "    print('⚠️ No GPU available. Using CPU.')\n",
    "print(f'🔸 Tensorflow Version: {tf.__version__}')"
   ]
  },
  {
   "cell_type": "code",
   "execution_count": null,
   "metadata": {
    "execution": {
     "iopub.execute_input": "2024-04-04T18:53:03.508969Z",
     "iopub.status.busy": "2024-04-04T18:53:03.508029Z",
     "iopub.status.idle": "2024-04-04T18:53:03.726425Z",
     "shell.execute_reply": "2024-04-04T18:53:03.725258Z",
     "shell.execute_reply.started": "2024-04-04T18:53:03.508935Z"
    },
    "trusted": true
   },
   "outputs": [],
   "source": [
    "def get_data():\n",
    "    return pd.read_csv('../input/deepfake-faces/metadata.csv')\n",
    "\n",
    "meta = get_data()\n",
    "meta.head()"
   ]
  },
  {
   "cell_type": "code",
   "execution_count": null,
   "metadata": {
    "execution": {
     "iopub.execute_input": "2024-04-04T18:53:06.265187Z",
     "iopub.status.busy": "2024-04-04T18:53:06.264781Z",
     "iopub.status.idle": "2024-04-04T18:53:06.526424Z",
     "shell.execute_reply": "2024-04-04T18:53:06.525339Z",
     "shell.execute_reply.started": "2024-04-04T18:53:06.265153Z"
    },
    "trusted": true
   },
   "outputs": [],
   "source": [
    "def summary(df):\n",
    "    summary_df = pd.DataFrame(df.dtypes, columns=['dtypes'])\n",
    "    summary_df['count'] = df.count().values\n",
    "    summary_df['unique'] = df.nunique().values\n",
    "    summary_df['missing#'] = df.isna().sum()\n",
    "    summary_df['missing%'] = df.isna().sum() / len(df)\n",
    "    return summary_df\n",
    "summary(meta).style.background_gradient('Purples')"
   ]
  },
  {
   "cell_type": "code",
   "execution_count": null,
   "metadata": {
    "execution": {
     "iopub.execute_input": "2024-04-04T18:53:07.013034Z",
     "iopub.status.busy": "2024-04-04T18:53:07.012298Z",
     "iopub.status.idle": "2024-04-04T18:53:07.061958Z",
     "shell.execute_reply": "2024-04-04T18:53:07.060759Z",
     "shell.execute_reply.started": "2024-04-04T18:53:07.01297Z"
    },
    "trusted": true
   },
   "outputs": [],
   "source": [
    "print('Fake Images:', len(meta[meta.label=='FAKE']))\n",
    "print('Real Images:', len(meta[meta.label=='REAL']))"
   ]
  },
  {
   "cell_type": "code",
   "execution_count": null,
   "metadata": {
    "execution": {
     "iopub.execute_input": "2024-04-04T18:53:09.102921Z",
     "iopub.status.busy": "2024-04-04T18:53:09.102535Z",
     "iopub.status.idle": "2024-04-04T18:53:09.1654Z",
     "shell.execute_reply": "2024-04-04T18:53:09.164454Z",
     "shell.execute_reply.started": "2024-04-04T18:53:09.102871Z"
    },
    "trusted": true
   },
   "outputs": [],
   "source": [
    "real_df = meta[meta['label'] == 'REAL']\n",
    "fake_df = meta[meta['label'] == 'FAKE']\n",
    "sample_size = 16000\n",
    "\n",
    "real_df = real_df.sample(sample_size, random_state=42)\n",
    "fake_df = fake_df.sample(sample_size, random_state=42)\n",
    "\n",
    "sample_meta = pd.concat([real_df, fake_df])"
   ]
  },
  {
   "cell_type": "code",
   "execution_count": null,
   "metadata": {
    "execution": {
     "iopub.execute_input": "2024-04-04T18:53:11.369189Z",
     "iopub.status.busy": "2024-04-04T18:53:11.368445Z",
     "iopub.status.idle": "2024-04-04T18:53:11.46587Z",
     "shell.execute_reply": "2024-04-04T18:53:11.464842Z",
     "shell.execute_reply.started": "2024-04-04T18:53:11.369156Z"
    },
    "trusted": true
   },
   "outputs": [],
   "source": [
    "Train_set, Test_set = train_test_split(sample_meta, test_size=0.2, random_state=42, stratify=sample_meta['label'])\n",
    "Train_set, Val_set = train_test_split(Train_set, test_size=0.3, random_state=42, stratify=Train_set['label'])\n",
    "\n",
    "# (Rows, Columns)\n",
    "print(f'Train Set: {Train_set.shape}')\n",
    "print(f'Validation Set: {Val_set.shape}')\n",
    "print(f'Test Set: {Test_set.shape}')"
   ]
  },
  {
   "cell_type": "code",
   "execution_count": null,
   "metadata": {
    "execution": {
     "iopub.execute_input": "2024-04-04T18:53:12.955667Z",
     "iopub.status.busy": "2024-04-04T18:53:12.954609Z",
     "iopub.status.idle": "2024-04-04T18:53:15.20306Z",
     "shell.execute_reply": "2024-04-04T18:53:15.201947Z",
     "shell.execute_reply.started": "2024-04-04T18:53:12.955625Z"
    },
    "trusted": true
   },
   "outputs": [],
   "source": [
    "def plot_class_counts(train_set, val_set, test_set):\n",
    "    sets = ['Train Set', 'Validation Set', 'Test Set']\n",
    "    colors = ['#52A666', '#C15B4E']\n",
    "    \n",
    "    y = {\n",
    "        'REAL': [np.sum(train_set == 'REAL'), np.sum(val_set == 'REAL'), np.sum(test_set == 'REAL')],\n",
    "        'FAKE': [np.sum(train_set == 'FAKE'), np.sum(val_set == 'FAKE'), np.sum(test_set == 'FAKE')]\n",
    "    }\n",
    "    \n",
    "    trace0 = go.Bar(x=sets, y=y['REAL'], name='REAL', marker={'color': colors[0]}, opacity=0.7)\n",
    "    trace1 = go.Bar(x=sets, y=y['FAKE'], name='FAKE', marker={'color': colors[1]}, opacity=0.7)\n",
    "    \n",
    "    data = [trace0, trace1]\n",
    "    layout = go.Layout(title='Count of Classes in each set:', xaxis={'title': 'Set'}, yaxis={'title': 'Count'})\n",
    "    \n",
    "    fig = go.Figure(data, layout)\n",
    "    iplot(fig)\n",
    "    \n",
    "plot_class_counts(np.array(Train_set['label']), np.array(Val_set['label']), np.array(Test_set['label']))"
   ]
  },
  {
   "cell_type": "code",
   "execution_count": null,
   "metadata": {
    "execution": {
     "iopub.execute_input": "2024-04-04T18:55:49.561228Z",
     "iopub.status.busy": "2024-04-04T18:55:49.560425Z",
     "iopub.status.idle": "2024-04-04T18:55:59.136553Z",
     "shell.execute_reply": "2024-04-04T18:55:59.135567Z",
     "shell.execute_reply.started": "2024-04-04T18:55:49.561194Z"
    },
    "trusted": true
   },
   "outputs": [],
   "source": [
    "plt.figure(figsize=(15,15), dpi=300)\n",
    "for idx,i in enumerate(Train_set.index[75:100]):\n",
    "    plt.subplot(5,5,idx+1)\n",
    "    plt.xticks([])\n",
    "    plt.yticks([])\n",
    "    plt.grid(False)\n",
    "    img = cv2.imread('../input/deepfake-faces/faces_224/'+Train_set.loc[i,'videoname'][:-4]+'.jpg')\n",
    "    img = cv2.cvtColor(img, cv2.COLOR_BGR2RGB)\n",
    "    plt.imshow(img)\n",
    "    \n",
    "    plt.xlabel('FAKE Image' if Train_set.loc[i,'label']=='FAKE' else 'REAL Image')\n",
    "\n",
    "plt.tight_layout()\n",
    "plt.show()"
   ]
  },
  {
   "cell_type": "code",
   "execution_count": null,
   "metadata": {
    "execution": {
     "iopub.execute_input": "2024-04-04T18:56:14.374677Z",
     "iopub.status.busy": "2024-04-04T18:56:14.374009Z",
     "iopub.status.idle": "2024-04-04T18:56:14.380852Z",
     "shell.execute_reply": "2024-04-04T18:56:14.379452Z",
     "shell.execute_reply.started": "2024-04-04T18:56:14.374645Z"
    },
    "trusted": true
   },
   "outputs": [],
   "source": [
    "# Function for getting image paths and corresponding labels from set\n",
    "def retrieve_dataset(set_name):\n",
    "    images, labels = [], []\n",
    "    for (img, imgclass) in zip(set_name['videoname'], set_name['label']):\n",
    "        images.append(cv2.imread('../input/deepfake-faces/faces_224/'+img[:-4]+'.jpg'))\n",
    "        labels.append(1 if imgclass == 'FAKE' else 0)\n",
    "    return np.array(images), np.array(labels)"
   ]
  },
  {
   "cell_type": "code",
   "execution_count": null,
   "metadata": {
    "execution": {
     "iopub.execute_input": "2024-04-04T18:56:17.633177Z",
     "iopub.status.busy": "2024-04-04T18:56:17.632427Z",
     "iopub.status.idle": "2024-04-04T19:02:37.248362Z",
     "shell.execute_reply": "2024-04-04T19:02:37.247442Z",
     "shell.execute_reply.started": "2024-04-04T18:56:17.633137Z"
    },
    "trusted": true
   },
   "outputs": [],
   "source": [
    "%%time\n",
    "\n",
    "X_train, y_train = retrieve_dataset(Train_set)\n",
    "X_val, y_val = retrieve_dataset(Val_set)\n",
    "X_test, y_test = retrieve_dataset(Test_set)"
   ]
  },
  {
   "cell_type": "code",
   "execution_count": null,
   "metadata": {
    "execution": {
     "iopub.execute_input": "2024-04-04T19:02:37.250579Z",
     "iopub.status.busy": "2024-04-04T19:02:37.250297Z",
     "iopub.status.idle": "2024-04-04T19:02:48.663982Z",
     "shell.execute_reply": "2024-04-04T19:02:48.663115Z",
     "shell.execute_reply.started": "2024-04-04T19:02:37.250556Z"
    },
    "trusted": true
   },
   "outputs": [],
   "source": [
    "%%time\n",
    "\n",
    "tf.keras.backend.clear_session() # Clear previous session to avoid conflicts\n",
    "tf.random.set_seed(42) \n",
    "\n",
    "batch_size = 16\n",
    "preprocess = tf.keras.applications.efficientnet.preprocess_input  # EfficientNet preprocess function\n",
    "\n",
    "# Convert dataset to -> TensorFlow datasets\n",
    "train_set_raw = tf.data.Dataset.from_tensor_slices((X_train, y_train))\n",
    "valid_set_raw = tf.data.Dataset.from_tensor_slices((X_val, y_val))\n",
    "test_set_raw = tf.data.Dataset.from_tensor_slices((X_test, y_test))\n",
    "\n",
    "# Preprocess and batch datasets [size: 16]\n",
    "train_set = train_set_raw.map(lambda X, y: (preprocess(tf.cast(X, tf.float32)), y))\n",
    "train_set = train_set.shuffle(1000, seed=42).batch(batch_size).prefetch(1)\n",
    "valid_set = valid_set_raw.map(lambda X, y: (preprocess(tf.cast(X, tf.float32)), y)).batch(batch_size)\n",
    "test_set = test_set_raw.map(lambda X, y: (preprocess(tf.cast(X, tf.float32)), y)).batch(batch_size)"
   ]
  },
  {
   "cell_type": "code",
   "execution_count": null,
   "metadata": {
    "_kg_hide-output": false,
    "execution": {
     "iopub.execute_input": "2024-04-04T19:09:18.754962Z",
     "iopub.status.busy": "2024-04-04T19:09:18.754509Z",
     "iopub.status.idle": "2024-04-04T19:09:23.738626Z",
     "shell.execute_reply": "2024-04-04T19:09:23.737537Z",
     "shell.execute_reply.started": "2024-04-04T19:09:18.754923Z"
    },
    "trusted": true
   },
   "outputs": [],
   "source": [
    "%%time\n",
    "\n",
    "# Build EfficientNetB4 model\n",
    "base_model = EfficientNetB4(include_top=False, weights='imagenet', input_shape=(224, 224, 3))\n",
    "\n",
    "# Additional layers for generating 1 concrete output\n",
    "avg = tf.keras.layers.GlobalAveragePooling2D()(base_model.output)\n",
    "output = tf.keras.layers.Dense(1, activation=\"sigmoid\")(avg)\n",
    "model = tf.keras.Model(inputs=base_model.input, outputs=output)\n",
    "\n",
    "# Internal Data Augmentation Layer\n",
    "data_augmentation = tf.keras.Sequential([\n",
    "    tf.keras.layers.experimental.preprocessing.RandomFlip(\"horizontal\"),\n",
    "    tf.keras.layers.experimental.preprocessing.RandomRotation(0.1),\n",
    "    tf.keras.layers.experimental.preprocessing.RandomZoom(0.1),\n",
    "    tf.keras.layers.experimental.preprocessing.RandomContrast(0.1),\n",
    "])\n",
    "\n",
    "# Apply Data Augmentation\n",
    "inputs = tf.keras.layers.Input(shape=(224, 224, 3))\n",
    "x = data_augmentation(inputs)\n",
    "x = base_model(x, training=False) # using base model in inference mode\n",
    "x = tf.keras.layers.GlobalAveragePooling2D()(x)\n",
    "outputs = tf.keras.layers.Dense(1, activation=\"sigmoid\")(x)\n",
    "model = tf.keras.Model(inputs, outputs)\n",
    "\n",
    "\n",
    "optimizer = tf.keras.optimizers.SGD(learning_rate=0.01, momentum=0.9)\n",
    "model.compile(loss=\"binary_crossentropy\", optimizer=optimizer, metrics=[\"accuracy\"])\n",
    "\n",
    "# model.summary()"
   ]
  },
  {
   "cell_type": "code",
   "execution_count": null,
   "metadata": {
    "execution": {
     "iopub.execute_input": "2024-04-04T19:09:25.327362Z",
     "iopub.status.busy": "2024-04-04T19:09:25.326686Z",
     "iopub.status.idle": "2024-04-04T19:10:21.886198Z",
     "shell.execute_reply": "2024-04-04T19:10:21.885163Z",
     "shell.execute_reply.started": "2024-04-04T19:09:25.327328Z"
    },
    "trusted": true
   },
   "outputs": [],
   "source": [
    "%%time\n",
    "\n",
    "# early_stopping = tf.keras.callbacks.EarlyStopping(\n",
    "#     monitor='val_loss',\n",
    "#     patience=25, # training will stop if there's no improvement in validation loss for 25 consecutive epochs\n",
    "#     restore_best_weights=True, # estores the best weights when training stops\n",
    "#     verbose=1\n",
    "# )\n",
    "\n",
    "# Train the model\n",
    "history = model.fit(\n",
    "    train_set, \n",
    "    validation_data=valid_set, \n",
    "    epochs=47\n",
    "#     callbacks=[early_stopping]\n",
    ")"
   ]
  },
  {
   "cell_type": "code",
   "execution_count": null,
   "metadata": {
    "trusted": true
   },
   "outputs": [],
   "source": [
    "# Visualize training history\n",
    "sns.set(style=\"whitegrid\")\n",
    "plt.figure(figsize=(12, 6))\n",
    "\n",
    "# Plot training & validation accuracy values\n",
    "plt.subplot(1, 2, 1)\n",
    "plt.plot(history.history['accuracy'])\n",
    "plt.plot(history.history['val_accuracy'])\n",
    "plt.title('Model Accuracy')\n",
    "plt.xlabel('Epoch')\n",
    "plt.ylabel('Accuracy')\n",
    "plt.legend(['Train', 'Validation'], loc='upper left')\n",
    "\n",
    "# Plot training & validation loss values\n",
    "plt.subplot(1, 2, 2)\n",
    "plt.plot(history.history['loss'])\n",
    "plt.plot(history.history['val_loss'])\n",
    "plt.title('Model Loss')\n",
    "plt.xlabel('Epoch')\n",
    "plt.ylabel('Loss')\n",
    "plt.legend(['Train', 'Validation'], loc='upper left')\n",
    "\n",
    "plt.tight_layout()\n",
    "plt.show()"
   ]
  },
  {
   "cell_type": "code",
   "execution_count": null,
   "metadata": {
    "trusted": true
   },
   "outputs": [],
   "source": [
    "# Evaluate the model on the test set\n",
    "test_loss, test_accuracy = model.evaluate(X_test, y_test)\n",
    "print(f\"\\nTest Loss: {test_loss:.4f}\")\n",
    "print(f\"Test Accuracy: {test_accuracy:.4f}\")"
   ]
  },
  {
   "cell_type": "code",
   "execution_count": null,
   "metadata": {
    "execution": {
     "iopub.execute_input": "2024-01-24T07:49:18.708189Z",
     "iopub.status.busy": "2024-01-24T07:49:18.707516Z",
     "iopub.status.idle": "2024-01-24T07:49:52.344173Z",
     "shell.execute_reply": "2024-01-24T07:49:52.343156Z",
     "shell.execute_reply.started": "2024-01-24T07:49:18.708157Z"
    },
    "trusted": true
   },
   "outputs": [],
   "source": [
    "from sklearn.metrics import confusion_matrix, classification_report\n",
    "\n",
    "# Confusion matrix\n",
    "y_pred = (model.predict(X_test) > 0.5).astype(\"int32\")\n",
    "conf_mat = confusion_matrix(y_test, y_pred)\n",
    "\n",
    "# Confusion matrix\n",
    "plt.figure(figsize=(6, 6))\n",
    "sns.heatmap(conf_mat, annot=True, fmt='d', cmap='Blues', cbar=False, annot_kws={\"size\": 16})\n",
    "plt.title('Confusion Matrix')\n",
    "plt.xlabel('Predicted')\n",
    "plt.ylabel('True')\n",
    "plt.show()"
   ]
  },
  {
   "cell_type": "code",
   "execution_count": null,
   "metadata": {
    "execution": {
     "iopub.execute_input": "2024-01-24T07:49:59.098875Z",
     "iopub.status.busy": "2024-01-24T07:49:59.09823Z",
     "iopub.status.idle": "2024-01-24T07:49:59.118977Z",
     "shell.execute_reply": "2024-01-24T07:49:59.118078Z",
     "shell.execute_reply.started": "2024-01-24T07:49:59.098838Z"
    },
    "trusted": true
   },
   "outputs": [],
   "source": [
    "# Classification report\n",
    "print(\"\\nClassification Report:\")\n",
    "print(classification_report(y_test, y_pred))"
   ]
  },
  {
   "cell_type": "code",
   "execution_count": null,
   "metadata": {
    "execution": {
     "iopub.execute_input": "2024-01-22T18:25:36.314765Z",
     "iopub.status.busy": "2024-01-22T18:25:36.314399Z",
     "iopub.status.idle": "2024-01-22T18:25:37.592783Z",
     "shell.execute_reply": "2024-01-22T18:25:37.591846Z",
     "shell.execute_reply.started": "2024-01-22T18:25:36.314731Z"
    },
    "trusted": true
   },
   "outputs": [],
   "source": [
    "model.save('redeepfake_model.h5')"
   ]
  },
  {
   "cell_type": "code",
   "execution_count": null,
   "metadata": {
    "execution": {
     "iopub.execute_input": "2024-01-22T18:25:37.594869Z",
     "iopub.status.busy": "2024-01-22T18:25:37.594557Z",
     "iopub.status.idle": "2024-01-22T18:25:44.484778Z",
     "shell.execute_reply": "2024-01-22T18:25:44.483976Z",
     "shell.execute_reply.started": "2024-01-22T18:25:37.594842Z"
    },
    "trusted": true
   },
   "outputs": [],
   "source": [
    "model_path = '/kaggle/input/redeepfake-model-h5/redeepfake_model.h5'\n",
    "model = tf.keras.models.load_model(model_path)"
   ]
  },
  {
   "cell_type": "code",
   "execution_count": null,
   "metadata": {
    "execution": {
     "iopub.execute_input": "2024-01-22T18:25:44.48645Z",
     "iopub.status.busy": "2024-01-22T18:25:44.486163Z",
     "iopub.status.idle": "2024-01-22T18:25:44.491861Z",
     "shell.execute_reply": "2024-01-22T18:25:44.490826Z",
     "shell.execute_reply.started": "2024-01-22T18:25:44.486425Z"
    },
    "trusted": true
   },
   "outputs": [],
   "source": [
    "def preprocess_image(image_path):\n",
    "    img = cv2.imread(image_path)\n",
    "    img = cv2.resize(img, (224, 224))\n",
    "    img = tf.keras.applications.efficientnet.preprocess_input(img)\n",
    "    return img"
   ]
  },
  {
   "cell_type": "code",
   "execution_count": null,
   "metadata": {
    "execution": {
     "iopub.execute_input": "2024-01-22T18:25:44.493998Z",
     "iopub.status.busy": "2024-01-22T18:25:44.493248Z",
     "iopub.status.idle": "2024-01-22T18:25:44.502853Z",
     "shell.execute_reply": "2024-01-22T18:25:44.502009Z",
     "shell.execute_reply.started": "2024-01-22T18:25:44.493949Z"
    },
    "trusted": true
   },
   "outputs": [],
   "source": [
    "test_image_paths = []\n",
    "for idx,i in enumerate(Test_set.index[125:150]):\n",
    "    test_image_paths.append(('../input/deepfake-faces/faces_224/'+Test_set.loc[i,'videoname'][:-4]+'.jpg', Test_set.loc[i,'label']))"
   ]
  },
  {
   "cell_type": "code",
   "execution_count": null,
   "metadata": {
    "execution": {
     "iopub.execute_input": "2024-01-22T18:25:44.504388Z",
     "iopub.status.busy": "2024-01-22T18:25:44.504042Z"
    },
    "trusted": true
   },
   "outputs": [],
   "source": [
    "plt.figure(figsize=(15,15), dpi=300)\n",
    "\n",
    "for idx, (image_path, label) in enumerate(test_image_paths):\n",
    "    processed_image = preprocess_image(image_path)\n",
    "    processed_image = np.expand_dims(processed_image, axis=0)\n",
    "    prediction = model.predict(processed_image)\n",
    "    \n",
    "    # Threshold for binary classification: 0.33\n",
    "    predicted_class = \"FAKE\" if prediction[0, 0] > 0.33 else \"REAL\"\n",
    "    \n",
    "    plt.subplot(5,5,idx+1)\n",
    "    plt.xticks([])\n",
    "    plt.yticks([])\n",
    "    plt.grid(False)\n",
    "    \n",
    "    img = cv2.imread(image_path)\n",
    "    img = cv2.cvtColor(img, cv2.COLOR_BGR2RGB)\n",
    "    plt.imshow(img)\n",
    "    \n",
    "    plt.xlabel(f'{predicted_class} | {prediction[0, 0]:.2f} | {\"T\" if predicted_class == label else \"F\"}')\n",
    "    \n",
    "plt.tight_layout()\n",
    "plt.show()"
   ]
  }
 ],
 "metadata": {
  "kaggle": {
   "accelerator": "nvidiaTeslaT4",
   "dataSources": [
    {
     "datasetId": 464091,
     "sourceId": 924245,
     "sourceType": "datasetVersion"
    },
    {
     "datasetId": 4307692,
     "sourceId": 7471579,
     "sourceType": "datasetVersion"
    }
   ],
   "dockerImageVersionId": 30627,
   "isGpuEnabled": true,
   "isInternetEnabled": true,
   "language": "python",
   "sourceType": "notebook"
  },
  "kernelspec": {
   "display_name": "Python 3",
   "language": "python",
   "name": "python3"
  },
  "language_info": {
   "codemirror_mode": {
    "name": "ipython",
    "version": 3
   },
   "file_extension": ".py",
   "mimetype": "text/x-python",
   "name": "python",
   "nbconvert_exporter": "python",
   "pygments_lexer": "ipython3",
   "version": "3.10.12"
  }
 },
 "nbformat": 4,
 "nbformat_minor": 4
}
