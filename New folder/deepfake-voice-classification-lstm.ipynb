{
 "cells": [
  {
   "cell_type": "code",
   "execution_count": null,
   "metadata": {
    "_cell_guid": "b1076dfc-b9ad-4769-8c92-a6c4dae69d19",
    "_uuid": "8f2839f25d086af736a60e9eeb907d3b93b6e0e5",
    "execution": {
     "iopub.execute_input": "2024-07-02T16:47:20.981744Z",
     "iopub.status.busy": "2024-07-02T16:47:20.981389Z",
     "iopub.status.idle": "2024-07-02T16:47:20.99384Z",
     "shell.execute_reply": "2024-07-02T16:47:20.992854Z",
     "shell.execute_reply.started": "2024-07-02T16:47:20.981715Z"
    },
    "trusted": true
   },
   "outputs": [],
   "source": [
    "import pandas as pd\n",
    "import numpy as np\n",
    "import librosa\n",
    "import warnings\n",
    "import matplotlib.pyplot as plt\n",
    "import seaborn as sns\n",
    "from tensorflow.keras.models import Sequential\n",
    "from tensorflow.keras.layers import (\n",
    "    Input,\n",
    "    Conv1D,\n",
    "    LSTM,\n",
    "    Bidirectional,\n",
    "    Dropout,\n",
    "    BatchNormalization,\n",
    "    Dense,\n",
    "    MaxPooling1D,\n",
    "    concatenate,\n",
    "    GlobalAveragePooling1D,\n",
    "    Flatten,\n",
    ")\n",
    "\n",
    "from tqdm.notebook import tqdm\n",
    "import tensorflow as tf\n",
    "from tensorflow.keras import optimizers\n",
    "from tensorflow.keras.models import Model\n",
    "from tensorflow.keras.losses import BinaryCrossentropy\n",
    "from tensorflow.keras.callbacks import EarlyStopping, ModelCheckpoint\n",
    "from keras.models import save_model, load_model\n",
    "from tensorflow.keras.regularizers import l2\n",
    "from tensorflow.keras.optimizers import Adam\n",
    "from sklearn.model_selection import train_test_split\n",
    "from sklearn.preprocessing import LabelEncoder\n",
    "\n",
    "from xgboost import XGBClassifier\n",
    "from sklearn.tree import DecisionTreeClassifier\n",
    "from sklearn.ensemble import RandomForestClassifier, GradientBoostingClassifier, AdaBoostClassifier\n",
    "from sklearn.linear_model import LogisticRegression\n",
    "from sklearn.neighbors import KNeighborsClassifier\n",
    "from catboost import CatBoostClassifier\n",
    "\n",
    "from sklearn import preprocessing\n",
    "from sklearn.model_selection import train_test_split\n",
    "from sklearn.preprocessing import MinMaxScaler\n",
    "from sklearn.svm import SVC\n",
    "from sklearn.metrics import accuracy_score, f1_score, roc_auc_score, recall_score, precision_score, confusion_matrix, roc_curve\n",
    "\n",
    "import seaborn as sns\n",
    "warnings.filterwarnings(\"ignore\", category=FutureWarning, module=\"seaborn\")\n",
    "np.random.seed(42)\n",
    "tf.random.set_seed(42)\n"
   ]
  },
  {
   "cell_type": "code",
   "execution_count": null,
   "metadata": {
    "execution": {
     "iopub.execute_input": "2024-07-02T16:47:21.007245Z",
     "iopub.status.busy": "2024-07-02T16:47:21.006935Z",
     "iopub.status.idle": "2024-07-02T16:47:21.156299Z",
     "shell.execute_reply": "2024-07-02T16:47:21.155274Z",
     "shell.execute_reply.started": "2024-07-02T16:47:21.00722Z"
    },
    "trusted": true
   },
   "outputs": [],
   "source": [
    "data_path = \"/kaggle/input/deep-voice-deepfake-voice-recognition/KAGGLE/DATASET-balanced.csv\"\n",
    "df = pd.read_csv(data_path)\n",
    "df.head()"
   ]
  },
  {
   "cell_type": "code",
   "execution_count": null,
   "metadata": {
    "execution": {
     "iopub.execute_input": "2024-07-02T16:47:21.158491Z",
     "iopub.status.busy": "2024-07-02T16:47:21.158162Z",
     "iopub.status.idle": "2024-07-02T16:47:21.44317Z",
     "shell.execute_reply": "2024-07-02T16:47:21.442173Z",
     "shell.execute_reply.started": "2024-07-02T16:47:21.158464Z"
    },
    "trusted": true
   },
   "outputs": [],
   "source": [
    "plt.figure(figsize=(10, 6))\n",
    "sns.countplot(data=df, x='LABEL')\n",
    "\n",
    "for p in plt.gca().patches:\n",
    "    plt.text(p.get_x() + p.get_width() / 2, p.get_height() + 0.1, int(p.get_height()), \n",
    "             ha='center', va='bottom')\n",
    "\n",
    "plt.show()"
   ]
  },
  {
   "cell_type": "code",
   "execution_count": null,
   "metadata": {
    "execution": {
     "iopub.execute_input": "2024-07-02T16:47:21.444774Z",
     "iopub.status.busy": "2024-07-02T16:47:21.444482Z",
     "iopub.status.idle": "2024-07-02T16:47:21.452958Z",
     "shell.execute_reply": "2024-07-02T16:47:21.451952Z",
     "shell.execute_reply.started": "2024-07-02T16:47:21.444749Z"
    },
    "trusted": true
   },
   "outputs": [],
   "source": [
    "label_encoder = LabelEncoder()\n",
    "df['LABEL'] = label_encoder.fit_transform(df['LABEL'])"
   ]
  },
  {
   "cell_type": "code",
   "execution_count": null,
   "metadata": {
    "execution": {
     "iopub.execute_input": "2024-07-02T16:47:21.456574Z",
     "iopub.status.busy": "2024-07-02T16:47:21.455987Z",
     "iopub.status.idle": "2024-07-02T16:47:21.467114Z",
     "shell.execute_reply": "2024-07-02T16:47:21.466057Z",
     "shell.execute_reply.started": "2024-07-02T16:47:21.456546Z"
    },
    "trusted": true
   },
   "outputs": [],
   "source": [
    "y = df['LABEL']\n",
    "X = df.drop('LABEL', axis = 1)"
   ]
  },
  {
   "cell_type": "code",
   "execution_count": null,
   "metadata": {
    "execution": {
     "iopub.execute_input": "2024-07-02T16:47:21.469258Z",
     "iopub.status.busy": "2024-07-02T16:47:21.468614Z",
     "iopub.status.idle": "2024-07-02T16:47:43.164546Z",
     "shell.execute_reply": "2024-07-02T16:47:43.163549Z",
     "shell.execute_reply.started": "2024-07-02T16:47:21.469218Z"
    },
    "trusted": true
   },
   "outputs": [],
   "source": [
    "for column in X:\n",
    "    plt.figure(figsize=(10, 6))\n",
    "    sns.histplot(data=df, x=column, hue='LABEL', kde=True, palette=['blue', 'orange'])\n",
    "    plt.title(f'Distribution of {column}')\n",
    "    plt.xlabel(column)\n",
    "    plt.ylabel('Count')\n",
    "    plt.legend(labels=['Fake', 'Real'])\n",
    "    plt.show()"
   ]
  },
  {
   "cell_type": "code",
   "execution_count": null,
   "metadata": {
    "execution": {
     "iopub.execute_input": "2024-07-02T16:47:43.166283Z",
     "iopub.status.busy": "2024-07-02T16:47:43.165937Z",
     "iopub.status.idle": "2024-07-02T16:47:45.860076Z",
     "shell.execute_reply": "2024-07-02T16:47:45.859053Z",
     "shell.execute_reply.started": "2024-07-02T16:47:43.166255Z"
    },
    "trusted": true
   },
   "outputs": [],
   "source": [
    "correlation_matrix = df.corr()\n",
    "plt.figure(figsize=(20, 8))\n",
    "sns.heatmap(correlation_matrix, cmap='coolwarm', annot = True)\n",
    "plt.title('Correlation Matrix')\n",
    "plt.tight_layout()\n",
    "plt.show()"
   ]
  },
  {
   "cell_type": "code",
   "execution_count": null,
   "metadata": {
    "execution": {
     "iopub.execute_input": "2024-07-02T16:47:45.861689Z",
     "iopub.status.busy": "2024-07-02T16:47:45.861379Z",
     "iopub.status.idle": "2024-07-02T16:47:45.868339Z",
     "shell.execute_reply": "2024-07-02T16:47:45.867339Z",
     "shell.execute_reply.started": "2024-07-02T16:47:45.861662Z"
    },
    "trusted": true
   },
   "outputs": [],
   "source": [
    "def prepare_data(X, window_size = 10):\n",
    "    \n",
    "    data = []\n",
    "    \n",
    "    for i in range(len(X)):\n",
    "        row = X.iloc[i].values\n",
    "        row_data = []\n",
    "        for j in range(len(row) - window_size):\n",
    "            window = row[j : j + window_size]\n",
    "            row_data.append(window)\n",
    "        data.append(row_data)\n",
    "        \n",
    "    return np.array(data)"
   ]
  },
  {
   "cell_type": "code",
   "execution_count": null,
   "metadata": {
    "execution": {
     "iopub.execute_input": "2024-07-02T16:47:45.870084Z",
     "iopub.status.busy": "2024-07-02T16:47:45.869716Z",
     "iopub.status.idle": "2024-07-02T16:47:46.629482Z",
     "shell.execute_reply": "2024-07-02T16:47:46.628602Z",
     "shell.execute_reply.started": "2024-07-02T16:47:45.870057Z"
    },
    "trusted": true
   },
   "outputs": [],
   "source": [
    "X.iloc[:, :] = MinMaxScaler().fit_transform(X)\n",
    "new_X = prepare_data(X, window_size = 5)"
   ]
  },
  {
   "cell_type": "code",
   "execution_count": null,
   "metadata": {
    "execution": {
     "iopub.execute_input": "2024-07-02T16:47:46.630899Z",
     "iopub.status.busy": "2024-07-02T16:47:46.630603Z",
     "iopub.status.idle": "2024-07-02T16:47:46.654959Z",
     "shell.execute_reply": "2024-07-02T16:47:46.654247Z",
     "shell.execute_reply.started": "2024-07-02T16:47:46.630874Z"
    },
    "trusted": true
   },
   "outputs": [],
   "source": [
    "X_train, X_test, y_train, y_test = train_test_split(new_X, y.values, test_size=0.2, shuffle = True, stratify = y.values, random_state=42)\n",
    "X_train, X_val, y_train, y_val = train_test_split(X_train, y_train, test_size=0.2, shuffle = True, stratify = y_train, random_state=42)"
   ]
  },
  {
   "cell_type": "code",
   "execution_count": null,
   "metadata": {
    "execution": {
     "iopub.execute_input": "2024-07-02T16:55:45.324149Z",
     "iopub.status.busy": "2024-07-02T16:55:45.323388Z",
     "iopub.status.idle": "2024-07-02T16:55:45.433932Z",
     "shell.execute_reply": "2024-07-02T16:55:45.433001Z",
     "shell.execute_reply.started": "2024-07-02T16:55:45.324114Z"
    },
    "trusted": true
   },
   "outputs": [],
   "source": [
    "model = Sequential()\n",
    "\n",
    "input_shape = (X_train.shape[1], X_train.shape[2])\n",
    "model.add(Input(shape=input_shape))\n",
    "model.add(LSTM(64, return_sequences=True))\n",
    "model.add(Dropout(0.2))\n",
    "model.add(LSTM(64, return_sequences = False))\n",
    "model.add(Dropout(0.2))\n",
    "model.add(Dense(32 , activation = 'relu'))\n",
    "model.add(Dense(1, activation = 'sigmoid'))\n",
    "\n",
    "optimizer = optimizers.Adam(learning_rate=0.001)\n",
    "model.compile(optimizer=optimizer, loss = BinaryCrossentropy(), metrics=['accuracy'])\n",
    "model.summary()"
   ]
  },
  {
   "cell_type": "code",
   "execution_count": null,
   "metadata": {
    "execution": {
     "iopub.execute_input": "2024-07-02T16:47:47.980233Z",
     "iopub.status.busy": "2024-07-02T16:47:47.979905Z",
     "iopub.status.idle": "2024-07-02T16:47:47.98489Z",
     "shell.execute_reply": "2024-07-02T16:47:47.983717Z",
     "shell.execute_reply.started": "2024-07-02T16:47:47.980205Z"
    },
    "trusted": true
   },
   "outputs": [],
   "source": [
    "callback = [\n",
    "    ModelCheckpoint(filepath='model.keras'),\n",
    "]"
   ]
  },
  {
   "cell_type": "code",
   "execution_count": null,
   "metadata": {
    "execution": {
     "iopub.execute_input": "2024-07-02T16:47:47.986741Z",
     "iopub.status.busy": "2024-07-02T16:47:47.986433Z",
     "iopub.status.idle": "2024-07-02T16:49:42.192365Z",
     "shell.execute_reply": "2024-07-02T16:49:42.191374Z",
     "shell.execute_reply.started": "2024-07-02T16:47:47.986713Z"
    },
    "trusted": true
   },
   "outputs": [],
   "source": [
    "history = model.fit(X_train, y_train, batch_size=32, epochs=60, validation_data = (X_val, y_val), callbacks = callback)"
   ]
  },
  {
   "cell_type": "code",
   "execution_count": null,
   "metadata": {
    "execution": {
     "iopub.execute_input": "2024-07-02T16:53:50.586537Z",
     "iopub.status.busy": "2024-07-02T16:53:50.585777Z",
     "iopub.status.idle": "2024-07-02T16:53:50.730781Z",
     "shell.execute_reply": "2024-07-02T16:53:50.729937Z",
     "shell.execute_reply.started": "2024-07-02T16:53:50.5865Z"
    },
    "trusted": true
   },
   "outputs": [],
   "source": [
    "model = load_model('model.keras')"
   ]
  },
  {
   "cell_type": "code",
   "execution_count": null,
   "metadata": {
    "execution": {
     "iopub.execute_input": "2024-07-02T16:49:57.146839Z",
     "iopub.status.busy": "2024-07-02T16:49:57.146094Z",
     "iopub.status.idle": "2024-07-02T16:49:57.464857Z",
     "shell.execute_reply": "2024-07-02T16:49:57.46364Z",
     "shell.execute_reply.started": "2024-07-02T16:49:57.146765Z"
    },
    "trusted": true
   },
   "outputs": [],
   "source": [
    "%%time\n",
    "y_pred = np.round(model.predict(X_test).flatten())"
   ]
  },
  {
   "cell_type": "code",
   "execution_count": null,
   "metadata": {
    "execution": {
     "iopub.execute_input": "2024-07-02T16:50:00.125206Z",
     "iopub.status.busy": "2024-07-02T16:50:00.12479Z",
     "iopub.status.idle": "2024-07-02T16:50:00.142865Z",
     "shell.execute_reply": "2024-07-02T16:50:00.141709Z",
     "shell.execute_reply.started": "2024-07-02T16:50:00.125175Z"
    },
    "trusted": true
   },
   "outputs": [],
   "source": [
    "accuracy = accuracy_score(y_test, y_pred)\n",
    "f1 = f1_score(y_test, y_pred)\n",
    "roc_auc = roc_auc_score(y_test, y_pred)\n",
    "recall = recall_score(y_test, y_pred)\n",
    "precision = precision_score(y_test, y_pred)"
   ]
  },
  {
   "cell_type": "code",
   "execution_count": null,
   "metadata": {
    "execution": {
     "iopub.execute_input": "2024-07-02T16:50:01.168333Z",
     "iopub.status.busy": "2024-07-02T16:50:01.167612Z",
     "iopub.status.idle": "2024-07-02T16:50:01.174319Z",
     "shell.execute_reply": "2024-07-02T16:50:01.173335Z",
     "shell.execute_reply.started": "2024-07-02T16:50:01.168298Z"
    },
    "trusted": true
   },
   "outputs": [],
   "source": [
    "print(\"Accuracy: \", accuracy)\n",
    "print(\"F1 Score: \", f1)\n",
    "print(\"Recall: \", recall)\n",
    "print(\"Precision: \", precision)"
   ]
  },
  {
   "cell_type": "code",
   "execution_count": null,
   "metadata": {
    "execution": {
     "iopub.execute_input": "2024-07-02T16:50:03.759707Z",
     "iopub.status.busy": "2024-07-02T16:50:03.759321Z",
     "iopub.status.idle": "2024-07-02T16:50:03.969571Z",
     "shell.execute_reply": "2024-07-02T16:50:03.968534Z",
     "shell.execute_reply.started": "2024-07-02T16:50:03.759675Z"
    },
    "trusted": true
   },
   "outputs": [],
   "source": [
    "ax = sns.heatmap(confusion_matrix(y_test, y_pred), annot= True, fmt='.4g')\n",
    "ax.xaxis.set_ticklabels(['Fake', 'Real'])\n",
    "ax.yaxis.set_ticklabels(['Fake', 'Real'])\n",
    "plt.show()"
   ]
  },
  {
   "cell_type": "code",
   "execution_count": null,
   "metadata": {
    "execution": {
     "iopub.execute_input": "2024-07-02T16:50:08.59901Z",
     "iopub.status.busy": "2024-07-02T16:50:08.598588Z",
     "iopub.status.idle": "2024-07-02T16:50:08.604342Z",
     "shell.execute_reply": "2024-07-02T16:50:08.603205Z",
     "shell.execute_reply.started": "2024-07-02T16:50:08.598977Z"
    },
    "trusted": true
   },
   "outputs": [],
   "source": [
    "acc = history.history['accuracy']\n",
    "val_acc = history.history['val_accuracy']\n",
    "\n",
    "loss = history.history['loss']\n",
    "val_loss = history.history['val_loss']"
   ]
  },
  {
   "cell_type": "code",
   "execution_count": null,
   "metadata": {
    "execution": {
     "iopub.execute_input": "2024-07-02T16:50:12.364082Z",
     "iopub.status.busy": "2024-07-02T16:50:12.363122Z",
     "iopub.status.idle": "2024-07-02T16:50:12.889261Z",
     "shell.execute_reply": "2024-07-02T16:50:12.888249Z",
     "shell.execute_reply.started": "2024-07-02T16:50:12.364043Z"
    },
    "trusted": true
   },
   "outputs": [],
   "source": [
    "plt.figure(figsize=(14, 8))\n",
    "plt.subplot(1, 2, 1)\n",
    "EPOCHS = len(acc)\n",
    "plt.plot(range(EPOCHS), acc, label='Training Accuracy')\n",
    "plt.plot(range(EPOCHS), val_acc, label='Validation Accuracy')\n",
    "plt.legend(loc='lower right')\n",
    "plt.title('Training and Validation Accuracy')\n",
    "\n",
    "plt.subplot(1, 2, 2)\n",
    "plt.plot(range(EPOCHS), loss, label='Training Loss')\n",
    "plt.plot(range(EPOCHS), val_loss, label='Validation Loss')\n",
    "plt.legend(loc='upper right')\n",
    "plt.title('Training and Validation Loss')\n",
    "plt.show()"
   ]
  },
  {
   "cell_type": "code",
   "execution_count": null,
   "metadata": {
    "execution": {
     "iopub.execute_input": "2024-07-02T16:50:47.222808Z",
     "iopub.status.busy": "2024-07-02T16:50:47.222448Z",
     "iopub.status.idle": "2024-07-02T16:50:47.229209Z",
     "shell.execute_reply": "2024-07-02T16:50:47.228243Z",
     "shell.execute_reply.started": "2024-07-02T16:50:47.222766Z"
    },
    "trusted": true
   },
   "outputs": [],
   "source": [
    "from scipy.ndimage import gaussian_filter1d\n",
    "\n",
    "sacc = gaussian_filter1d(acc, sigma=2)\n",
    "sval_acc = gaussian_filter1d(val_acc, sigma=2)\n",
    "\n",
    "sloss = gaussian_filter1d(loss, sigma=2)\n",
    "sval_loss = gaussian_filter1d(val_loss, sigma=2)"
   ]
  },
  {
   "cell_type": "code",
   "execution_count": null,
   "metadata": {
    "execution": {
     "iopub.execute_input": "2024-07-02T16:50:56.405471Z",
     "iopub.status.busy": "2024-07-02T16:50:56.405085Z",
     "iopub.status.idle": "2024-07-02T16:50:56.979314Z",
     "shell.execute_reply": "2024-07-02T16:50:56.978203Z",
     "shell.execute_reply.started": "2024-07-02T16:50:56.405439Z"
    },
    "trusted": true
   },
   "outputs": [],
   "source": [
    "plt.figure(figsize=(14, 8))\n",
    "plt.subplot(1, 2, 1)\n",
    "plt.plot(range(EPOCHS), sacc, label='Training Accuracy')\n",
    "plt.plot(range(EPOCHS), sval_acc, label='Validation Accuracy')\n",
    "plt.legend(loc='lower right')\n",
    "plt.title('Training and Validation Accuracy (Smoothed)')\n",
    "\n",
    "plt.subplot(1, 2, 2)\n",
    "plt.plot(range(EPOCHS), sloss, label='Training Loss')\n",
    "plt.plot(range(EPOCHS), sval_loss, label='Validation Loss')\n",
    "plt.legend(loc='upper right')\n",
    "plt.title('Training and Validation Loss (Smoothed)')\n",
    "plt.show()"
   ]
  }
 ],
 "metadata": {
  "kaggle": {
   "accelerator": "none",
   "dataSources": [
    {
     "datasetId": 3579787,
     "sourceId": 6358196,
     "sourceType": "datasetVersion"
    }
   ],
   "dockerImageVersionId": 30698,
   "isGpuEnabled": false,
   "isInternetEnabled": true,
   "language": "python",
   "sourceType": "notebook"
  },
  "kernelspec": {
   "display_name": "Python 3",
   "language": "python",
   "name": "python3"
  },
  "language_info": {
   "codemirror_mode": {
    "name": "ipython",
    "version": 3
   },
   "file_extension": ".py",
   "mimetype": "text/x-python",
   "name": "python",
   "nbconvert_exporter": "python",
   "pygments_lexer": "ipython3",
   "version": "3.10.13"
  }
 },
 "nbformat": 4,
 "nbformat_minor": 4
}
